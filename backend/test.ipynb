{
 "cells": [
  {
   "cell_type": "markdown",
   "metadata": {},
   "source": [
    "# Assignment for AI4PH - Developing and Deploying Transparent and Reproducible Algorithms for Public Health"
   ]
  },
  {
   "cell_type": "markdown",
   "metadata": {},
   "source": [
    "## Introduction\n",
    "\n",
    "This assignment demonstrates the whole workflow for building and evaluating a simple classification model using `tidymodels`, and implementing it using `plumber`. The `stroke` model used in this workflow was trained and evaluated using a harmonized `valid_data.rds` dataset provided in class."
   ]
  },
  {
   "cell_type": "markdown",
   "metadata": {},
   "source": [
    "### Load necessary packages"
   ]
  },
  {
   "cell_type": "code",
   "execution_count": 40,
   "metadata": {
    "vscode": {
     "languageId": "r"
    }
   },
   "outputs": [
    {
     "name": "stderr",
     "output_type": "stream",
     "text": [
      "-- \u001b[1mAttaching core tidyverse packages\u001b[22m ------------------------ tidyverse 2.0.0 --\n",
      "\u001b[32mv\u001b[39m \u001b[34mdplyr    \u001b[39m 1.1.4     \u001b[32mv\u001b[39m \u001b[34mreadr    \u001b[39m 2.1.5\n",
      "\u001b[32mv\u001b[39m \u001b[34mforcats  \u001b[39m 1.0.0     \u001b[32mv\u001b[39m \u001b[34mstringr  \u001b[39m 1.5.1\n",
      "\u001b[32mv\u001b[39m \u001b[34mggplot2  \u001b[39m 3.4.4     \u001b[32mv\u001b[39m \u001b[34mtibble   \u001b[39m 3.2.1\n",
      "\u001b[32mv\u001b[39m \u001b[34mlubridate\u001b[39m 1.9.3     \u001b[32mv\u001b[39m \u001b[34mtidyr    \u001b[39m 1.3.1\n",
      "\u001b[32mv\u001b[39m \u001b[34mpurrr    \u001b[39m 1.0.2     \n",
      "-- \u001b[1mConflicts\u001b[22m ------------------------------------------ tidyverse_conflicts() --\n",
      "\u001b[31mx\u001b[39m \u001b[34mdplyr\u001b[39m::\u001b[32mfilter()\u001b[39m masks \u001b[34mstats\u001b[39m::filter()\n",
      "\u001b[31mx\u001b[39m \u001b[34mdplyr\u001b[39m::\u001b[32mlag()\u001b[39m    masks \u001b[34mstats\u001b[39m::lag()\n",
      "\u001b[36mi\u001b[39m Use the conflicted package (\u001b[3m\u001b[34m<http://conflicted.r-lib.org/>\u001b[39m\u001b[23m) to force all conflicts to become errors\n",
      "-- \u001b[1mAttaching packages\u001b[22m -------------------------------------- tidymodels 1.1.1 --\n",
      "\n",
      "\u001b[32mv\u001b[39m \u001b[34mbroom       \u001b[39m 1.0.5     \u001b[32mv\u001b[39m \u001b[34mrsample     \u001b[39m 1.2.0\n",
      "\u001b[32mv\u001b[39m \u001b[34mdials       \u001b[39m 1.2.0     \u001b[32mv\u001b[39m \u001b[34mtune        \u001b[39m 1.1.2\n",
      "\u001b[32mv\u001b[39m \u001b[34minfer       \u001b[39m 1.0.6     \u001b[32mv\u001b[39m \u001b[34mworkflows   \u001b[39m 1.1.3\n",
      "\u001b[32mv\u001b[39m \u001b[34mmodeldata   \u001b[39m 1.3.0     \u001b[32mv\u001b[39m \u001b[34mworkflowsets\u001b[39m 1.0.1\n",
      "\u001b[32mv\u001b[39m \u001b[34mparsnip     \u001b[39m 1.2.0     \u001b[32mv\u001b[39m \u001b[34myardstick   \u001b[39m 1.3.0\n",
      "\u001b[32mv\u001b[39m \u001b[34mrecipes     \u001b[39m 1.0.9     \n",
      "\n",
      "-- \u001b[1mConflicts\u001b[22m ----------------------------------------- tidymodels_conflicts() --\n",
      "\u001b[31mx\u001b[39m \u001b[34mscales\u001b[39m::\u001b[32mdiscard()\u001b[39m  masks \u001b[34mpurrr\u001b[39m::discard()\n",
      "\u001b[31mx\u001b[39m \u001b[34mdplyr\u001b[39m::\u001b[32mfilter()\u001b[39m    masks \u001b[34mstats\u001b[39m::filter()\n",
      "\u001b[31mx\u001b[39m \u001b[34mrecipes\u001b[39m::\u001b[32mfixed()\u001b[39m   masks \u001b[34mstringr\u001b[39m::fixed()\n",
      "\u001b[31mx\u001b[39m \u001b[34mdplyr\u001b[39m::\u001b[32mlag()\u001b[39m       masks \u001b[34mstats\u001b[39m::lag()\n",
      "\u001b[31mx\u001b[39m \u001b[34mdials\u001b[39m::\u001b[32mneighbors()\u001b[39m masks \u001b[34manalogsea\u001b[39m::neighbors()\n",
      "\u001b[31mx\u001b[39m \u001b[34myardstick\u001b[39m::\u001b[32mspec()\u001b[39m  masks \u001b[34mreadr\u001b[39m::spec()\n",
      "\u001b[31mx\u001b[39m \u001b[34mrecipes\u001b[39m::\u001b[32mstep()\u001b[39m    masks \u001b[34mstats\u001b[39m::step()\n",
      "\u001b[34m*\u001b[39m Search for functions across packages at \u001b[32mhttps://www.tidymodels.org/find/\u001b[39m\n",
      "\n"
     ]
    }
   ],
   "source": [
    "# data manipulation and building and validating models\n",
    "library(tidyverse)\n",
    "\n",
    "# models building and evaluation\n",
    "library(tidymodels)\n",
    "\n",
    "# model implementation\n",
    "library(plumber)\n"
   ]
  },
  {
   "cell_type": "markdown",
   "metadata": {},
   "source": [
    "### Load and prepare the data"
   ]
  },
  {
   "cell_type": "code",
   "execution_count": 41,
   "metadata": {
    "vscode": {
     "languageId": "r"
    }
   },
   "outputs": [],
   "source": [
    "# load the data\n",
    "valid_data <- readRDS(\"valid_data.rds\")"
   ]
  },
  {
   "cell_type": "code",
   "execution_count": 25,
   "metadata": {
    "vscode": {
     "languageId": "r"
    }
   },
   "outputs": [
    {
     "data": {
      "text/html": [
       "<style>\n",
       ".list-inline {list-style: none; margin:0; padding: 0}\n",
       ".list-inline>li {display: inline-block}\n",
       ".list-inline>li:not(:last-child)::after {content: \"\\00b7\"; padding: 0 .5ex}\n",
       "</style>\n",
       "<ol class=list-inline><li>4067</li><li>11</li></ol>\n"
      ],
      "text/latex": [
       "\\begin{enumerate*}\n",
       "\\item 4067\n",
       "\\item 11\n",
       "\\end{enumerate*}\n"
      ],
      "text/markdown": [
       "1. 4067\n",
       "2. 11\n",
       "\n",
       "\n"
      ],
      "text/plain": [
       "[1] 4067   11"
      ]
     },
     "metadata": {},
     "output_type": "display_data"
    }
   ],
   "source": [
    "# show sample size and number of predictors\n",
    "dim(valid_data)"
   ]
  },
  {
   "cell_type": "code",
   "execution_count": 26,
   "metadata": {
    "vscode": {
     "languageId": "r"
    }
   },
   "outputs": [
    {
     "data": {
      "text/html": [
       "<table class=\"dataframe\">\n",
       "<caption>A data.frame: 6 x 11</caption>\n",
       "<thead>\n",
       "\t<tr><th></th><th scope=col>gender</th><th scope=col>age</th><th scope=col>hypertension</th><th scope=col>heart_disease</th><th scope=col>ever_married</th><th scope=col>work_type</th><th scope=col>Residence_type</th><th scope=col>avg_glucose_level</th><th scope=col>bmi</th><th scope=col>smoking_status</th><th scope=col>stroke</th></tr>\n",
       "\t<tr><th></th><th scope=col>&lt;fct&gt;</th><th scope=col>&lt;dbl&gt;</th><th scope=col>&lt;fct&gt;</th><th scope=col>&lt;fct&gt;</th><th scope=col>&lt;fct&gt;</th><th scope=col>&lt;fct&gt;</th><th scope=col>&lt;fct&gt;</th><th scope=col>&lt;dbl&gt;</th><th scope=col>&lt;dbl&gt;</th><th scope=col>&lt;fct&gt;</th><th scope=col>&lt;fct&gt;</th></tr>\n",
       "</thead>\n",
       "<tbody>\n",
       "\t<tr><th scope=row>4</th><td>f</td><td>53.16061</td><td>0</td><td>0</td><td>1</td><td>Self-employed</td><td>Rural</td><td> 96.51475</td><td>40.10887</td><td>never smoked   </td><td>0</td></tr>\n",
       "\t<tr><th scope=row>7</th><td>m</td><td>71.43607</td><td>1</td><td>0</td><td>1</td><td>Self-employed</td><td>Urban</td><td> 72.80908</td><td>33.61018</td><td>formerly smoked</td><td>0</td></tr>\n",
       "\t<tr><th scope=row>9</th><td>m</td><td>57.92308</td><td>0</td><td>0</td><td>1</td><td>Private      </td><td>Urban</td><td> 99.58223</td><td>28.18821</td><td>never smoked   </td><td>0</td></tr>\n",
       "\t<tr><th scope=row>10</th><td>f</td><td>73.22721</td><td>0</td><td>0</td><td>1</td><td>Private      </td><td>Urban</td><td>239.64668</td><td>43.08807</td><td>never smoked   </td><td>0</td></tr>\n",
       "\t<tr><th scope=row>14</th><td>f</td><td>48.62032</td><td>0</td><td>0</td><td>1</td><td>Self-employed</td><td>Urban</td><td> 87.17612</td><td>25.84330</td><td>never smoked   </td><td>0</td></tr>\n",
       "\t<tr><th scope=row>15</th><td>f</td><td>61.45526</td><td>0</td><td>0</td><td>1</td><td>Self-employed</td><td>Urban</td><td> 79.22105</td><td>29.64971</td><td>smokes         </td><td>0</td></tr>\n",
       "</tbody>\n",
       "</table>\n"
      ],
      "text/latex": [
       "A data.frame: 6 x 11\n",
       "\\begin{tabular}{r|lllllllllll}\n",
       "  & gender & age & hypertension & heart\\_disease & ever\\_married & work\\_type & Residence\\_type & avg\\_glucose\\_level & bmi & smoking\\_status & stroke\\\\\n",
       "  & <fct> & <dbl> & <fct> & <fct> & <fct> & <fct> & <fct> & <dbl> & <dbl> & <fct> & <fct>\\\\\n",
       "\\hline\n",
       "\t4 & f & 53.16061 & 0 & 0 & 1 & Self-employed & Rural &  96.51475 & 40.10887 & never smoked    & 0\\\\\n",
       "\t7 & m & 71.43607 & 1 & 0 & 1 & Self-employed & Urban &  72.80908 & 33.61018 & formerly smoked & 0\\\\\n",
       "\t9 & m & 57.92308 & 0 & 0 & 1 & Private       & Urban &  99.58223 & 28.18821 & never smoked    & 0\\\\\n",
       "\t10 & f & 73.22721 & 0 & 0 & 1 & Private       & Urban & 239.64668 & 43.08807 & never smoked    & 0\\\\\n",
       "\t14 & f & 48.62032 & 0 & 0 & 1 & Self-employed & Urban &  87.17612 & 25.84330 & never smoked    & 0\\\\\n",
       "\t15 & f & 61.45526 & 0 & 0 & 1 & Self-employed & Urban &  79.22105 & 29.64971 & smokes          & 0\\\\\n",
       "\\end{tabular}\n"
      ],
      "text/markdown": [
       "\n",
       "A data.frame: 6 x 11\n",
       "\n",
       "| <!--/--> | gender &lt;fct&gt; | age &lt;dbl&gt; | hypertension &lt;fct&gt; | heart_disease &lt;fct&gt; | ever_married &lt;fct&gt; | work_type &lt;fct&gt; | Residence_type &lt;fct&gt; | avg_glucose_level &lt;dbl&gt; | bmi &lt;dbl&gt; | smoking_status &lt;fct&gt; | stroke &lt;fct&gt; |\n",
       "|---|---|---|---|---|---|---|---|---|---|---|---|\n",
       "| 4 | f | 53.16061 | 0 | 0 | 1 | Self-employed | Rural |  96.51475 | 40.10887 | never smoked    | 0 |\n",
       "| 7 | m | 71.43607 | 1 | 0 | 1 | Self-employed | Urban |  72.80908 | 33.61018 | formerly smoked | 0 |\n",
       "| 9 | m | 57.92308 | 0 | 0 | 1 | Private       | Urban |  99.58223 | 28.18821 | never smoked    | 0 |\n",
       "| 10 | f | 73.22721 | 0 | 0 | 1 | Private       | Urban | 239.64668 | 43.08807 | never smoked    | 0 |\n",
       "| 14 | f | 48.62032 | 0 | 0 | 1 | Self-employed | Urban |  87.17612 | 25.84330 | never smoked    | 0 |\n",
       "| 15 | f | 61.45526 | 0 | 0 | 1 | Self-employed | Urban |  79.22105 | 29.64971 | smokes          | 0 |\n",
       "\n"
      ],
      "text/plain": [
       "   gender age      hypertension heart_disease ever_married work_type    \n",
       "4  f      53.16061 0            0             1            Self-employed\n",
       "7  m      71.43607 1            0             1            Self-employed\n",
       "9  m      57.92308 0            0             1            Private      \n",
       "10 f      73.22721 0            0             1            Private      \n",
       "14 f      48.62032 0            0             1            Self-employed\n",
       "15 f      61.45526 0            0             1            Self-employed\n",
       "   Residence_type avg_glucose_level bmi      smoking_status  stroke\n",
       "4  Rural           96.51475         40.10887 never smoked    0     \n",
       "7  Urban           72.80908         33.61018 formerly smoked 0     \n",
       "9  Urban           99.58223         28.18821 never smoked    0     \n",
       "10 Urban          239.64668         43.08807 never smoked    0     \n",
       "14 Urban           87.17612         25.84330 never smoked    0     \n",
       "15 Urban           79.22105         29.64971 smokes          0     "
      ]
     },
     "metadata": {},
     "output_type": "display_data"
    }
   ],
   "source": [
    "# show the first 6 rows\n",
    "head(valid_data) "
   ]
  },
  {
   "cell_type": "code",
   "execution_count": 27,
   "metadata": {
    "vscode": {
     "languageId": "r"
    }
   },
   "outputs": [
    {
     "name": "stdout",
     "output_type": "stream",
     "text": [
      "'data.frame':\t4067 obs. of  11 variables:\n",
      " $ gender           : Factor w/ 2 levels \"f\",\"m\": 1 2 2 1 1 1 1 2 1 1 ...\n",
      " $ age              : num  53.2 71.4 57.9 73.2 48.6 ...\n",
      " $ hypertension     : Factor w/ 2 levels \"0\",\"1\": 1 2 1 1 1 1 1 1 1 1 ...\n",
      " $ heart_disease    : Factor w/ 2 levels \"0\",\"1\": 1 1 1 1 1 1 1 1 1 1 ...\n",
      " $ ever_married     : Factor w/ 2 levels \"0\",\"1\": 2 2 2 2 2 2 2 2 2 2 ...\n",
      " $ work_type        : Factor w/ 3 levels \"Govt_job\",\"Private\",..: 3 3 2 2 3 3 2 2 3 2 ...\n",
      " $ Residence_type   : Factor w/ 2 levels \"Rural\",\"Urban\": 1 2 2 2 2 2 2 1 1 2 ...\n",
      " $ avg_glucose_level: num  96.5 72.8 99.6 239.6 87.2 ...\n",
      " $ bmi              : num  40.1 33.6 28.2 43.1 25.8 ...\n",
      " $ smoking_status   : Factor w/ 3 levels \"formerly smoked\",..: 2 1 2 2 2 3 3 2 2 2 ...\n",
      " $ stroke           : Factor w/ 2 levels \"0\",\"1\": 1 1 1 1 1 1 1 1 1 1 ...\n"
     ]
    }
   ],
   "source": [
    "# show some information about the dataset\n",
    "str(valid_data)"
   ]
  },
  {
   "cell_type": "code",
   "execution_count": 28,
   "metadata": {
    "vscode": {
     "languageId": "r"
    }
   },
   "outputs": [
    {
     "data": {
      "text/plain": [
       " gender        age        hypertension heart_disease ever_married\n",
       " f:2376   Min.   :40.02   0:3064       0:3424        0: 399      \n",
       " m:1691   1st Qu.:54.25   1:1003       1: 643        1:3668      \n",
       "          Median :65.57                                          \n",
       "          Mean   :64.73                                          \n",
       "          3rd Qu.:75.61                                          \n",
       "          Max.   :94.06                                          \n",
       "         work_type    Residence_type avg_glucose_level      bmi       \n",
       " Govt_job     : 598   Rural:1964     Min.   :  4.739   Min.   :10.23  \n",
       " Private      :2349   Urban:2103     1st Qu.: 79.203   1st Qu.:25.32  \n",
       " Self-employed:1120                  Median :106.274   Median :29.45  \n",
       "                                     Mean   :126.685   Mean   :30.27  \n",
       "                                     3rd Qu.:180.149   3rd Qu.:34.15  \n",
       "                                     Max.   :309.123   Max.   :65.03  \n",
       "         smoking_status stroke  \n",
       " formerly smoked:1292   0:1612  \n",
       " never smoked   :2047   1:2455  \n",
       " smokes         : 728           \n",
       "                                \n",
       "                                \n",
       "                                "
      ]
     },
     "metadata": {},
     "output_type": "display_data"
    }
   ],
   "source": [
    "# show the summary information about the dataset\n",
    "summary(valid_data)"
   ]
  },
  {
   "cell_type": "markdown",
   "metadata": {},
   "source": [
    "### Test the saved model on the validation data"
   ]
  },
  {
   "cell_type": "code",
   "execution_count": 42,
   "metadata": {
    "vscode": {
     "languageId": "r"
    }
   },
   "outputs": [],
   "source": [
    "# read in the saved workflow object\n",
    "workflow <- readRDS(\"stroke_lr_workflow.rds\")"
   ]
  },
  {
   "cell_type": "code",
   "execution_count": 30,
   "metadata": {
    "vscode": {
     "languageId": "r"
    }
   },
   "outputs": [
    {
     "name": "stderr",
     "output_type": "stream",
     "text": [
      "Warning message:\n",
      "\"Novel levels found in column 'gender': 'f', 'm'. The levels have been removed, and values have been coerced to 'NA'.\"\n",
      "Warning message:\n",
      "\"Novel levels found in column 'hypertension': '0', '1'. The levels have been removed, and values have been coerced to 'NA'.\"\n",
      "Warning message:\n",
      "\"Novel levels found in column 'heart_disease': '0', '1'. The levels have been removed, and values have been coerced to 'NA'.\"\n",
      "Warning message:\n",
      "\"Novel levels found in column 'ever_married': '0', '1'. The levels have been removed, and values have been coerced to 'NA'.\"\n",
      "Warning message:\n",
      "\"\u001b[1m\u001b[22m\u001b[33m!\u001b[39m There are new levels in a factor: NA\"\n",
      "Warning message:\n",
      "\"\u001b[1m\u001b[22m\u001b[33m!\u001b[39m There are new levels in a factor: NA\"\n",
      "Warning message:\n",
      "\"\u001b[1m\u001b[22m\u001b[33m!\u001b[39m There are new levels in a factor: NA\"\n",
      "Warning message:\n",
      "\"\u001b[1m\u001b[22m\u001b[33m!\u001b[39m There are new levels in a factor: NA\"\n",
      "Warning message:\n",
      "\"\u001b[1m\u001b[22m\u001b[33m!\u001b[39m There are new levels in a factor: Self-employed, Private, and Govt_job\"\n",
      "Warning message:\n",
      "\"\u001b[1m\u001b[22m\u001b[33m!\u001b[39m There are new levels in a factor: never smoked, formerly smoked, and smokes\"\n"
     ]
    }
   ],
   "source": [
    "# predict on the validation data\n",
    "prediction_class <- workflow %>% \n",
    "  predict(new_data = valid_data,\n",
    "          type = 'class')"
   ]
  },
  {
   "cell_type": "markdown",
   "metadata": {},
   "source": [
    "Seems we've run into some issues. The issue at hand stems from the workflow object's inability to recognize various levels within the `valid_data` dataset, resulting in cooercing row values to `NAs`.<br>\n",
    "<br>\n",
    "Comparing the dictionary of the training data (`train_data_variables.csv`) with the summary info of the validation data, we see that the `gender`, `hypertension`, `heart_disease` and `ever_married` columns have different values from what the model expects. <br>\n",
    "<br>\n",
    " To resolve this, we should initially duplicate the dataset to preserve the original data. Following this, we'll employ the `mutate` function from the `dplyr` package to directly modify and rename the values within this copied dataset. Here's how to proceed:\n",
    "\n",
    "1. **Duplicate the Dataset**: Create a copy of the `valid_data` dataset to ensure that the original data remains unaffected by the modifications we're about to make.\n",
    "\n",
    "2. **Update Values Using `mutate`**: With the copied dataset, utilize `dplyr`'s `mutate` function to rename or update the values in-place, addressing the issue of unrecognized levels.\n",
    "\n",
    "<br>\n",
    "<br>\n",
    "\n",
    "Additionally, to help with clarity with inputting data from the frontend, the `work_type` and `smoking_status` columns would be updated as well.\n",
    "\n"
   ]
  },
  {
   "cell_type": "markdown",
   "metadata": {},
   "source": [
    "### Harmonize the data"
   ]
  },
  {
   "cell_type": "code",
   "execution_count": 45,
   "metadata": {
    "vscode": {
     "languageId": "r"
    }
   },
   "outputs": [],
   "source": [
    "# make a copy of the valid data\n",
    "harmonized_valid_data <- valid_data\n"
   ]
  },
  {
   "cell_type": "code",
   "execution_count": 46,
   "metadata": {
    "vscode": {
     "languageId": "r"
    }
   },
   "outputs": [],
   "source": [
    "# Renaming the values\n",
    "harmonized_valid_data <- harmonized_valid_data %>%\n",
    "  mutate(work_type = case_when(\n",
    "    work_type == \"Self-employed\" ~ \"Self Employed\",\n",
    "    work_type == \"Private\" ~ \"Private Sector Employee\",\n",
    "    work_type == \"Govt_job\" ~ \"Public Sector Employee\",\n",
    "    TRUE ~ work_type # Default case to leave any other values unchanged\n",
    "  ))\n",
    "harmonized_valid_data <- harmonized_valid_data %>%\n",
    "  mutate(smoking_status = case_when(\n",
    "    smoking_status == \"never smoked\" ~ \"Never Smoked\",\n",
    "    smoking_status == \"formerly smoked\" ~ \"Former Smoker\",\n",
    "    smoking_status == \"smokes\" ~ \"Current Smoker\",\n",
    "    TRUE ~ smoking_status \n",
    "  ))\n",
    "harmonized_valid_data <- harmonized_valid_data %>%\n",
    "  mutate(gender = case_when(\n",
    "    gender == \"f\" ~ \"F\",\n",
    "    gender == \"m\" ~ \"M\",\n",
    "    TRUE ~ gender \n",
    "  ))\n",
    "\n",
    "harmonized_valid_data <- harmonized_valid_data %>%\n",
    "  mutate(hypertension = factor(hypertension, levels = c(\"0\", \"1\"), labels = c(\"No\", \"Yes\")))\n",
    "\n",
    "harmonized_valid_data <- harmonized_valid_data %>%\n",
    "  mutate(ever_married = factor(ever_married, levels = c(\"0\", \"1\"), labels = c(\"No\", \"Yes\")))\n",
    "\n",
    "harmonized_valid_data <- harmonized_valid_data %>%\n",
    "  mutate(heart_disease = factor(heart_disease, levels = c(\"0\", \"1\"), labels = c(\"No\", \"Yes\")))\n"
   ]
  },
  {
   "cell_type": "code",
   "execution_count": 47,
   "metadata": {
    "vscode": {
     "languageId": "r"
    }
   },
   "outputs": [
    {
     "name": "stdout",
     "output_type": "stream",
     "text": [
      "'data.frame':\t4067 obs. of  11 variables:\n",
      " $ gender           : chr  \"F\" \"M\" \"M\" \"F\" ...\n",
      " $ age              : num  53.2 71.4 57.9 73.2 48.6 ...\n",
      " $ hypertension     : Factor w/ 2 levels \"No\",\"Yes\": 1 2 1 1 1 1 1 1 1 1 ...\n",
      " $ heart_disease    : Factor w/ 2 levels \"No\",\"Yes\": 1 1 1 1 1 1 1 1 1 1 ...\n",
      " $ ever_married     : Factor w/ 2 levels \"No\",\"Yes\": 2 2 2 2 2 2 2 2 2 2 ...\n",
      " $ work_type        : chr  \"Self Employed\" \"Self Employed\" \"Private Sector Employee\" \"Private Sector Employee\" ...\n",
      " $ Residence_type   : Factor w/ 2 levels \"Rural\",\"Urban\": 1 2 2 2 2 2 2 1 1 2 ...\n",
      " $ avg_glucose_level: num  96.5 72.8 99.6 239.6 87.2 ...\n",
      " $ bmi              : num  40.1 33.6 28.2 43.1 25.8 ...\n",
      " $ smoking_status   : chr  \"Never Smoked\" \"Former Smoker\" \"Never Smoked\" \"Never Smoked\" ...\n",
      " $ stroke           : Factor w/ 2 levels \"0\",\"1\": 1 1 1 1 1 1 1 1 1 1 ...\n"
     ]
    }
   ],
   "source": [
    "# check and make sure the variables are now in the correct format.\n",
    "str(harmonized_valid_data)"
   ]
  },
  {
   "cell_type": "markdown",
   "metadata": {},
   "source": [
    "#### Verify that the workflow works on the harmonized validation data"
   ]
  },
  {
   "cell_type": "code",
   "execution_count": 49,
   "metadata": {
    "vscode": {
     "languageId": "r"
    }
   },
   "outputs": [],
   "source": [
    "  testdata <- data.frame(gender = factor(\"F\"), \n",
    "                        age = as.numeric(\"46\"),\n",
    "                        hypertension = factor(\"Yes\"),\n",
    "                        heart_disease = factor(\"Yes\"),\n",
    "                        ever_married = factor(\"Yes\"), \n",
    "                        work_type = factor(\"Self Employed\"), \n",
    "                        Residence_type = factor(\"Rural\"), \n",
    "                        avg_glucose_level = as.numeric(\"300\"), \n",
    "                        bmi = as.numeric(\"70\"), \n",
    "                        smoking_status = factor(\"Former Smoker\")\n",
    "  )\n",
    "  "
   ]
  },
  {
   "cell_type": "code",
   "execution_count": 51,
   "metadata": {
    "vscode": {
     "languageId": "r"
    }
   },
   "outputs": [
    {
     "data": {
      "text/html": [
       "<table class=\"dataframe\">\n",
       "<caption>A tibble: 1 x 1</caption>\n",
       "<thead>\n",
       "\t<tr><th scope=col>.pred_class</th></tr>\n",
       "\t<tr><th scope=col>&lt;fct&gt;</th></tr>\n",
       "</thead>\n",
       "<tbody>\n",
       "\t<tr><td>1</td></tr>\n",
       "</tbody>\n",
       "</table>\n"
      ],
      "text/latex": [
       "A tibble: 1 x 1\n",
       "\\begin{tabular}{l}\n",
       " .pred\\_class\\\\\n",
       " <fct>\\\\\n",
       "\\hline\n",
       "\t 1\\\\\n",
       "\\end{tabular}\n"
      ],
      "text/markdown": [
       "\n",
       "A tibble: 1 x 1\n",
       "\n",
       "| .pred_class &lt;fct&gt; |\n",
       "|---|\n",
       "| 1 |\n",
       "\n"
      ],
      "text/plain": [
       "  .pred_class\n",
       "1 1          "
      ]
     },
     "metadata": {},
     "output_type": "display_data"
    }
   ],
   "source": [
    "prediction_class <- workflow %>% \n",
    "  predict(new_data = testdata,\n",
    "          type = 'class')\n",
    "\n",
    "head(prediction_class)"
   ]
  },
  {
   "cell_type": "code",
   "execution_count": 37,
   "metadata": {
    "vscode": {
     "languageId": "r"
    }
   },
   "outputs": [
    {
     "data": {
      "text/html": [
       "<table class=\"dataframe\">\n",
       "<caption>A tibble: 6 x 2</caption>\n",
       "<thead>\n",
       "\t<tr><th scope=col>.pred_0</th><th scope=col>.pred_1</th></tr>\n",
       "\t<tr><th scope=col>&lt;dbl&gt;</th><th scope=col>&lt;dbl&gt;</th></tr>\n",
       "</thead>\n",
       "<tbody>\n",
       "\t<tr><td>0.6897033</td><td>0.3102967</td></tr>\n",
       "\t<tr><td>0.2375295</td><td>0.7624705</td></tr>\n",
       "\t<tr><td>0.5263005</td><td>0.4736995</td></tr>\n",
       "\t<tr><td>0.2991934</td><td>0.7008066</td></tr>\n",
       "\t<tr><td>0.6296326</td><td>0.3703674</td></tr>\n",
       "\t<tr><td>0.5184717</td><td>0.4815283</td></tr>\n",
       "</tbody>\n",
       "</table>\n"
      ],
      "text/latex": [
       "A tibble: 6 x 2\n",
       "\\begin{tabular}{ll}\n",
       " .pred\\_0 & .pred\\_1\\\\\n",
       " <dbl> & <dbl>\\\\\n",
       "\\hline\n",
       "\t 0.6897033 & 0.3102967\\\\\n",
       "\t 0.2375295 & 0.7624705\\\\\n",
       "\t 0.5263005 & 0.4736995\\\\\n",
       "\t 0.2991934 & 0.7008066\\\\\n",
       "\t 0.6296326 & 0.3703674\\\\\n",
       "\t 0.5184717 & 0.4815283\\\\\n",
       "\\end{tabular}\n"
      ],
      "text/markdown": [
       "\n",
       "A tibble: 6 x 2\n",
       "\n",
       "| .pred_0 &lt;dbl&gt; | .pred_1 &lt;dbl&gt; |\n",
       "|---|---|\n",
       "| 0.6897033 | 0.3102967 |\n",
       "| 0.2375295 | 0.7624705 |\n",
       "| 0.5263005 | 0.4736995 |\n",
       "| 0.2991934 | 0.7008066 |\n",
       "| 0.6296326 | 0.3703674 |\n",
       "| 0.5184717 | 0.4815283 |\n",
       "\n"
      ],
      "text/plain": [
       "  .pred_0   .pred_1  \n",
       "1 0.6897033 0.3102967\n",
       "2 0.2375295 0.7624705\n",
       "3 0.5263005 0.4736995\n",
       "4 0.2991934 0.7008066\n",
       "5 0.6296326 0.3703674\n",
       "6 0.5184717 0.4815283"
      ]
     },
     "metadata": {},
     "output_type": "display_data"
    }
   ],
   "source": [
    "prediction_prob <- workflow %>% \n",
    "  predict(new_data = harmonized_valid_data,\n",
    "          type = 'prob')\n",
    "\n",
    "head(prediction_prob)"
   ]
  },
  {
   "cell_type": "code",
   "execution_count": 38,
   "metadata": {
    "vscode": {
     "languageId": "r"
    }
   },
   "outputs": [
    {
     "data": {
      "text/html": [
       "<table class=\"dataframe\">\n",
       "<caption>A data.frame: 6 x 4</caption>\n",
       "<thead>\n",
       "\t<tr><th></th><th scope=col>stroke</th><th scope=col>.pred_class</th><th scope=col>.pred_0</th><th scope=col>.pred_1</th></tr>\n",
       "\t<tr><th></th><th scope=col>&lt;fct&gt;</th><th scope=col>&lt;fct&gt;</th><th scope=col>&lt;dbl&gt;</th><th scope=col>&lt;dbl&gt;</th></tr>\n",
       "</thead>\n",
       "<tbody>\n",
       "\t<tr><th scope=row>1</th><td>0</td><td>0</td><td>0.6897033</td><td>0.3102967</td></tr>\n",
       "\t<tr><th scope=row>2</th><td>0</td><td>1</td><td>0.2375295</td><td>0.7624705</td></tr>\n",
       "\t<tr><th scope=row>3</th><td>0</td><td>0</td><td>0.5263005</td><td>0.4736995</td></tr>\n",
       "\t<tr><th scope=row>4</th><td>0</td><td>1</td><td>0.2991934</td><td>0.7008066</td></tr>\n",
       "\t<tr><th scope=row>5</th><td>0</td><td>0</td><td>0.6296326</td><td>0.3703674</td></tr>\n",
       "\t<tr><th scope=row>6</th><td>0</td><td>0</td><td>0.5184717</td><td>0.4815283</td></tr>\n",
       "</tbody>\n",
       "</table>\n"
      ],
      "text/latex": [
       "A data.frame: 6 x 4\n",
       "\\begin{tabular}{r|llll}\n",
       "  & stroke & .pred\\_class & .pred\\_0 & .pred\\_1\\\\\n",
       "  & <fct> & <fct> & <dbl> & <dbl>\\\\\n",
       "\\hline\n",
       "\t1 & 0 & 0 & 0.6897033 & 0.3102967\\\\\n",
       "\t2 & 0 & 1 & 0.2375295 & 0.7624705\\\\\n",
       "\t3 & 0 & 0 & 0.5263005 & 0.4736995\\\\\n",
       "\t4 & 0 & 1 & 0.2991934 & 0.7008066\\\\\n",
       "\t5 & 0 & 0 & 0.6296326 & 0.3703674\\\\\n",
       "\t6 & 0 & 0 & 0.5184717 & 0.4815283\\\\\n",
       "\\end{tabular}\n"
      ],
      "text/markdown": [
       "\n",
       "A data.frame: 6 x 4\n",
       "\n",
       "| <!--/--> | stroke &lt;fct&gt; | .pred_class &lt;fct&gt; | .pred_0 &lt;dbl&gt; | .pred_1 &lt;dbl&gt; |\n",
       "|---|---|---|---|---|\n",
       "| 1 | 0 | 0 | 0.6897033 | 0.3102967 |\n",
       "| 2 | 0 | 1 | 0.2375295 | 0.7624705 |\n",
       "| 3 | 0 | 0 | 0.5263005 | 0.4736995 |\n",
       "| 4 | 0 | 1 | 0.2991934 | 0.7008066 |\n",
       "| 5 | 0 | 0 | 0.6296326 | 0.3703674 |\n",
       "| 6 | 0 | 0 | 0.5184717 | 0.4815283 |\n",
       "\n"
      ],
      "text/plain": [
       "  stroke .pred_class .pred_0   .pred_1  \n",
       "1 0      0           0.6897033 0.3102967\n",
       "2 0      1           0.2375295 0.7624705\n",
       "3 0      0           0.5263005 0.4736995\n",
       "4 0      1           0.2991934 0.7008066\n",
       "5 0      0           0.6296326 0.3703674\n",
       "6 0      0           0.5184717 0.4815283"
      ]
     },
     "metadata": {},
     "output_type": "display_data"
    }
   ],
   "source": [
    "# Combine test data with predictions\n",
    "pred_results <- harmonized_valid_data %>% \n",
    "  bind_cols(prediction_class, prediction_prob)\n",
    "\n",
    "head(pred_results %>% select(stroke, `.pred_class`, `.pred_0`, `.pred_1`))"
   ]
  },
  {
   "cell_type": "code",
   "execution_count": 39,
   "metadata": {
    "vscode": {
     "languageId": "r"
    }
   },
   "outputs": [
    {
     "data": {
      "text/html": [
       "<table class=\"dataframe\">\n",
       "<caption>A tibble: 3 x 3</caption>\n",
       "<thead>\n",
       "\t<tr><th scope=col>.metric</th><th scope=col>.estimator</th><th scope=col>.estimate</th></tr>\n",
       "\t<tr><th scope=col>&lt;chr&gt;</th><th scope=col>&lt;chr&gt;</th><th scope=col>&lt;dbl&gt;</th></tr>\n",
       "</thead>\n",
       "<tbody>\n",
       "\t<tr><td>sens   </td><td>binary</td><td>0.5725806</td></tr>\n",
       "\t<tr><td>spec   </td><td>binary</td><td>0.8109980</td></tr>\n",
       "\t<tr><td>roc_auc</td><td>binary</td><td>0.7602710</td></tr>\n",
       "</tbody>\n",
       "</table>\n"
      ],
      "text/latex": [
       "A tibble: 3 x 3\n",
       "\\begin{tabular}{lll}\n",
       " .metric & .estimator & .estimate\\\\\n",
       " <chr> & <chr> & <dbl>\\\\\n",
       "\\hline\n",
       "\t sens    & binary & 0.5725806\\\\\n",
       "\t spec    & binary & 0.8109980\\\\\n",
       "\t roc\\_auc & binary & 0.7602710\\\\\n",
       "\\end{tabular}\n"
      ],
      "text/markdown": [
       "\n",
       "A tibble: 3 x 3\n",
       "\n",
       "| .metric &lt;chr&gt; | .estimator &lt;chr&gt; | .estimate &lt;dbl&gt; |\n",
       "|---|---|---|\n",
       "| sens    | binary | 0.5725806 |\n",
       "| spec    | binary | 0.8109980 |\n",
       "| roc_auc | binary | 0.7602710 |\n",
       "\n"
      ],
      "text/plain": [
       "  .metric .estimator .estimate\n",
       "1 sens    binary     0.5725806\n",
       "2 spec    binary     0.8109980\n",
       "3 roc_auc binary     0.7602710"
      ]
     },
     "metadata": {},
     "output_type": "display_data"
    },
    {
     "data": {
      "image/png": "[encoded data removed]",
      "text/plain": [
       "plot without title"
      ]
     },
     "metadata": {
      "image/png": {
       "height": 420,
       "width": 420
      }
     },
     "output_type": "display_data"
    }
   ],
   "source": [
    "# model performance on the harmonized validation data set\n",
    "custom_metrics <- metric_set(sens, spec, roc_auc)\n",
    "\n",
    "custom_metrics(pred_results, truth = stroke, estimate = .pred_class, .pred_0)\n",
    "\n",
    "pred_results %>% roc_curve(stroke, .pred_0) %>% autoplot()"
   ]
  },
  {
   "cell_type": "code",
   "execution_count": 40,
   "metadata": {
    "vscode": {
     "languageId": "r"
    }
   },
   "outputs": [],
   "source": [
    "## Save the harmonized data set\n",
    "\n",
    "saveRDS(harmonized_valid_data, \"harmonized_valid_data.rds\")"
   ]
  },
  {
   "cell_type": "code",
   "execution_count": 41,
   "metadata": {
    "vscode": {
     "languageId": "r"
    }
   },
   "outputs": [
    {
     "name": "stderr",
     "output_type": "stream",
     "text": [
      "Running plumber API at http://127.0.0.1:8000\n",
      "\n",
      "Running swagger Docs at http://127.0.0.1:8000/__docs__/\n",
      "\n"
     ]
    }
   ],
   "source": [
    "\n",
    "# Register a hook to add CORS headers and handle OPTIONS requests\n",
    "addCORSAndHandleOptions <- function(req, res) {\n",
    "  res$setHeader('Access-Control-Allow-Origin', '*')\n",
    "  res$setHeader('Access-Control-Allow-Methods', 'GET, POST, PUT, DELETE, OPTIONS')\n",
    "  res$setHeader('Access-Control-Allow-Headers', 'Content-Type, Authorization')\n",
    "    res$status <- 200\n",
    "    # Ensure the response for OPTIONS is sent back immediately without further processing\n",
    "    return(list())\n",
    "}\n",
    "\n",
    "# Create the router from plumber script\n",
    "pr <- plumber::pr(\"plumber.R\")\n",
    "\n",
    "# Add CORS and OPTIONS handling as a global filter\n",
    "pr$registerHooks(\n",
    "  list(\n",
    "    preroute = addCORSAndHandleOptions\n",
    "  )\n",
    ")\n",
    "\n",
    "# Run the API\n",
    "pr$run(port=8000)"
   ]
  },
  {
   "cell_type": "markdown",
   "metadata": {},
   "source": [
    "#### Deploy Plumber API on DigitalOcean "
   ]
  },
  {
   "cell_type": "code",
   "execution_count": null,
   "metadata": {
    "vscode": {
     "languageId": "r"
    }
   },
   "outputs": [],
   "source": [
    "install.packages(\"plumberDeploy\")\n",
    "install.packages(\"analogsea\")\n"
   ]
  },
  {
   "cell_type": "code",
   "execution_count": 1,
   "metadata": {
    "vscode": {
     "languageId": "r"
    }
   },
   "outputs": [
    {
     "name": "stderr",
     "output_type": "stream",
     "text": [
      "ANALOGSEA\n",
      "=========\n",
      "This package requieres a DigitalOcean account.\n",
      "Visit m.do.co/c/1d5a471e5f54. By using this link, you'll \n",
      "start with $100 in credits with a 2 months limit.\n",
      "You can also sponsor this package at buymeacoffee.com/pacha.\n",
      "\n",
      "\n",
      "Attaching package: 'analogsea'\n",
      "\n",
      "\n",
      "The following object is masked from 'package:graphics':\n",
      "\n",
      "    image\n",
      "\n",
      "\n"
     ]
    }
   ],
   "source": [
    "library(analogsea)\n"
   ]
  },
  {
   "cell_type": "code",
   "execution_count": null,
   "metadata": {
    "vscode": {
     "languageId": "r"
    }
   },
   "outputs": [],
   "source": [
    "account_info <- account()\n",
    "print(account_info)"
   ]
  },
  {
   "cell_type": "code",
   "execution_count": null,
   "metadata": {
    "vscode": {
     "languageId": "r"
    }
   },
   "outputs": [],
   "source": [
    "public_key <- Sys.getenv(\"SSH_PUBLIC_KEY\")\n",
    "\n",
    "key_create(name = \"my-key\", public_key = public_key)\n"
   ]
  },
  {
   "cell_type": "code",
   "execution_count": null,
   "metadata": {
    "vscode": {
     "languageId": "r"
    }
   },
   "outputs": [],
   "source": [
    "# Validate SSH key\n",
    "ssh::ssh_key_info()\n",
    "lapply(analogsea::keys(), '[[', \"public_key\")"
   ]
  },
  {
   "cell_type": "code",
   "execution_count": null,
   "metadata": {
    "vscode": {
     "languageId": "r"
    }
   },
   "outputs": [],
   "source": [
    "mydrop <- plumberDeploy::do_provision()\n"
   ]
  },
  {
   "cell_type": "code",
   "execution_count": 7,
   "metadata": {
    "vscode": {
     "languageId": "r"
    }
   },
   "outputs": [
    {
     "name": "stdout",
     "output_type": "stream",
     "text": [
      "gcc -I\"/usr/share/R/include\" -DNDEBUG -I. -DNDEBUG      -fpic  -g -O2 -fdebug-prefix-map=/build/r-base-DdVjkr/r-base-4.3.2=. -fstack-protector-strong -Wformat -Werror=format-security -Wdate-time -D_FORTIFY_SOURCE=2  -c api.c -o api.o\n",
      "gcc -I\"/usr/share/R/include\" -DNDEBUG -I. -DNDEBUG      -fpic  -g -O2 -fdebug-prefix-map=/build/r-base-DdVjkr/r-base-4.3.2=. -fstack-protector-strong -Wformat -Werror=format-security -Wdate-time -D_FORTIFY_SOURCE=2  -c dumper.c -o dumper.o\n",
      "gcc -I\"/usr/share/R/include\" -DNDEBUG -I. -DNDEBUG      -fpic  -g -O2 -fdebug-prefix-map=/build/r-base-DdVjkr/r-base-4.3.2=. -fstack-protector-strong -Wformat -Werror=format-security -Wdate-time -D_FORTIFY_SOURCE=2  -c emitter.c -o emitter.o\n",
      "gcc -I\"/usr/share/R/include\" -DNDEBUG -I. -DNDEBUG      -fpic  -g -O2 -fdebug-prefix-map=/build/r-base-DdVjkr/r-base-4.3.2=. -fstack-protector-strong -Wformat -Werror=format-security -Wdate-time -D_FORTIFY_SOURCE=2  -c implicit.c -o implicit.o\n",
      "gcc -I\"/usr/share/R/include\" -DNDEBUG -I. -DNDEBUG      -fpic  -g -O2 -fdebug-prefix-map=/build/r-base-DdVjkr/r-base-4.3.2=. -fstack-protector-strong -Wformat -Werror=format-security -Wdate-time -D_FORTIFY_SOURCE=2  -c loader.c -o loader.o\n",
      "gcc -I\"/usr/share/R/include\" -DNDEBUG -I. -DNDEBUG      -fpic  -g -O2 -fdebug-prefix-map=/build/r-base-DdVjkr/r-base-4.3.2=. -fstack-protector-strong -Wformat -Werror=format-security -Wdate-time -D_FORTIFY_SOURCE=2  -c parser.c -o parser.o\n",
      "gcc -I\"/usr/share/R/include\" -DNDEBUG -I. -DNDEBUG      -fpic  -g -O2 -fdebug-prefix-map=/build/r-base-DdVjkr/r-base-4.3.2=. -fstack-protector-strong -Wformat -Werror=format-security -Wdate-time -D_FORTIFY_SOURCE=2  -c r_emit.c -o r_emit.o\n",
      "gcc -I\"/usr/share/R/include\" -DNDEBUG -I. -DNDEBUG      -fpic  -g -O2 -fdebug-prefix-map=/build/r-base-DdVjkr/r-base-4.3.2=. -fstack-protector-strong -Wformat -Werror=format-security -Wdate-time -D_FORTIFY_SOURCE=2  -c r_ext.c -o r_ext.o\n",
      "gcc -I\"/usr/share/R/include\" -DNDEBUG -I. -DNDEBUG      -fpic  -g -O2 -fdebug-prefix-map=/build/r-base-DdVjkr/r-base-4.3.2=. -fstack-protector-strong -Wformat -Werror=format-security -Wdate-time -D_FORTIFY_SOURCE=2  -c r_parse.c -o r_parse.o\n",
      "gcc -I\"/usr/share/R/include\" -DNDEBUG -I. -DNDEBUG      -fpic  -g -O2 -fdebug-prefix-map=/build/r-base-DdVjkr/r-base-4.3.2=. -fstack-protector-strong -Wformat -Werror=format-security -Wdate-time -D_FORTIFY_SOURCE=2  -c reader.c -o reader.o\n",
      "gcc -I\"/usr/share/R/include\" -DNDEBUG -I. -DNDEBUG      -fpic  -g -O2 -fdebug-prefix-map=/build/r-base-DdVjkr/r-base-4.3.2=. -fstack-protector-strong -Wformat -Werror=format-security -Wdate-time -D_FORTIFY_SOURCE=2  -c scanner.c -o scanner.o\n",
      "gcc -I\"/usr/share/R/include\" -DNDEBUG -I. -DNDEBUG      -fpic  -g -O2 -fdebug-prefix-map=/build/r-base-DdVjkr/r-base-4.3.2=. -fstack-protector-strong -Wformat -Werror=format-security -Wdate-time -D_FORTIFY_SOURCE=2  -c writer.c -o writer.o\n",
      "gcc -shared -L/usr/lib/R/lib -Wl,-Bsymbolic-functions -Wl,-z,relro -o yaml.so api.o dumper.o emitter.o implicit.o loader.o parser.o r_emit.o r_ext.o r_parse.o reader.o scanner.o writer.o -L/usr/lib/R/lib -lR\n"
     ]
    }
   ],
   "source": [
    "analogsea::install_r_package(mydrop, \"yaml\")\n"
   ]
  },
  {
   "cell_type": "code",
   "execution_count": null,
   "metadata": {
    "vscode": {
     "languageId": "r"
    }
   },
   "outputs": [],
   "source": [
    "analogsea::install_r_package(mydrop, \"yaml\")\n"
   ]
  },
  {
   "cell_type": "code",
   "execution_count": 11,
   "metadata": {
    "vscode": {
     "languageId": "r"
    }
   },
   "outputs": [],
   "source": [
    "analogsea::install_r_package(mydrop, \"plumber\")\n"
   ]
  },
  {
   "cell_type": "code",
   "execution_count": 34,
   "metadata": {
    "vscode": {
     "languageId": "r"
    }
   },
   "outputs": [
    {
     "name": "stdout",
     "output_type": "stream",
     "text": [
      "gcc -I\"/usr/share/R/include\" -DNDEBUG       -fpic  -g -O2 -fdebug-prefix-map=/build/r-base-DdVjkr/r-base-4.3.2=. -fstack-protector-strong -Wformat -Werror=format-security -Wdate-time -D_FORTIFY_SOURCE=2  -c apply.c -o apply.o\n",
      "gcc -I\"/usr/share/R/include\" -DNDEBUG       -fpic  -g -O2 -fdebug-prefix-map=/build/r-base-DdVjkr/r-base-4.3.2=. -fstack-protector-strong -Wformat -Werror=format-security -Wdate-time -D_FORTIFY_SOURCE=2  -c arrayIndex.c -o arrayIndex.o\n",
      "gcc -I\"/usr/share/R/include\" -DNDEBUG       -fpic  -g -O2 -fdebug-prefix-map=/build/r-base-DdVjkr/r-base-4.3.2=. -fstack-protector-strong -Wformat -Werror=format-security -Wdate-time -D_FORTIFY_SOURCE=2  -c distance.c -o distance.o\n",
      "gcc -I\"/usr/share/R/include\" -DNDEBUG       -fpic  -g -O2 -fdebug-prefix-map=/build/r-base-DdVjkr/r-base-4.3.2=. -fstack-protector-strong -Wformat -Werror=format-security -Wdate-time -D_FORTIFY_SOURCE=2  -c dll.c -o dll.o\n",
      "gcc -I\"/usr/share/R/include\" -DNDEBUG       -fpic  -g -O2 -fdebug-prefix-map=/build/r-base-DdVjkr/r-base-4.3.2=. -fstack-protector-strong -Wformat -Werror=format-security -Wdate-time -D_FORTIFY_SOURCE=2  -c util.c -o util.o\n",
      "gcc -shared -L/usr/lib/R/lib -Wl,-Bsymbolic-functions -Wl,-z,relro -o proxy.so apply.o arrayIndex.o distance.o dll.o util.o -L/usr/lib/R/lib -lR\n",
      "g++ -std=gnu++17 -I\"/usr/share/R/include\" -DNDEBUG  -I'/usr/local/lib/R/site-library/Rcpp/include'     -fpic  -g -O2 -fdebug-prefix-map=/build/r-base-DdVjkr/r-base-4.3.2=. -fstack-protector-strong -Wformat -Werror=format-security -Wdate-time -D_FORTIFY_SOURCE=2  -c RcppExports.cpp -o RcppExports.o\n",
      "g++ -std=gnu++17 -I\"/usr/share/R/include\" -DNDEBUG  -I'/usr/local/lib/R/site-library/Rcpp/include'     -fpic  -g -O2 -fdebug-prefix-map=/build/r-base-DdVjkr/r-base-4.3.2=. -fstack-protector-strong -Wformat -Werror=format-security -Wdate-time -D_FORTIFY_SOURCE=2  -c auc_.cpp -o auc_.o\n",
      "g++ -std=gnu++17 -I\"/usr/share/R/include\" -DNDEBUG  -I'/usr/local/lib/R/site-library/Rcpp/include'     -fpic  -g -O2 -fdebug-prefix-map=/build/r-base-DdVjkr/r-base-4.3.2=. -fstack-protector-strong -Wformat -Werror=format-security -Wdate-time -D_FORTIFY_SOURCE=2  -c confusionMatrix_.cpp -o confusionMatrix_.o\n",
      "g++ -std=gnu++17 -I\"/usr/share/R/include\" -DNDEBUG  -I'/usr/local/lib/R/site-library/Rcpp/include'     -fpic  -g -O2 -fdebug-prefix-map=/build/r-base-DdVjkr/r-base-4.3.2=. -fstack-protector-strong -Wformat -Werror=format-security -Wdate-time -D_FORTIFY_SOURCE=2  -c error.cpp -o error.o\n",
      "g++ -std=gnu++17 -I\"/usr/share/R/include\" -DNDEBUG  -I'/usr/local/lib/R/site-library/Rcpp/include'     -fpic  -g -O2 -fdebug-prefix-map=/build/r-base-DdVjkr/r-base-4.3.2=. -fstack-protector-strong -Wformat -Werror=format-security -Wdate-time -D_FORTIFY_SOURCE=2  -c gini_.cpp -o gini_.o\n",
      "g++ -std=gnu++17 -I\"/usr/share/R/include\" -DNDEBUG  -I'/usr/local/lib/R/site-library/Rcpp/include'     -fpic  -g -O2 -fdebug-prefix-map=/build/r-base-DdVjkr/r-base-4.3.2=. -fstack-protector-strong -Wformat -Werror=format-security -Wdate-time -D_FORTIFY_SOURCE=2  -c logLoss_.cpp -o logLoss_.o\n",
      "g++ -std=gnu++17 -shared -L/usr/lib/R/lib -Wl,-Bsymbolic-functions -Wl,-z,relro -o ModelMetrics.so RcppExports.o auc_.o confusionMatrix_.o error.o gini_.o logLoss_.o -L/usr/lib/R/lib -lR\n",
      "g++ -std=gnu++17 -I\"/usr/share/R/include\" -DNDEBUG  -I'/usr/local/lib/R/site-library/Rcpp/include'     -fpic  -g -O2 -fdebug-prefix-map=/build/r-base-DdVjkr/r-base-4.3.2=. -fstack-protector-strong -Wformat -Werror=format-security -Wdate-time -D_FORTIFY_SOURCE=2  -c RcppExports.cpp -o RcppExports.o\n",
      "gcc -I\"/usr/share/R/include\" -DNDEBUG  -I'/usr/local/lib/R/site-library/Rcpp/include'     -fpic  -g -O2 -fdebug-prefix-map=/build/r-base-DdVjkr/r-base-4.3.2=. -fstack-protector-strong -Wformat -Werror=format-security -Wdate-time -D_FORTIFY_SOURCE=2  -c loop_apply.c -o loop_apply.o\n",
      "g++ -std=gnu++17 -I\"/usr/share/R/include\" -DNDEBUG  -I'/usr/local/lib/R/site-library/Rcpp/include'     -fpic  -g -O2 -fdebug-prefix-map=/build/r-base-DdVjkr/r-base-4.3.2=. -fstack-protector-strong -Wformat -Werror=format-security -Wdate-time -D_FORTIFY_SOURCE=2  -c split-numeric.cpp -o split-numeric.o\n",
      "g++ -std=gnu++17 -shared -L/usr/lib/R/lib -Wl,-Bsymbolic-functions -Wl,-z,relro -o plyr.so RcppExports.o loop_apply.o split-numeric.o -L/usr/lib/R/lib -lR\n",
      "gcc -I\"/usr/share/R/include\" -DNDEBUG       -fpic  -g -O2 -fdebug-prefix-map=/build/r-base-DdVjkr/r-base-4.3.2=. -fstack-protector-strong -Wformat -Werror=format-security -Wdate-time -D_FORTIFY_SOURCE=2  -c Rsvm.c -o Rsvm.o\n",
      "gcc -I\"/usr/share/R/include\" -DNDEBUG       -fpic  -g -O2 -fdebug-prefix-map=/build/r-base-DdVjkr/r-base-4.3.2=. -fstack-protector-strong -Wformat -Werror=format-security -Wdate-time -D_FORTIFY_SOURCE=2  -c cmeans.c -o cmeans.o\n",
      "gcc -I\"/usr/share/R/include\" -DNDEBUG       -fpic  -g -O2 -fdebug-prefix-map=/build/r-base-DdVjkr/r-base-4.3.2=. -fstack-protector-strong -Wformat -Werror=format-security -Wdate-time -D_FORTIFY_SOURCE=2  -c cshell.c -o cshell.o\n",
      "gcc -I\"/usr/share/R/include\" -DNDEBUG       -fpic  -g -O2 -fdebug-prefix-map=/build/r-base-DdVjkr/r-base-4.3.2=. -fstack-protector-strong -Wformat -Werror=format-security -Wdate-time -D_FORTIFY_SOURCE=2  -c floyd.c -o floyd.o\n",
      "gcc -I\"/usr/share/R/include\" -DNDEBUG       -fpic  -g -O2 -fdebug-prefix-map=/build/r-base-DdVjkr/r-base-4.3.2=. -fstack-protector-strong -Wformat -Werror=format-security -Wdate-time -D_FORTIFY_SOURCE=2  -c init.c -o init.o\n",
      "g++ -std=gnu++17 -I\"/usr/share/R/include\" -DNDEBUG       -fpic  -g -O2 -fdebug-prefix-map=/build/r-base-DdVjkr/r-base-4.3.2=. -fstack-protector-strong -Wformat -Werror=format-security -Wdate-time -D_FORTIFY_SOURCE=2  -c svm.cpp -o svm.o\n",
      "g++ -std=gnu++17 -shared -L/usr/lib/R/lib -Wl,-Bsymbolic-functions -Wl,-z,relro -o e1071.so Rsvm.o cmeans.o cshell.o floyd.o init.o svm.o -L/usr/lib/R/lib -lR\n",
      "g++ -std=gnu++17 -I\"/usr/share/R/include\" -DNDEBUG  -I'/usr/local/lib/R/site-library/Rcpp/include'     -fpic  -g -O2 -fdebug-prefix-map=/build/r-base-DdVjkr/r-base-4.3.2=. -fstack-protector-strong -Wformat -Werror=format-security -Wdate-time -D_FORTIFY_SOURCE=2  -c RcppExports.cpp -o RcppExports.o\n",
      "g++ -std=gnu++17 -I\"/usr/share/R/include\" -DNDEBUG  -I'/usr/local/lib/R/site-library/Rcpp/include'     -fpic  -g -O2 -fdebug-prefix-map=/build/r-base-DdVjkr/r-base-4.3.2=. -fstack-protector-strong -Wformat -Werror=format-security -Wdate-time -D_FORTIFY_SOURCE=2  -c RcppVersion.cpp -o RcppVersion.o\n",
      "g++ -std=gnu++17 -I\"/usr/share/R/include\" -DNDEBUG  -I'/usr/local/lib/R/site-library/Rcpp/include'     -fpic  -g -O2 -fdebug-prefix-map=/build/r-base-DdVjkr/r-base-4.3.2=. -fstack-protector-strong -Wformat -Werror=format-security -Wdate-time -D_FORTIFY_SOURCE=2  -c delong.cpp -o delong.o\n",
      "g++ -std=gnu++17 -I\"/usr/share/R/include\" -DNDEBUG  -I'/usr/local/lib/R/site-library/Rcpp/include'     -fpic  -g -O2 -fdebug-prefix-map=/build/r-base-DdVjkr/r-base-4.3.2=. -fstack-protector-strong -Wformat -Werror=format-security -Wdate-time -D_FORTIFY_SOURCE=2  -c perfsAll.cpp -o perfsAll.o\n",
      "g++ -std=gnu++17 -shared -L/usr/lib/R/lib -Wl,-Bsymbolic-functions -Wl,-z,relro -o pROC.so RcppExports.o RcppVersion.o delong.o perfsAll.o -L/usr/lib/R/lib -lR\n",
      "g++ -std=gnu++17 -I\"/usr/share/R/include\" -DNDEBUG  -I'/usr/local/lib/R/site-library/Rcpp/include'     -fpic  -g -O2 -fdebug-prefix-map=/build/r-base-DdVjkr/r-base-4.3.2=. -fstack-protector-strong -Wformat -Werror=format-security -Wdate-time -D_FORTIFY_SOURCE=2  -c RcppExports.cpp -o RcppExports.o\n",
      "g++ -std=gnu++17 -I\"/usr/share/R/include\" -DNDEBUG  -I'/usr/local/lib/R/site-library/Rcpp/include'     -fpic  -g -O2 -fdebug-prefix-map=/build/r-base-DdVjkr/r-base-4.3.2=. -fstack-protector-strong -Wformat -Werror=format-security -Wdate-time -D_FORTIFY_SOURCE=2  -c melt.cpp -o melt.o\n",
      "g++ -std=gnu++17 -shared -L/usr/lib/R/lib -Wl,-Bsymbolic-functions -Wl,-z,relro -o reshape2.so RcppExports.o melt.o -L/usr/lib/R/lib -lR\n",
      "gcc -I\"/usr/share/R/include\" -DNDEBUG       -fpic  -g -O2 -fdebug-prefix-map=/build/r-base-DdVjkr/r-base-4.3.2=. -fstack-protector-strong -Wformat -Werror=format-security -Wdate-time -D_FORTIFY_SOURCE=2  -c caret.c -o caret.o\n",
      "gcc -shared -L/usr/lib/R/lib -Wl,-Bsymbolic-functions -Wl,-z,relro -o caret.so caret.o -L/usr/lib/R/lib -lR\n"
     ]
    }
   ],
   "source": [
    "analogsea::install_r_package(mydrop, \"caret\")\n"
   ]
  },
  {
   "cell_type": "code",
   "execution_count": 12,
   "metadata": {
    "vscode": {
     "languageId": "r"
    }
   },
   "outputs": [
    {
     "name": "stdout",
     "output_type": "stream",
     "text": [
      "gcc -I\"/usr/share/R/include\" -DNDEBUG       -fpic  -g -O2 -fdebug-prefix-map=/build/r-base-DdVjkr/r-base-4.3.2=. -fstack-protector-strong -Wformat -Werror=format-security -Wdate-time -D_FORTIFY_SOURCE=2  -c colorspace.c -o colorspace.o\n",
      "gcc -I\"/usr/share/R/include\" -DNDEBUG       -fpic  -g -O2 -fdebug-prefix-map=/build/r-base-DdVjkr/r-base-4.3.2=. -fstack-protector-strong -Wformat -Werror=format-security -Wdate-time -D_FORTIFY_SOURCE=2  -c init.c -o init.o\n",
      "gcc -shared -L/usr/lib/R/lib -Wl,-Bsymbolic-functions -Wl,-z,relro -o colorspace.so colorspace.o init.o -L/usr/lib/R/lib -lR\n",
      "gcc 9.4.0\n",
      "zlib 1.2.11 is available ok\n",
      "R CMD SHLIB supports OpenMP without any extra hint\n",
      "gcc -I\"/usr/share/R/include\" -DNDEBUG      -fopenmp  -fpic  -g -O2 -fdebug-prefix-map=/build/r-base-DdVjkr/r-base-4.3.2=. -fstack-protector-strong -Wformat -Werror=format-security -Wdate-time -D_FORTIFY_SOURCE=2  -c assign.c -o assign.o\n",
      "gcc -I\"/usr/share/R/include\" -DNDEBUG      -fopenmp  -fpic  -g -O2 -fdebug-prefix-map=/build/r-base-DdVjkr/r-base-4.3.2=. -fstack-protector-strong -Wformat -Werror=format-security -Wdate-time -D_FORTIFY_SOURCE=2  -c between.c -o between.o\n",
      "gcc -I\"/usr/share/R/include\" -DNDEBUG      -fopenmp  -fpic  -g -O2 -fdebug-prefix-map=/build/r-base-DdVjkr/r-base-4.3.2=. -fstack-protector-strong -Wformat -Werror=format-security -Wdate-time -D_FORTIFY_SOURCE=2  -c bmerge.c -o bmerge.o\n",
      "gcc -I\"/usr/share/R/include\" -DNDEBUG      -fopenmp  -fpic  -g -O2 -fdebug-prefix-map=/build/r-base-DdVjkr/r-base-4.3.2=. -fstack-protector-strong -Wformat -Werror=format-security -Wdate-time -D_FORTIFY_SOURCE=2  -c chmatch.c -o chmatch.o\n",
      "gcc -I\"/usr/share/R/include\" -DNDEBUG      -fopenmp  -fpic  -g -O2 -fdebug-prefix-map=/build/r-base-DdVjkr/r-base-4.3.2=. -fstack-protector-strong -Wformat -Werror=format-security -Wdate-time -D_FORTIFY_SOURCE=2  -c cj.c -o cj.o\n",
      "gcc -I\"/usr/share/R/include\" -DNDEBUG      -fopenmp  -fpic  -g -O2 -fdebug-prefix-map=/build/r-base-DdVjkr/r-base-4.3.2=. -fstack-protector-strong -Wformat -Werror=format-security -Wdate-time -D_FORTIFY_SOURCE=2  -c coalesce.c -o coalesce.o\n",
      "gcc -I\"/usr/share/R/include\" -DNDEBUG      -fopenmp  -fpic  -g -O2 -fdebug-prefix-map=/build/r-base-DdVjkr/r-base-4.3.2=. -fstack-protector-strong -Wformat -Werror=format-security -Wdate-time -D_FORTIFY_SOURCE=2  -c dogroups.c -o dogroups.o\n",
      "gcc -I\"/usr/share/R/include\" -DNDEBUG      -fopenmp  -fpic  -g -O2 -fdebug-prefix-map=/build/r-base-DdVjkr/r-base-4.3.2=. -fstack-protector-strong -Wformat -Werror=format-security -Wdate-time -D_FORTIFY_SOURCE=2  -c fastmean.c -o fastmean.o\n",
      "gcc -I\"/usr/share/R/include\" -DNDEBUG      -fopenmp  -fpic  -g -O2 -fdebug-prefix-map=/build/r-base-DdVjkr/r-base-4.3.2=. -fstack-protector-strong -Wformat -Werror=format-security -Wdate-time -D_FORTIFY_SOURCE=2  -c fcast.c -o fcast.o\n",
      "gcc -I\"/usr/share/R/include\" -DNDEBUG      -fopenmp  -fpic  -g -O2 -fdebug-prefix-map=/build/r-base-DdVjkr/r-base-4.3.2=. -fstack-protector-strong -Wformat -Werror=format-security -Wdate-time -D_FORTIFY_SOURCE=2  -c fifelse.c -o fifelse.o\n",
      "gcc -I\"/usr/share/R/include\" -DNDEBUG      -fopenmp  -fpic  -g -O2 -fdebug-prefix-map=/build/r-base-DdVjkr/r-base-4.3.2=. -fstack-protector-strong -Wformat -Werror=format-security -Wdate-time -D_FORTIFY_SOURCE=2  -c fmelt.c -o fmelt.o\n",
      "gcc -I\"/usr/share/R/include\" -DNDEBUG      -fopenmp  -fpic  -g -O2 -fdebug-prefix-map=/build/r-base-DdVjkr/r-base-4.3.2=. -fstack-protector-strong -Wformat -Werror=format-security -Wdate-time -D_FORTIFY_SOURCE=2  -c forder.c -o forder.o\n",
      "gcc -I\"/usr/share/R/include\" -DNDEBUG      -fopenmp  -fpic  -g -O2 -fdebug-prefix-map=/build/r-base-DdVjkr/r-base-4.3.2=. -fstack-protector-strong -Wformat -Werror=format-security -Wdate-time -D_FORTIFY_SOURCE=2  -c frank.c -o frank.o\n",
      "gcc -I\"/usr/share/R/include\" -DNDEBUG      -fopenmp  -fpic  -g -O2 -fdebug-prefix-map=/build/r-base-DdVjkr/r-base-4.3.2=. -fstack-protector-strong -Wformat -Werror=format-security -Wdate-time -D_FORTIFY_SOURCE=2  -c fread.c -o fread.o\n",
      "gcc -I\"/usr/share/R/include\" -DNDEBUG      -fopenmp  -fpic  -g -O2 -fdebug-prefix-map=/build/r-base-DdVjkr/r-base-4.3.2=. -fstack-protector-strong -Wformat -Werror=format-security -Wdate-time -D_FORTIFY_SOURCE=2  -c freadR.c -o freadR.o\n",
      "gcc -I\"/usr/share/R/include\" -DNDEBUG      -fopenmp  -fpic  -g -O2 -fdebug-prefix-map=/build/r-base-DdVjkr/r-base-4.3.2=. -fstack-protector-strong -Wformat -Werror=format-security -Wdate-time -D_FORTIFY_SOURCE=2  -c froll.c -o froll.o\n",
      "gcc -I\"/usr/share/R/include\" -DNDEBUG      -fopenmp  -fpic  -g -O2 -fdebug-prefix-map=/build/r-base-DdVjkr/r-base-4.3.2=. -fstack-protector-strong -Wformat -Werror=format-security -Wdate-time -D_FORTIFY_SOURCE=2  -c frollR.c -o frollR.o\n",
      "gcc -I\"/usr/share/R/include\" -DNDEBUG      -fopenmp  -fpic  -g -O2 -fdebug-prefix-map=/build/r-base-DdVjkr/r-base-4.3.2=. -fstack-protector-strong -Wformat -Werror=format-security -Wdate-time -D_FORTIFY_SOURCE=2  -c frolladaptive.c -o frolladaptive.o\n",
      "gcc -I\"/usr/share/R/include\" -DNDEBUG      -fopenmp  -fpic  -g -O2 -fdebug-prefix-map=/build/r-base-DdVjkr/r-base-4.3.2=. -fstack-protector-strong -Wformat -Werror=format-security -Wdate-time -D_FORTIFY_SOURCE=2  -c fsort.c -o fsort.o\n",
      "gcc -I\"/usr/share/R/include\" -DNDEBUG      -fopenmp  -fpic  -g -O2 -fdebug-prefix-map=/build/r-base-DdVjkr/r-base-4.3.2=. -fstack-protector-strong -Wformat -Werror=format-security -Wdate-time -D_FORTIFY_SOURCE=2  -c fwrite.c -o fwrite.o\n",
      "gcc -I\"/usr/share/R/include\" -DNDEBUG      -fopenmp  -fpic  -g -O2 -fdebug-prefix-map=/build/r-base-DdVjkr/r-base-4.3.2=. -fstack-protector-strong -Wformat -Werror=format-security -Wdate-time -D_FORTIFY_SOURCE=2  -c fwriteR.c -o fwriteR.o\n",
      "gcc -I\"/usr/share/R/include\" -DNDEBUG      -fopenmp  -fpic  -g -O2 -fdebug-prefix-map=/build/r-base-DdVjkr/r-base-4.3.2=. -fstack-protector-strong -Wformat -Werror=format-security -Wdate-time -D_FORTIFY_SOURCE=2  -c gsumm.c -o gsumm.o\n",
      "gcc -I\"/usr/share/R/include\" -DNDEBUG      -fopenmp  -fpic  -g -O2 -fdebug-prefix-map=/build/r-base-DdVjkr/r-base-4.3.2=. -fstack-protector-strong -Wformat -Werror=format-security -Wdate-time -D_FORTIFY_SOURCE=2  -c idatetime.c -o idatetime.o\n",
      "gcc -I\"/usr/share/R/include\" -DNDEBUG      -fopenmp  -fpic  -g -O2 -fdebug-prefix-map=/build/r-base-DdVjkr/r-base-4.3.2=. -fstack-protector-strong -Wformat -Werror=format-security -Wdate-time -D_FORTIFY_SOURCE=2  -c ijoin.c -o ijoin.o\n",
      "gcc -I\"/usr/share/R/include\" -DNDEBUG      -fopenmp  -fpic  -g -O2 -fdebug-prefix-map=/build/r-base-DdVjkr/r-base-4.3.2=. -fstack-protector-strong -Wformat -Werror=format-security -Wdate-time -D_FORTIFY_SOURCE=2  -c init.c -o init.o\n",
      "gcc -I\"/usr/share/R/include\" -DNDEBUG      -fopenmp  -fpic  -g -O2 -fdebug-prefix-map=/build/r-base-DdVjkr/r-base-4.3.2=. -fstack-protector-strong -Wformat -Werror=format-security -Wdate-time -D_FORTIFY_SOURCE=2  -c inrange.c -o inrange.o\n",
      "gcc -I\"/usr/share/R/include\" -DNDEBUG      -fopenmp  -fpic  -g -O2 -fdebug-prefix-map=/build/r-base-DdVjkr/r-base-4.3.2=. -fstack-protector-strong -Wformat -Werror=format-security -Wdate-time -D_FORTIFY_SOURCE=2  -c nafill.c -o nafill.o\n",
      "gcc -I\"/usr/share/R/include\" -DNDEBUG      -fopenmp  -fpic  -g -O2 -fdebug-prefix-map=/build/r-base-DdVjkr/r-base-4.3.2=. -fstack-protector-strong -Wformat -Werror=format-security -Wdate-time -D_FORTIFY_SOURCE=2  -c negate.c -o negate.o\n",
      "gcc -I\"/usr/share/R/include\" -DNDEBUG      -fopenmp  -fpic  -g -O2 -fdebug-prefix-map=/build/r-base-DdVjkr/r-base-4.3.2=. -fstack-protector-strong -Wformat -Werror=format-security -Wdate-time -D_FORTIFY_SOURCE=2  -c nqrecreateindices.c -o nqrecreateindices.o\n",
      "gcc -I\"/usr/share/R/include\" -DNDEBUG      -fopenmp  -fpic  -g -O2 -fdebug-prefix-map=/build/r-base-DdVjkr/r-base-4.3.2=. -fstack-protector-strong -Wformat -Werror=format-security -Wdate-time -D_FORTIFY_SOURCE=2  -c openmp-utils.c -o openmp-utils.o\n",
      "gcc -I\"/usr/share/R/include\" -DNDEBUG      -fopenmp  -fpic  -g -O2 -fdebug-prefix-map=/build/r-base-DdVjkr/r-base-4.3.2=. -fstack-protector-strong -Wformat -Werror=format-security -Wdate-time -D_FORTIFY_SOURCE=2  -c programming.c -o programming.o\n",
      "gcc -I\"/usr/share/R/include\" -DNDEBUG      -fopenmp  -fpic  -g -O2 -fdebug-prefix-map=/build/r-base-DdVjkr/r-base-4.3.2=. -fstack-protector-strong -Wformat -Werror=format-security -Wdate-time -D_FORTIFY_SOURCE=2  -c quickselect.c -o quickselect.o\n",
      "gcc -I\"/usr/share/R/include\" -DNDEBUG      -fopenmp  -fpic  -g -O2 -fdebug-prefix-map=/build/r-base-DdVjkr/r-base-4.3.2=. -fstack-protector-strong -Wformat -Werror=format-security -Wdate-time -D_FORTIFY_SOURCE=2  -c rbindlist.c -o rbindlist.o\n",
      "gcc -I\"/usr/share/R/include\" -DNDEBUG      -fopenmp  -fpic  -g -O2 -fdebug-prefix-map=/build/r-base-DdVjkr/r-base-4.3.2=. -fstack-protector-strong -Wformat -Werror=format-security -Wdate-time -D_FORTIFY_SOURCE=2  -c reorder.c -o reorder.o\n",
      "gcc -I\"/usr/share/R/include\" -DNDEBUG      -fopenmp  -fpic  -g -O2 -fdebug-prefix-map=/build/r-base-DdVjkr/r-base-4.3.2=. -fstack-protector-strong -Wformat -Werror=format-security -Wdate-time -D_FORTIFY_SOURCE=2  -c shift.c -o shift.o\n",
      "gcc -I\"/usr/share/R/include\" -DNDEBUG      -fopenmp  -fpic  -g -O2 -fdebug-prefix-map=/build/r-base-DdVjkr/r-base-4.3.2=. -fstack-protector-strong -Wformat -Werror=format-security -Wdate-time -D_FORTIFY_SOURCE=2  -c snprintf.c -o snprintf.o\n",
      "gcc -I\"/usr/share/R/include\" -DNDEBUG      -fopenmp  -fpic  -g -O2 -fdebug-prefix-map=/build/r-base-DdVjkr/r-base-4.3.2=. -fstack-protector-strong -Wformat -Werror=format-security -Wdate-time -D_FORTIFY_SOURCE=2  -c subset.c -o subset.o\n",
      "gcc -I\"/usr/share/R/include\" -DNDEBUG      -fopenmp  -fpic  -g -O2 -fdebug-prefix-map=/build/r-base-DdVjkr/r-base-4.3.2=. -fstack-protector-strong -Wformat -Werror=format-security -Wdate-time -D_FORTIFY_SOURCE=2  -c transpose.c -o transpose.o\n",
      "gcc -I\"/usr/share/R/include\" -DNDEBUG      -fopenmp  -fpic  -g -O2 -fdebug-prefix-map=/build/r-base-DdVjkr/r-base-4.3.2=. -fstack-protector-strong -Wformat -Werror=format-security -Wdate-time -D_FORTIFY_SOURCE=2  -c types.c -o types.o\n",
      "gcc -I\"/usr/share/R/include\" -DNDEBUG      -fopenmp  -fpic  -g -O2 -fdebug-prefix-map=/build/r-base-DdVjkr/r-base-4.3.2=. -fstack-protector-strong -Wformat -Werror=format-security -Wdate-time -D_FORTIFY_SOURCE=2  -c uniqlist.c -o uniqlist.o\n",
      "gcc -I\"/usr/share/R/include\" -DNDEBUG      -fopenmp  -fpic  -g -O2 -fdebug-prefix-map=/build/r-base-DdVjkr/r-base-4.3.2=. -fstack-protector-strong -Wformat -Werror=format-security -Wdate-time -D_FORTIFY_SOURCE=2  -c utils.c -o utils.o\n",
      "gcc -I\"/usr/share/R/include\" -DNDEBUG      -fopenmp  -fpic  -g -O2 -fdebug-prefix-map=/build/r-base-DdVjkr/r-base-4.3.2=. -fstack-protector-strong -Wformat -Werror=format-security -Wdate-time -D_FORTIFY_SOURCE=2  -c vecseq.c -o vecseq.o\n",
      "gcc -I\"/usr/share/R/include\" -DNDEBUG      -fopenmp  -fpic  -g -O2 -fdebug-prefix-map=/build/r-base-DdVjkr/r-base-4.3.2=. -fstack-protector-strong -Wformat -Werror=format-security -Wdate-time -D_FORTIFY_SOURCE=2  -c wrappers.c -o wrappers.o\n",
      "gcc -shared -L/usr/lib/R/lib -Wl,-Bsymbolic-functions -Wl,-z,relro -o data.table.so assign.o between.o bmerge.o chmatch.o cj.o coalesce.o dogroups.o fastmean.o fcast.o fifelse.o fmelt.o forder.o frank.o fread.o freadR.o froll.o frollR.o frolladaptive.o fsort.o fwrite.o fwriteR.o gsumm.o idatetime.o ijoin.o init.o inrange.o nafill.o negate.o nqrecreateindices.o openmp-utils.o programming.o quickselect.o rbindlist.o reorder.o shift.o snprintf.o subset.o transpose.o types.o uniqlist.o utils.o vecseq.o wrappers.o -fopenmp -lz -L/usr/lib/R/lib -lR\n",
      "PKG_CFLAGS = -fopenmp\n",
      "PKG_LIBS = -fopenmp -lz\n",
      "if [ \"data.table.so\" != \"data_table.so\" ]; then mv data.table.so data_table.so; fi\n",
      "if [ \"\" != \"Windows_NT\" ] && [ `uname -s` = 'Darwin' ]; then install_name_tool -id data_table.so data_table.so; fi\n",
      "g++ -std=gnu++17 -I\"/usr/share/R/include\" -DNDEBUG -I.      -fpic  -g -O2 -fdebug-prefix-map=/build/r-base-DdVjkr/r-base-4.3.2=. -fstack-protector-strong -Wformat -Werror=format-security -Wdate-time -D_FORTIFY_SOURCE=2  -c SpookyV2.cpp -o SpookyV2.o\n",
      "gcc -I\"/usr/share/R/include\" -DNDEBUG -I.      -fpic  -g -O2 -fdebug-prefix-map=/build/r-base-DdVjkr/r-base-4.3.2=. -fstack-protector-strong -Wformat -Werror=format-security -Wdate-time -D_FORTIFY_SOURCE=2  -c aes.c -o aes.o\n",
      "gcc -I\"/usr/share/R/include\" -DNDEBUG -I.      -fpic  -g -O2 -fdebug-prefix-map=/build/r-base-DdVjkr/r-base-4.3.2=. -fstack-protector-strong -Wformat -Werror=format-security -Wdate-time -D_FORTIFY_SOURCE=2  -c blake3.c -o blake3.o\n",
      "gcc -I\"/usr/share/R/include\" -DNDEBUG -I.      -fpic  -g -O2 -fdebug-prefix-map=/build/r-base-DdVjkr/r-base-4.3.2=. -fstack-protector-strong -Wformat -Werror=format-security -Wdate-time -D_FORTIFY_SOURCE=2  -c blake3_dispatch.c -o blake3_dispatch.o\n",
      "gcc -I\"/usr/share/R/include\" -DNDEBUG -I.      -fpic  -g -O2 -fdebug-prefix-map=/build/r-base-DdVjkr/r-base-4.3.2=. -fstack-protector-strong -Wformat -Werror=format-security -Wdate-time -D_FORTIFY_SOURCE=2  -c blake3_portable.c -o blake3_portable.o\n",
      "gcc -I\"/usr/share/R/include\" -DNDEBUG -I.      -fpic  -g -O2 -fdebug-prefix-map=/build/r-base-DdVjkr/r-base-4.3.2=. -fstack-protector-strong -Wformat -Werror=format-security -Wdate-time -D_FORTIFY_SOURCE=2  -c crc32.c -o crc32.o\n",
      "g++ -std=gnu++17 -I\"/usr/share/R/include\" -DNDEBUG -I.      -fpic  -g -O2 -fdebug-prefix-map=/build/r-base-DdVjkr/r-base-4.3.2=. -fstack-protector-strong -Wformat -Werror=format-security -Wdate-time -D_FORTIFY_SOURCE=2  -c crc32c.cpp -o crc32c.o\n",
      "g++ -std=gnu++17 -I\"/usr/share/R/include\" -DNDEBUG -I.      -fpic  -g -O2 -fdebug-prefix-map=/build/r-base-DdVjkr/r-base-4.3.2=. -fstack-protector-strong -Wformat -Werror=format-security -Wdate-time -D_FORTIFY_SOURCE=2  -c crc32c_portable.cpp -o crc32c_portable.o\n",
      "gcc -I\"/usr/share/R/include\" -DNDEBUG -I.      -fpic  -g -O2 -fdebug-prefix-map=/build/r-base-DdVjkr/r-base-4.3.2=. -fstack-protector-strong -Wformat -Werror=format-security -Wdate-time -D_FORTIFY_SOURCE=2  -c digest.c -o digest.o\n",
      "gcc -I\"/usr/share/R/include\" -DNDEBUG -I.      -fpic  -g -O2 -fdebug-prefix-map=/build/r-base-DdVjkr/r-base-4.3.2=. -fstack-protector-strong -Wformat -Werror=format-security -Wdate-time -D_FORTIFY_SOURCE=2  -c digest2int.c -o digest2int.o\n",
      "gcc -I\"/usr/share/R/include\" -DNDEBUG -I.      -fpic  -g -O2 -fdebug-prefix-map=/build/r-base-DdVjkr/r-base-4.3.2=. -fstack-protector-strong -Wformat -Werror=format-security -Wdate-time -D_FORTIFY_SOURCE=2  -c init.c -o init.o\n",
      "gcc -I\"/usr/share/R/include\" -DNDEBUG -I.      -fpic  -g -O2 -fdebug-prefix-map=/build/r-base-DdVjkr/r-base-4.3.2=. -fstack-protector-strong -Wformat -Werror=format-security -Wdate-time -D_FORTIFY_SOURCE=2  -c md5.c -o md5.o\n",
      "gcc -I\"/usr/share/R/include\" -DNDEBUG -I.      -fpic  -g -O2 -fdebug-prefix-map=/build/r-base-DdVjkr/r-base-4.3.2=. -fstack-protector-strong -Wformat -Werror=format-security -Wdate-time -D_FORTIFY_SOURCE=2  -c pmurhash.c -o pmurhash.o\n",
      "gcc -I\"/usr/share/R/include\" -DNDEBUG -I.      -fpic  -g -O2 -fdebug-prefix-map=/build/r-base-DdVjkr/r-base-4.3.2=. -fstack-protector-strong -Wformat -Werror=format-security -Wdate-time -D_FORTIFY_SOURCE=2  -c raes.c -o raes.o\n",
      "gcc -I\"/usr/share/R/include\" -DNDEBUG -I.      -fpic  -g -O2 -fdebug-prefix-map=/build/r-base-DdVjkr/r-base-4.3.2=. -fstack-protector-strong -Wformat -Werror=format-security -Wdate-time -D_FORTIFY_SOURCE=2  -c sha1.c -o sha1.o\n",
      "gcc -I\"/usr/share/R/include\" -DNDEBUG -I.      -fpic  -g -O2 -fdebug-prefix-map=/build/r-base-DdVjkr/r-base-4.3.2=. -fstack-protector-strong -Wformat -Werror=format-security -Wdate-time -D_FORTIFY_SOURCE=2  -c sha2.c -o sha2.o\n",
      "gcc -I\"/usr/share/R/include\" -DNDEBUG -I.      -fpic  -g -O2 -fdebug-prefix-map=/build/r-base-DdVjkr/r-base-4.3.2=. -fstack-protector-strong -Wformat -Werror=format-security -Wdate-time -D_FORTIFY_SOURCE=2  -c sha256.c -o sha256.o\n",
      "g++ -std=gnu++17 -I\"/usr/share/R/include\" -DNDEBUG -I.      -fpic  -g -O2 -fdebug-prefix-map=/build/r-base-DdVjkr/r-base-4.3.2=. -fstack-protector-strong -Wformat -Werror=format-security -Wdate-time -D_FORTIFY_SOURCE=2  -c spooky_serialize.cpp -o spooky_serialize.o\n",
      "gcc -I\"/usr/share/R/include\" -DNDEBUG -I.      -fpic  -g -O2 -fdebug-prefix-map=/build/r-base-DdVjkr/r-base-4.3.2=. -fstack-protector-strong -Wformat -Werror=format-security -Wdate-time -D_FORTIFY_SOURCE=2  -c xxhash.c -o xxhash.o\n",
      "g++ -std=gnu++17 -shared -L/usr/lib/R/lib -Wl,-Bsymbolic-functions -Wl,-z,relro -o digest.so SpookyV2.o aes.o blake3.o blake3_dispatch.o blake3_portable.o crc32.o crc32c.o crc32c_portable.o digest.o digest2int.o init.o md5.o pmurhash.o raes.o sha1.o sha2.o sha256.o spooky_serialize.o xxhash.o -L/usr/lib/R/lib -lR\n",
      "gcc -I\"/usr/share/R/include\" -DNDEBUG       -fpic  -g -O2 -fdebug-prefix-map=/build/r-base-DdVjkr/r-base-4.3.2=. -fstack-protector-strong -Wformat -Werror=format-security -Wdate-time -D_FORTIFY_SOURCE=2  -c 000.init.c -o 000.init.o\n",
      "gcc -I\"/usr/share/R/include\" -DNDEBUG       -fpic  -g -O2 -fdebug-prefix-map=/build/r-base-DdVjkr/r-base-4.3.2=. -fstack-protector-strong -Wformat -Werror=format-security -Wdate-time -D_FORTIFY_SOURCE=2  -c test_tcp_port.c -o test_tcp_port.o\n",
      "gcc -shared -L/usr/lib/R/lib -Wl,-Bsymbolic-functions -Wl,-z,relro -o parallelly.so 000.init.o test_tcp_port.o -L/usr/lib/R/lib -lR\n",
      "gcc -I\"/usr/share/R/include\" -DNDEBUG       -fpic  -g -O2 -fdebug-prefix-map=/build/r-base-DdVjkr/r-base-4.3.2=. -fstack-protector-strong -Wformat -Werror=format-security -Wdate-time -D_FORTIFY_SOURCE=2  -c cache.c -o cache.o\n",
      "gcc -I\"/usr/share/R/include\" -DNDEBUG       -fpic  -g -O2 -fdebug-prefix-map=/build/r-base-DdVjkr/r-base-4.3.2=. -fstack-protector-strong -Wformat -Werror=format-security -Wdate-time -D_FORTIFY_SOURCE=2  -c init.c -o init.o\n",
      "gcc -shared -L/usr/lib/R/lib -Wl,-Bsymbolic-functions -Wl,-z,relro -o cachem.so cache.o init.o -L/usr/lib/R/lib -lR\n",
      "g++ -std=gnu++11 -I\"/usr/share/R/include\" -DNDEBUG       -fpic  -g -O2 -fdebug-prefix-map=/build/r-base-DdVjkr/r-base-4.3.2=. -fstack-protector-strong -Wformat -Werror=format-security -Wdate-time -D_FORTIFY_SOURCE=2  -c ColorSpace.cpp -o ColorSpace.o\n",
      "g++ -std=gnu++11 -I\"/usr/share/R/include\" -DNDEBUG       -fpic  -g -O2 -fdebug-prefix-map=/build/r-base-DdVjkr/r-base-4.3.2=. -fstack-protector-strong -Wformat -Werror=format-security -Wdate-time -D_FORTIFY_SOURCE=2  -c Comparison.cpp -o Comparison.o\n",
      "g++ -std=gnu++11 -I\"/usr/share/R/include\" -DNDEBUG       -fpic  -g -O2 -fdebug-prefix-map=/build/r-base-DdVjkr/r-base-4.3.2=. -fstack-protector-strong -Wformat -Werror=format-security -Wdate-time -D_FORTIFY_SOURCE=2  -c Conversion.cpp -o Conversion.o\n",
      "g++ -std=gnu++11 -I\"/usr/share/R/include\" -DNDEBUG       -fpic  -g -O2 -fdebug-prefix-map=/build/r-base-DdVjkr/r-base-4.3.2=. -fstack-protector-strong -Wformat -Werror=format-security -Wdate-time -D_FORTIFY_SOURCE=2  -c encode.cpp -o encode.o\n",
      "g++ -std=gnu++11 -I\"/usr/share/R/include\" -DNDEBUG       -fpic  -g -O2 -fdebug-prefix-map=/build/r-base-DdVjkr/r-base-4.3.2=. -fstack-protector-strong -Wformat -Werror=format-security -Wdate-time -D_FORTIFY_SOURCE=2  -c farver.cpp -o farver.o\n",
      "g++ -std=gnu++11 -I\"/usr/share/R/include\" -DNDEBUG       -fpic  -g -O2 -fdebug-prefix-map=/build/r-base-DdVjkr/r-base-4.3.2=. -fstack-protector-strong -Wformat -Werror=format-security -Wdate-time -D_FORTIFY_SOURCE=2  -c init.cpp -o init.o\n",
      "g++ -std=gnu++11 -shared -L/usr/lib/R/lib -Wl,-Bsymbolic-functions -Wl,-z,relro -o farver.so ColorSpace.o Comparison.o Conversion.o encode.o farver.o init.o -L/usr/lib/R/lib -lR\n",
      "gcc -I\"/usr/share/R/include\" -DNDEBUG      -Iutf8lite/src -fpic  -g -O2 -fdebug-prefix-map=/build/r-base-DdVjkr/r-base-4.3.2=. -fstack-protector-strong -Wformat -Werror=format-security -Wdate-time -D_FORTIFY_SOURCE=2  -c as_utf8.c -o as_utf8.o\n",
      "gcc -I\"/usr/share/R/include\" -DNDEBUG      -Iutf8lite/src -fpic  -g -O2 -fdebug-prefix-map=/build/r-base-DdVjkr/r-base-4.3.2=. -fstack-protector-strong -Wformat -Werror=format-security -Wdate-time -D_FORTIFY_SOURCE=2  -c bytes.c -o bytes.o\n",
      "gcc -I\"/usr/share/R/include\" -DNDEBUG      -Iutf8lite/src -fpic  -g -O2 -fdebug-prefix-map=/build/r-base-DdVjkr/r-base-4.3.2=. -fstack-protector-strong -Wformat -Werror=format-security -Wdate-time -D_FORTIFY_SOURCE=2  -c context.c -o context.o\n",
      "gcc -I\"/usr/share/R/include\" -DNDEBUG      -Iutf8lite/src -fpic  -g -O2 -fdebug-prefix-map=/build/r-base-DdVjkr/r-base-4.3.2=. -fstack-protector-strong -Wformat -Werror=format-security -Wdate-time -D_FORTIFY_SOURCE=2  -c init.c -o init.o\n",
      "gcc -I\"/usr/share/R/include\" -DNDEBUG      -Iutf8lite/src -fpic  -g -O2 -fdebug-prefix-map=/build/r-base-DdVjkr/r-base-4.3.2=. -fstack-protector-strong -Wformat -Werror=format-security -Wdate-time -D_FORTIFY_SOURCE=2  -c render.c -o render.o\n",
      "gcc -I\"/usr/share/R/include\" -DNDEBUG      -Iutf8lite/src -fpic  -g -O2 -fdebug-prefix-map=/build/r-base-DdVjkr/r-base-4.3.2=. -fstack-protector-strong -Wformat -Werror=format-security -Wdate-time -D_FORTIFY_SOURCE=2  -c render_table.c -o render_table.o\n",
      "gcc -I\"/usr/share/R/include\" -DNDEBUG      -Iutf8lite/src -fpic  -g -O2 -fdebug-prefix-map=/build/r-base-DdVjkr/r-base-4.3.2=. -fstack-protector-strong -Wformat -Werror=format-security -Wdate-time -D_FORTIFY_SOURCE=2  -c string.c -o string.o\n",
      "gcc -I\"/usr/share/R/include\" -DNDEBUG      -Iutf8lite/src -fpic  -g -O2 -fdebug-prefix-map=/build/r-base-DdVjkr/r-base-4.3.2=. -fstack-protector-strong -Wformat -Werror=format-security -Wdate-time -D_FORTIFY_SOURCE=2  -c text.c -o text.o\n",
      "gcc -I\"/usr/share/R/include\" -DNDEBUG      -Iutf8lite/src -fpic  -g -O2 -fdebug-prefix-map=/build/r-base-DdVjkr/r-base-4.3.2=. -fstack-protector-strong -Wformat -Werror=format-security -Wdate-time -D_FORTIFY_SOURCE=2  -c utf8_encode.c -o utf8_encode.o\n",
      "gcc -I\"/usr/share/R/include\" -DNDEBUG      -Iutf8lite/src -fpic  -g -O2 -fdebug-prefix-map=/build/r-base-DdVjkr/r-base-4.3.2=. -fstack-protector-strong -Wformat -Werror=format-security -Wdate-time -D_FORTIFY_SOURCE=2  -c utf8_format.c -o utf8_format.o\n",
      "gcc -I\"/usr/share/R/include\" -DNDEBUG      -Iutf8lite/src -fpic  -g -O2 -fdebug-prefix-map=/build/r-base-DdVjkr/r-base-4.3.2=. -fstack-protector-strong -Wformat -Werror=format-security -Wdate-time -D_FORTIFY_SOURCE=2  -c utf8_normalize.c -o utf8_normalize.o\n",
      "gcc -I\"/usr/share/R/include\" -DNDEBUG      -Iutf8lite/src -fpic  -g -O2 -fdebug-prefix-map=/build/r-base-DdVjkr/r-base-4.3.2=. -fstack-protector-strong -Wformat -Werror=format-security -Wdate-time -D_FORTIFY_SOURCE=2  -c utf8_valid.c -o utf8_valid.o\n",
      "gcc -I\"/usr/share/R/include\" -DNDEBUG      -Iutf8lite/src -fpic  -g -O2 -fdebug-prefix-map=/build/r-base-DdVjkr/r-base-4.3.2=. -fstack-protector-strong -Wformat -Werror=format-security -Wdate-time -D_FORTIFY_SOURCE=2  -c utf8_width.c -o utf8_width.o\n",
      "gcc -I\"/usr/share/R/include\" -DNDEBUG      -Iutf8lite/src -fpic  -g -O2 -fdebug-prefix-map=/build/r-base-DdVjkr/r-base-4.3.2=. -fstack-protector-strong -Wformat -Werror=format-security -Wdate-time -D_FORTIFY_SOURCE=2  -c util.c -o util.o\n",
      "gcc -I\"/usr/share/R/include\" -DNDEBUG      -Iutf8lite/src -fpic  -g -O2 -fdebug-prefix-map=/build/r-base-DdVjkr/r-base-4.3.2=. -fstack-protector-strong -Wformat -Werror=format-security -Wdate-time -D_FORTIFY_SOURCE=2  -c utf8lite/src/array.c -o utf8lite/src/array.o\n",
      "gcc -I\"/usr/share/R/include\" -DNDEBUG      -Iutf8lite/src -fpic  -g -O2 -fdebug-prefix-map=/build/r-base-DdVjkr/r-base-4.3.2=. -fstack-protector-strong -Wformat -Werror=format-security -Wdate-time -D_FORTIFY_SOURCE=2  -c utf8lite/src/char.c -o utf8lite/src/char.o\n",
      "gcc -I\"/usr/share/R/include\" -DNDEBUG      -Iutf8lite/src -fpic  -g -O2 -fdebug-prefix-map=/build/r-base-DdVjkr/r-base-4.3.2=. -fstack-protector-strong -Wformat -Werror=format-security -Wdate-time -D_FORTIFY_SOURCE=2  -c utf8lite/src/encode.c -o utf8lite/src/encode.o\n",
      "gcc -I\"/usr/share/R/include\" -DNDEBUG      -Iutf8lite/src -fpic  -g -O2 -fdebug-prefix-map=/build/r-base-DdVjkr/r-base-4.3.2=. -fstack-protector-strong -Wformat -Werror=format-security -Wdate-time -D_FORTIFY_SOURCE=2  -c utf8lite/src/error.c -o utf8lite/src/error.o\n",
      "gcc -I\"/usr/share/R/include\" -DNDEBUG      -Iutf8lite/src -fpic  -g -O2 -fdebug-prefix-map=/build/r-base-DdVjkr/r-base-4.3.2=. -fstack-protector-strong -Wformat -Werror=format-security -Wdate-time -D_FORTIFY_SOURCE=2  -c utf8lite/src/escape.c -o utf8lite/src/escape.o\n",
      "gcc -I\"/usr/share/R/include\" -DNDEBUG      -Iutf8lite/src -fpic  -g -O2 -fdebug-prefix-map=/build/r-base-DdVjkr/r-base-4.3.2=. -fstack-protector-strong -Wformat -Werror=format-security -Wdate-time -D_FORTIFY_SOURCE=2  -c utf8lite/src/graph.c -o utf8lite/src/graph.o\n",
      "gcc -I\"/usr/share/R/include\" -DNDEBUG      -Iutf8lite/src -fpic  -g -O2 -fdebug-prefix-map=/build/r-base-DdVjkr/r-base-4.3.2=. -fstack-protector-strong -Wformat -Werror=format-security -Wdate-time -D_FORTIFY_SOURCE=2  -c utf8lite/src/graphscan.c -o utf8lite/src/graphscan.o\n",
      "gcc -I\"/usr/share/R/include\" -DNDEBUG      -Iutf8lite/src -fpic  -g -O2 -fdebug-prefix-map=/build/r-base-DdVjkr/r-base-4.3.2=. -fstack-protector-strong -Wformat -Werror=format-security -Wdate-time -D_FORTIFY_SOURCE=2  -c utf8lite/src/normalize.c -o utf8lite/src/normalize.o\n",
      "gcc -I\"/usr/share/R/include\" -DNDEBUG      -Iutf8lite/src -fpic  -g -O2 -fdebug-prefix-map=/build/r-base-DdVjkr/r-base-4.3.2=. -fstack-protector-strong -Wformat -Werror=format-security -Wdate-time -D_FORTIFY_SOURCE=2  -c utf8lite/src/render.c -o utf8lite/src/render.o\n",
      "gcc -I\"/usr/share/R/include\" -DNDEBUG      -Iutf8lite/src -fpic  -g -O2 -fdebug-prefix-map=/build/r-base-DdVjkr/r-base-4.3.2=. -fstack-protector-strong -Wformat -Werror=format-security -Wdate-time -D_FORTIFY_SOURCE=2  -c utf8lite/src/text.c -o utf8lite/src/text.o\n",
      "gcc -I\"/usr/share/R/include\" -DNDEBUG      -Iutf8lite/src -fpic  -g -O2 -fdebug-prefix-map=/build/r-base-DdVjkr/r-base-4.3.2=. -fstack-protector-strong -Wformat -Werror=format-security -Wdate-time -D_FORTIFY_SOURCE=2  -c utf8lite/src/textassign.c -o utf8lite/src/textassign.o\n",
      "gcc -I\"/usr/share/R/include\" -DNDEBUG      -Iutf8lite/src -fpic  -g -O2 -fdebug-prefix-map=/build/r-base-DdVjkr/r-base-4.3.2=. -fstack-protector-strong -Wformat -Werror=format-security -Wdate-time -D_FORTIFY_SOURCE=2  -c utf8lite/src/textiter.c -o utf8lite/src/textiter.o\n",
      "gcc -I\"/usr/share/R/include\" -DNDEBUG      -Iutf8lite/src -fpic  -g -O2 -fdebug-prefix-map=/build/r-base-DdVjkr/r-base-4.3.2=. -fstack-protector-strong -Wformat -Werror=format-security -Wdate-time -D_FORTIFY_SOURCE=2  -c utf8lite/src/textmap.c -o utf8lite/src/textmap.o\n",
      "ar rcs libcutf8lite.a utf8lite/src/array.o utf8lite/src/char.o utf8lite/src/encode.o utf8lite/src/error.o utf8lite/src/escape.o utf8lite/src/graph.o utf8lite/src/graphscan.o utf8lite/src/normalize.o utf8lite/src/render.o utf8lite/src/text.o utf8lite/src/textassign.o utf8lite/src/textiter.o utf8lite/src/textmap.o\n",
      "gcc -shared -L/usr/lib/R/lib -Wl,-Bsymbolic-functions -Wl,-z,relro -o utf8.so as_utf8.o bytes.o context.o init.o render.o render_table.o string.o text.o utf8_encode.o utf8_format.o utf8_normalize.o utf8_valid.o utf8_width.o util.o -L. -lcutf8lite -L/usr/lib/R/lib -lR\n",
      "gcc -I\"/usr/share/R/include\" -DNDEBUG       -fpic  -g -O2 -fdebug-prefix-map=/build/r-base-DdVjkr/r-base-4.3.2=. -fstack-protector-strong -Wformat -Werror=format-security -Wdate-time -D_FORTIFY_SOURCE=2  -c boundary.c -o boundary.o\n",
      "gcc -I\"/usr/share/R/include\" -DNDEBUG       -fpic  -g -O2 -fdebug-prefix-map=/build/r-base-DdVjkr/r-base-4.3.2=. -fstack-protector-strong -Wformat -Werror=format-security -Wdate-time -D_FORTIFY_SOURCE=2  -c change.c -o change.o\n",
      "gcc -I\"/usr/share/R/include\" -DNDEBUG       -fpic  -g -O2 -fdebug-prefix-map=/build/r-base-DdVjkr/r-base-4.3.2=. -fstack-protector-strong -Wformat -Werror=format-security -Wdate-time -D_FORTIFY_SOURCE=2  -c coercion.c -o coercion.o\n",
      "gcc -I\"/usr/share/R/include\" -DNDEBUG       -fpic  -g -O2 -fdebug-prefix-map=/build/r-base-DdVjkr/r-base-4.3.2=. -fstack-protector-strong -Wformat -Werror=format-security -Wdate-time -D_FORTIFY_SOURCE=2  -c date.c -o date.o\n",
      "gcc -I\"/usr/share/R/include\" -DNDEBUG       -fpic  -g -O2 -fdebug-prefix-map=/build/r-base-DdVjkr/r-base-4.3.2=. -fstack-protector-strong -Wformat -Werror=format-security -Wdate-time -D_FORTIFY_SOURCE=2  -c distance.c -o distance.o\n",
      "gcc -I\"/usr/share/R/include\" -DNDEBUG       -fpic  -g -O2 -fdebug-prefix-map=/build/r-base-DdVjkr/r-base-4.3.2=. -fstack-protector-strong -Wformat -Werror=format-security -Wdate-time -D_FORTIFY_SOURCE=2  -c divmod.c -o divmod.o\n",
      "gcc -I\"/usr/share/R/include\" -DNDEBUG       -fpic  -g -O2 -fdebug-prefix-map=/build/r-base-DdVjkr/r-base-4.3.2=. -fstack-protector-strong -Wformat -Werror=format-security -Wdate-time -D_FORTIFY_SOURCE=2  -c get.c -o get.o\n",
      "gcc -I\"/usr/share/R/include\" -DNDEBUG       -fpic  -g -O2 -fdebug-prefix-map=/build/r-base-DdVjkr/r-base-4.3.2=. -fstack-protector-strong -Wformat -Werror=format-security -Wdate-time -D_FORTIFY_SOURCE=2  -c init.c -o init.o\n",
      "gcc -I\"/usr/share/R/include\" -DNDEBUG       -fpic  -g -O2 -fdebug-prefix-map=/build/r-base-DdVjkr/r-base-4.3.2=. -fstack-protector-strong -Wformat -Werror=format-security -Wdate-time -D_FORTIFY_SOURCE=2  -c timezone.c -o timezone.o\n",
      "gcc -I\"/usr/share/R/include\" -DNDEBUG       -fpic  -g -O2 -fdebug-prefix-map=/build/r-base-DdVjkr/r-base-4.3.2=. -fstack-protector-strong -Wformat -Werror=format-security -Wdate-time -D_FORTIFY_SOURCE=2  -c utils.c -o utils.o\n",
      "gcc -shared -L/usr/lib/R/lib -Wl,-Bsymbolic-functions -Wl,-z,relro -o warp.so boundary.o change.o coercion.o date.o distance.o divmod.o get.o init.o timezone.o utils.o -L/usr/lib/R/lib -lR\n",
      "g++ -std=gnu++11 -I\"/usr/share/R/include\" -DNDEBUG -DRCOMPILE -I'/usr/local/lib/R/site-library/Rcpp/include'     -fpic  -g -O2 -fdebug-prefix-map=/build/r-base-DdVjkr/r-base-4.3.2=. -fstack-protector-strong -Wformat -Werror=format-security -Wdate-time -D_FORTIFY_SOURCE=2  -c COrthogonalArray.cpp -o COrthogonalArray.o\n",
      "g++ -std=gnu++11 -I\"/usr/share/R/include\" -DNDEBUG -DRCOMPILE -I'/usr/local/lib/R/site-library/Rcpp/include'     -fpic  -g -O2 -fdebug-prefix-map=/build/r-base-DdVjkr/r-base-4.3.2=. -fstack-protector-strong -Wformat -Werror=format-security -Wdate-time -D_FORTIFY_SOURCE=2  -c GaloisField.cpp -o GaloisField.o\n",
      "g++ -std=gnu++11 -I\"/usr/share/R/include\" -DNDEBUG -DRCOMPILE -I'/usr/local/lib/R/site-library/Rcpp/include'     -fpic  -g -O2 -fdebug-prefix-map=/build/r-base-DdVjkr/r-base-4.3.2=. -fstack-protector-strong -Wformat -Werror=format-security -Wdate-time -D_FORTIFY_SOURCE=2  -c ak3.cpp -o ak3.o\n",
      "g++ -std=gnu++11 -I\"/usr/share/R/include\" -DNDEBUG -DRCOMPILE -I'/usr/local/lib/R/site-library/Rcpp/include'     -fpic  -g -O2 -fdebug-prefix-map=/build/r-base-DdVjkr/r-base-4.3.2=. -fstack-protector-strong -Wformat -Werror=format-security -Wdate-time -D_FORTIFY_SOURCE=2  -c akconst.cpp -o akconst.o\n",
      "g++ -std=gnu++11 -I\"/usr/share/R/include\" -DNDEBUG -DRCOMPILE -I'/usr/local/lib/R/site-library/Rcpp/include'     -fpic  -g -O2 -fdebug-prefix-map=/build/r-base-DdVjkr/r-base-4.3.2=. -fstack-protector-strong -Wformat -Werror=format-security -Wdate-time -D_FORTIFY_SOURCE=2  -c akn.cpp -o akn.o\n",
      "g++ -std=gnu++11 -I\"/usr/share/R/include\" -DNDEBUG -DRCOMPILE -I'/usr/local/lib/R/site-library/Rcpp/include'     -fpic  -g -O2 -fdebug-prefix-map=/build/r-base-DdVjkr/r-base-4.3.2=. -fstack-protector-strong -Wformat -Werror=format-security -Wdate-time -D_FORTIFY_SOURCE=2  -c construct.cpp -o construct.o\n",
      "g++ -std=gnu++11 -I\"/usr/share/R/include\" -DNDEBUG -DRCOMPILE -I'/usr/local/lib/R/site-library/Rcpp/include'     -fpic  -g -O2 -fdebug-prefix-map=/build/r-base-DdVjkr/r-base-4.3.2=. -fstack-protector-strong -Wformat -Werror=format-security -Wdate-time -D_FORTIFY_SOURCE=2  -c geneticLHS.cpp -o geneticLHS.o\n",
      "g++ -std=gnu++11 -I\"/usr/share/R/include\" -DNDEBUG -DRCOMPILE -I'/usr/local/lib/R/site-library/Rcpp/include'     -fpic  -g -O2 -fdebug-prefix-map=/build/r-base-DdVjkr/r-base-4.3.2=. -fstack-protector-strong -Wformat -Werror=format-security -Wdate-time -D_FORTIFY_SOURCE=2  -c improvedLHS.cpp -o improvedLHS.o\n",
      "gcc -I\"/usr/share/R/include\" -DNDEBUG -DRCOMPILE -I'/usr/local/lib/R/site-library/Rcpp/include'     -fpic  -g -O2 -fdebug-prefix-map=/build/r-base-DdVjkr/r-base-4.3.2=. -fstack-protector-strong -Wformat -Werror=format-security -Wdate-time -D_FORTIFY_SOURCE=2  -c init.c -o init.o\n",
      "g++ -std=gnu++11 -I\"/usr/share/R/include\" -DNDEBUG -DRCOMPILE -I'/usr/local/lib/R/site-library/Rcpp/include'     -fpic  -g -O2 -fdebug-prefix-map=/build/r-base-DdVjkr/r-base-4.3.2=. -fstack-protector-strong -Wformat -Werror=format-security -Wdate-time -D_FORTIFY_SOURCE=2  -c lhs_r.cpp -o lhs_r.o\n",
      "g++ -std=gnu++11 -I\"/usr/share/R/include\" -DNDEBUG -DRCOMPILE -I'/usr/local/lib/R/site-library/Rcpp/include'     -fpic  -g -O2 -fdebug-prefix-map=/build/r-base-DdVjkr/r-base-4.3.2=. -fstack-protector-strong -Wformat -Werror=format-security -Wdate-time -D_FORTIFY_SOURCE=2  -c lhs_r_utilities.cpp -o lhs_r_utilities.o\n",
      "g++ -std=gnu++11 -I\"/usr/share/R/include\" -DNDEBUG -DRCOMPILE -I'/usr/local/lib/R/site-library/Rcpp/include'     -fpic  -g -O2 -fdebug-prefix-map=/build/r-base-DdVjkr/r-base-4.3.2=. -fstack-protector-strong -Wformat -Werror=format-security -Wdate-time -D_FORTIFY_SOURCE=2  -c maximinLHS.cpp -o maximinLHS.o\n",
      "g++ -std=gnu++11 -I\"/usr/share/R/include\" -DNDEBUG -DRCOMPILE -I'/usr/local/lib/R/site-library/Rcpp/include'     -fpic  -g -O2 -fdebug-prefix-map=/build/r-base-DdVjkr/r-base-4.3.2=. -fstack-protector-strong -Wformat -Werror=format-security -Wdate-time -D_FORTIFY_SOURCE=2  -c oa.cpp -o oa.o\n",
      "g++ -std=gnu++11 -I\"/usr/share/R/include\" -DNDEBUG -DRCOMPILE -I'/usr/local/lib/R/site-library/Rcpp/include'     -fpic  -g -O2 -fdebug-prefix-map=/build/r-base-DdVjkr/r-base-4.3.2=. -fstack-protector-strong -Wformat -Werror=format-security -Wdate-time -D_FORTIFY_SOURCE=2  -c oaLHS.cpp -o oaLHS.o\n",
      "g++ -std=gnu++11 -I\"/usr/share/R/include\" -DNDEBUG -DRCOMPILE -I'/usr/local/lib/R/site-library/Rcpp/include'     -fpic  -g -O2 -fdebug-prefix-map=/build/r-base-DdVjkr/r-base-4.3.2=. -fstack-protector-strong -Wformat -Werror=format-security -Wdate-time -D_FORTIFY_SOURCE=2  -c oa_r.cpp -o oa_r.o\n",
      "g++ -std=gnu++11 -I\"/usr/share/R/include\" -DNDEBUG -DRCOMPILE -I'/usr/local/lib/R/site-library/Rcpp/include'     -fpic  -g -O2 -fdebug-prefix-map=/build/r-base-DdVjkr/r-base-4.3.2=. -fstack-protector-strong -Wformat -Werror=format-security -Wdate-time -D_FORTIFY_SOURCE=2  -c oa_r_utils.cpp -o oa_r_utils.o\n",
      "g++ -std=gnu++11 -I\"/usr/share/R/include\" -DNDEBUG -DRCOMPILE -I'/usr/local/lib/R/site-library/Rcpp/include'     -fpic  -g -O2 -fdebug-prefix-map=/build/r-base-DdVjkr/r-base-4.3.2=. -fstack-protector-strong -Wformat -Werror=format-security -Wdate-time -D_FORTIFY_SOURCE=2  -c oalhs_r.cpp -o oalhs_r.o\n",
      "g++ -std=gnu++11 -I\"/usr/share/R/include\" -DNDEBUG -DRCOMPILE -I'/usr/local/lib/R/site-library/Rcpp/include'     -fpic  -g -O2 -fdebug-prefix-map=/build/r-base-DdVjkr/r-base-4.3.2=. -fstack-protector-strong -Wformat -Werror=format-security -Wdate-time -D_FORTIFY_SOURCE=2  -c optSeededLHS.cpp -o optSeededLHS.o\n",
      "g++ -std=gnu++11 -I\"/usr/share/R/include\" -DNDEBUG -DRCOMPILE -I'/usr/local/lib/R/site-library/Rcpp/include'     -fpic  -g -O2 -fdebug-prefix-map=/build/r-base-DdVjkr/r-base-4.3.2=. -fstack-protector-strong -Wformat -Werror=format-security -Wdate-time -D_FORTIFY_SOURCE=2  -c optimumLHS.cpp -o optimumLHS.o\n",
      "g++ -std=gnu++11 -I\"/usr/share/R/include\" -DNDEBUG -DRCOMPILE -I'/usr/local/lib/R/site-library/Rcpp/include'     -fpic  -g -O2 -fdebug-prefix-map=/build/r-base-DdVjkr/r-base-4.3.2=. -fstack-protector-strong -Wformat -Werror=format-security -Wdate-time -D_FORTIFY_SOURCE=2  -c primes.cpp -o primes.o\n",
      "g++ -std=gnu++11 -I\"/usr/share/R/include\" -DNDEBUG -DRCOMPILE -I'/usr/local/lib/R/site-library/Rcpp/include'     -fpic  -g -O2 -fdebug-prefix-map=/build/r-base-DdVjkr/r-base-4.3.2=. -fstack-protector-strong -Wformat -Werror=format-security -Wdate-time -D_FORTIFY_SOURCE=2  -c randomLHS.cpp -o randomLHS.o\n",
      "g++ -std=gnu++11 -I\"/usr/share/R/include\" -DNDEBUG -DRCOMPILE -I'/usr/local/lib/R/site-library/Rcpp/include'     -fpic  -g -O2 -fdebug-prefix-map=/build/r-base-DdVjkr/r-base-4.3.2=. -fstack-protector-strong -Wformat -Werror=format-security -Wdate-time -D_FORTIFY_SOURCE=2  -c runif.cpp -o runif.o\n",
      "g++ -std=gnu++11 -I\"/usr/share/R/include\" -DNDEBUG -DRCOMPILE -I'/usr/local/lib/R/site-library/Rcpp/include'     -fpic  -g -O2 -fdebug-prefix-map=/build/r-base-DdVjkr/r-base-4.3.2=. -fstack-protector-strong -Wformat -Werror=format-security -Wdate-time -D_FORTIFY_SOURCE=2  -c rutils.cpp -o rutils.o\n",
      "g++ -std=gnu++11 -I\"/usr/share/R/include\" -DNDEBUG -DRCOMPILE -I'/usr/local/lib/R/site-library/Rcpp/include'     -fpic  -g -O2 -fdebug-prefix-map=/build/r-base-DdVjkr/r-base-4.3.2=. -fstack-protector-strong -Wformat -Werror=format-security -Wdate-time -D_FORTIFY_SOURCE=2  -c utilityLHS.cpp -o utilityLHS.o\n",
      "g++ -std=gnu++11 -shared -L/usr/lib/R/lib -Wl,-Bsymbolic-functions -Wl,-z,relro -o lhs.so COrthogonalArray.o GaloisField.o ak3.o akconst.o akn.o construct.o geneticLHS.o improvedLHS.o init.o lhs_r.o lhs_r_utilities.o maximinLHS.o oa.o oaLHS.o oa_r.o oa_r_utils.o oalhs_r.o optSeededLHS.o optimumLHS.o primes.o randomLHS.o runif.o rutils.o utilityLHS.o -L/usr/lib/R/lib -lR\n",
      "gcc -I\"/usr/share/R/include\" -DNDEBUG       -fpic  -g -O2 -fdebug-prefix-map=/build/r-base-DdVjkr/r-base-4.3.2=. -fstack-protector-strong -Wformat -Werror=format-security -Wdate-time -D_FORTIFY_SOURCE=2  -c dotsElt.c -o dotsElt.o\n",
      "gcc -I\"/usr/share/R/include\" -DNDEBUG       -fpic  -g -O2 -fdebug-prefix-map=/build/r-base-DdVjkr/r-base-4.3.2=. -fstack-protector-strong -Wformat -Werror=format-security -Wdate-time -D_FORTIFY_SOURCE=2  -c dotsLength.c -o dotsLength.o\n",
      "gcc -I\"/usr/share/R/include\" -DNDEBUG       -fpic  -g -O2 -fdebug-prefix-map=/build/r-base-DdVjkr/r-base-4.3.2=. -fstack-protector-strong -Wformat -Werror=format-security -Wdate-time -D_FORTIFY_SOURCE=2  -c dotsNames.c -o dotsNames.o\n",
      "gcc -I\"/usr/share/R/include\" -DNDEBUG       -fpic  -g -O2 -fdebug-prefix-map=/build/r-base-DdVjkr/r-base-4.3.2=. -fstack-protector-strong -Wformat -Werror=format-security -Wdate-time -D_FORTIFY_SOURCE=2  -c init.c -o init.o\n",
      "gcc -shared -L/usr/lib/R/lib -Wl,-Bsymbolic-functions -Wl,-z,relro -o backports.so dotsElt.o dotsLength.o dotsNames.o init.o -L/usr/lib/R/lib -lR\n",
      "gcc -I\"/usr/share/R/include\" -DNDEBUG       -fpic  -g -O2 -fdebug-prefix-map=/build/r-base-DdVjkr/r-base-4.3.2=. -fstack-protector-strong -Wformat -Werror=format-security -Wdate-time -D_FORTIFY_SOURCE=2  -c C_StraussDesign.c -o C_StraussDesign.o\n",
      "gcc -I\"/usr/share/R/include\" -DNDEBUG       -fpic  -g -O2 -fdebug-prefix-map=/build/r-base-DdVjkr/r-base-4.3.2=. -fstack-protector-strong -Wformat -Werror=format-security -Wdate-time -D_FORTIFY_SOURCE=2  -c C_rss.c -o C_rss.o\n",
      "gcc -I\"/usr/share/R/include\" -DNDEBUG       -fpic  -g -O2 -fdebug-prefix-map=/build/r-base-DdVjkr/r-base-4.3.2=. -fstack-protector-strong -Wformat -Werror=format-security -Wdate-time -D_FORTIFY_SOURCE=2  -c DiceDesign_init.c -o DiceDesign_init.o\n",
      "gcc -shared -L/usr/lib/R/lib -Wl,-Bsymbolic-functions -Wl,-z,relro -o DiceDesign.so C_StraussDesign.o C_rss.o DiceDesign_init.o -L/usr/lib/R/lib -lR\n",
      "gcc -I\"/usr/share/R/include\" -DNDEBUG -I./rlang     -fvisibility=hidden -fpic  -g -O2 -fdebug-prefix-map=/build/r-base-DdVjkr/r-base-4.3.2=. -fstack-protector-strong -Wformat -Werror=format-security -Wdate-time -D_FORTIFY_SOURCE=2  -c altrep-lazy-character.c -o altrep-lazy-character.o\n",
      "gcc -I\"/usr/share/R/include\" -DNDEBUG -I./rlang     -fvisibility=hidden -fpic  -g -O2 -fdebug-prefix-map=/build/r-base-DdVjkr/r-base-4.3.2=. -fstack-protector-strong -Wformat -Werror=format-security -Wdate-time -D_FORTIFY_SOURCE=2  -c altrep-rle.c -o altrep-rle.o\n",
      "gcc -I\"/usr/share/R/include\" -DNDEBUG -I./rlang     -fvisibility=hidden -fpic  -g -O2 -fdebug-prefix-map=/build/r-base-DdVjkr/r-base-4.3.2=. -fstack-protector-strong -Wformat -Werror=format-security -Wdate-time -D_FORTIFY_SOURCE=2  -c altrep.c -o altrep.o\n",
      "gcc -I\"/usr/share/R/include\" -DNDEBUG -I./rlang     -fvisibility=hidden -fpic  -g -O2 -fdebug-prefix-map=/build/r-base-DdVjkr/r-base-4.3.2=. -fstack-protector-strong -Wformat -Werror=format-security -Wdate-time -D_FORTIFY_SOURCE=2  -c arg-counter.c -o arg-counter.o\n",
      "gcc -I\"/usr/share/R/include\" -DNDEBUG -I./rlang     -fvisibility=hidden -fpic  -g -O2 -fdebug-prefix-map=/build/r-base-DdVjkr/r-base-4.3.2=. -fstack-protector-strong -Wformat -Werror=format-security -Wdate-time -D_FORTIFY_SOURCE=2  -c arg.c -o arg.o\n",
      "gcc -I\"/usr/share/R/include\" -DNDEBUG -I./rlang     -fvisibility=hidden -fpic  -g -O2 -fdebug-prefix-map=/build/r-base-DdVjkr/r-base-4.3.2=. -fstack-protector-strong -Wformat -Werror=format-security -Wdate-time -D_FORTIFY_SOURCE=2  -c assert.c -o assert.o\n",
      "gcc -I\"/usr/share/R/include\" -DNDEBUG -I./rlang     -fvisibility=hidden -fpic  -g -O2 -fdebug-prefix-map=/build/r-base-DdVjkr/r-base-4.3.2=. -fstack-protector-strong -Wformat -Werror=format-security -Wdate-time -D_FORTIFY_SOURCE=2  -c bind.c -o bind.o\n",
      "gcc -I\"/usr/share/R/include\" -DNDEBUG -I./rlang     -fvisibility=hidden -fpic  -g -O2 -fdebug-prefix-map=/build/r-base-DdVjkr/r-base-4.3.2=. -fstack-protector-strong -Wformat -Werror=format-security -Wdate-time -D_FORTIFY_SOURCE=2  -c c-unchop.c -o c-unchop.o\n",
      "gcc -I\"/usr/share/R/include\" -DNDEBUG -I./rlang     -fvisibility=hidden -fpic  -g -O2 -fdebug-prefix-map=/build/r-base-DdVjkr/r-base-4.3.2=. -fstack-protector-strong -Wformat -Werror=format-security -Wdate-time -D_FORTIFY_SOURCE=2  -c c.c -o c.o\n",
      "gcc -I\"/usr/share/R/include\" -DNDEBUG -I./rlang     -fvisibility=hidden -fpic  -g -O2 -fdebug-prefix-map=/build/r-base-DdVjkr/r-base-4.3.2=. -fstack-protector-strong -Wformat -Werror=format-security -Wdate-time -D_FORTIFY_SOURCE=2  -c callables.c -o callables.o\n",
      "gcc -I\"/usr/share/R/include\" -DNDEBUG -I./rlang     -fvisibility=hidden -fpic  -g -O2 -fdebug-prefix-map=/build/r-base-DdVjkr/r-base-4.3.2=. -fstack-protector-strong -Wformat -Werror=format-security -Wdate-time -D_FORTIFY_SOURCE=2  -c cast-bare.c -o cast-bare.o\n",
      "gcc -I\"/usr/share/R/include\" -DNDEBUG -I./rlang     -fvisibility=hidden -fpic  -g -O2 -fdebug-prefix-map=/build/r-base-DdVjkr/r-base-4.3.2=. -fstack-protector-strong -Wformat -Werror=format-security -Wdate-time -D_FORTIFY_SOURCE=2  -c cast-dispatch.c -o cast-dispatch.o\n",
      "gcc -I\"/usr/share/R/include\" -DNDEBUG -I./rlang     -fvisibility=hidden -fpic  -g -O2 -fdebug-prefix-map=/build/r-base-DdVjkr/r-base-4.3.2=. -fstack-protector-strong -Wformat -Werror=format-security -Wdate-time -D_FORTIFY_SOURCE=2  -c cast.c -o cast.o\n",
      "gcc -I\"/usr/share/R/include\" -DNDEBUG -I./rlang     -fvisibility=hidden -fpic  -g -O2 -fdebug-prefix-map=/build/r-base-DdVjkr/r-base-4.3.2=. -fstack-protector-strong -Wformat -Werror=format-security -Wdate-time -D_FORTIFY_SOURCE=2  -c compare.c -o compare.o\n",
      "gcc -I\"/usr/share/R/include\" -DNDEBUG -I./rlang     -fvisibility=hidden -fpic  -g -O2 -fdebug-prefix-map=/build/r-base-DdVjkr/r-base-4.3.2=. -fstack-protector-strong -Wformat -Werror=format-security -Wdate-time -D_FORTIFY_SOURCE=2  -c complete.c -o complete.o\n",
      "gcc -I\"/usr/share/R/include\" -DNDEBUG -I./rlang     -fvisibility=hidden -fpic  -g -O2 -fdebug-prefix-map=/build/r-base-DdVjkr/r-base-4.3.2=. -fstack-protector-strong -Wformat -Werror=format-security -Wdate-time -D_FORTIFY_SOURCE=2  -c conditions.c -o conditions.o\n",
      "gcc -I\"/usr/share/R/include\" -DNDEBUG -I./rlang     -fvisibility=hidden -fpic  -g -O2 -fdebug-prefix-map=/build/r-base-DdVjkr/r-base-4.3.2=. -fstack-protector-strong -Wformat -Werror=format-security -Wdate-time -D_FORTIFY_SOURCE=2  -c dictionary.c -o dictionary.o\n",
      "gcc -I\"/usr/share/R/include\" -DNDEBUG -I./rlang     -fvisibility=hidden -fpic  -g -O2 -fdebug-prefix-map=/build/r-base-DdVjkr/r-base-4.3.2=. -fstack-protector-strong -Wformat -Werror=format-security -Wdate-time -D_FORTIFY_SOURCE=2  -c dim.c -o dim.o\n",
      "gcc -I\"/usr/share/R/include\" -DNDEBUG -I./rlang     -fvisibility=hidden -fpic  -g -O2 -fdebug-prefix-map=/build/r-base-DdVjkr/r-base-4.3.2=. -fstack-protector-strong -Wformat -Werror=format-security -Wdate-time -D_FORTIFY_SOURCE=2  -c empty.c -o empty.o\n",
      "gcc -I\"/usr/share/R/include\" -DNDEBUG -I./rlang     -fvisibility=hidden -fpic  -g -O2 -fdebug-prefix-map=/build/r-base-DdVjkr/r-base-4.3.2=. -fstack-protector-strong -Wformat -Werror=format-security -Wdate-time -D_FORTIFY_SOURCE=2  -c equal.c -o equal.o\n",
      "gcc -I\"/usr/share/R/include\" -DNDEBUG -I./rlang     -fvisibility=hidden -fpic  -g -O2 -fdebug-prefix-map=/build/r-base-DdVjkr/r-base-4.3.2=. -fstack-protector-strong -Wformat -Werror=format-security -Wdate-time -D_FORTIFY_SOURCE=2  -c expand.c -o expand.o\n",
      "gcc -I\"/usr/share/R/include\" -DNDEBUG -I./rlang     -fvisibility=hidden -fpic  -g -O2 -fdebug-prefix-map=/build/r-base-DdVjkr/r-base-4.3.2=. -fstack-protector-strong -Wformat -Werror=format-security -Wdate-time -D_FORTIFY_SOURCE=2  -c fields.c -o fields.o\n",
      "gcc -I\"/usr/share/R/include\" -DNDEBUG -I./rlang     -fvisibility=hidden -fpic  -g -O2 -fdebug-prefix-map=/build/r-base-DdVjkr/r-base-4.3.2=. -fstack-protector-strong -Wformat -Werror=format-security -Wdate-time -D_FORTIFY_SOURCE=2  -c fill.c -o fill.o\n",
      "gcc -I\"/usr/share/R/include\" -DNDEBUG -I./rlang     -fvisibility=hidden -fpic  -g -O2 -fdebug-prefix-map=/build/r-base-DdVjkr/r-base-4.3.2=. -fstack-protector-strong -Wformat -Werror=format-security -Wdate-time -D_FORTIFY_SOURCE=2  -c globals.c -o globals.o\n",
      "gcc -I\"/usr/share/R/include\" -DNDEBUG -I./rlang     -fvisibility=hidden -fpic  -g -O2 -fdebug-prefix-map=/build/r-base-DdVjkr/r-base-4.3.2=. -fstack-protector-strong -Wformat -Werror=format-security -Wdate-time -D_FORTIFY_SOURCE=2  -c group.c -o group.o\n",
      "gcc -I\"/usr/share/R/include\" -DNDEBUG -I./rlang     -fvisibility=hidden -fpic  -g -O2 -fdebug-prefix-map=/build/r-base-DdVjkr/r-base-4.3.2=. -fstack-protector-strong -Wformat -Werror=format-security -Wdate-time -D_FORTIFY_SOURCE=2  -c growable.c -o growable.o\n",
      "gcc -I\"/usr/share/R/include\" -DNDEBUG -I./rlang     -fvisibility=hidden -fpic  -g -O2 -fdebug-prefix-map=/build/r-base-DdVjkr/r-base-4.3.2=. -fstack-protector-strong -Wformat -Werror=format-security -Wdate-time -D_FORTIFY_SOURCE=2  -c hash.c -o hash.o\n",
      "gcc -I\"/usr/share/R/include\" -DNDEBUG -I./rlang     -fvisibility=hidden -fpic  -g -O2 -fdebug-prefix-map=/build/r-base-DdVjkr/r-base-4.3.2=. -fstack-protector-strong -Wformat -Werror=format-security -Wdate-time -D_FORTIFY_SOURCE=2  -c init.c -o init.o\n",
      "gcc -I\"/usr/share/R/include\" -DNDEBUG -I./rlang     -fvisibility=hidden -fpic  -g -O2 -fdebug-prefix-map=/build/r-base-DdVjkr/r-base-4.3.2=. -fstack-protector-strong -Wformat -Werror=format-security -Wdate-time -D_FORTIFY_SOURCE=2  -c interval.c -o interval.o\n",
      "gcc -I\"/usr/share/R/include\" -DNDEBUG -I./rlang     -fvisibility=hidden -fpic  -g -O2 -fdebug-prefix-map=/build/r-base-DdVjkr/r-base-4.3.2=. -fstack-protector-strong -Wformat -Werror=format-security -Wdate-time -D_FORTIFY_SOURCE=2  -c match-joint.c -o match-joint.o\n",
      "gcc -I\"/usr/share/R/include\" -DNDEBUG -I./rlang     -fvisibility=hidden -fpic  -g -O2 -fdebug-prefix-map=/build/r-base-DdVjkr/r-base-4.3.2=. -fstack-protector-strong -Wformat -Werror=format-security -Wdate-time -D_FORTIFY_SOURCE=2  -c match.c -o match.o\n",
      "gcc -I\"/usr/share/R/include\" -DNDEBUG -I./rlang     -fvisibility=hidden -fpic  -g -O2 -fdebug-prefix-map=/build/r-base-DdVjkr/r-base-4.3.2=. -fstack-protector-strong -Wformat -Werror=format-security -Wdate-time -D_FORTIFY_SOURCE=2  -c missing.c -o missing.o\n",
      "gcc -I\"/usr/share/R/include\" -DNDEBUG -I./rlang     -fvisibility=hidden -fpic  -g -O2 -fdebug-prefix-map=/build/r-base-DdVjkr/r-base-4.3.2=. -fstack-protector-strong -Wformat -Werror=format-security -Wdate-time -D_FORTIFY_SOURCE=2  -c names.c -o names.o\n",
      "gcc -I\"/usr/share/R/include\" -DNDEBUG -I./rlang     -fvisibility=hidden -fpic  -g -O2 -fdebug-prefix-map=/build/r-base-DdVjkr/r-base-4.3.2=. -fstack-protector-strong -Wformat -Werror=format-security -Wdate-time -D_FORTIFY_SOURCE=2  -c order-collate.c -o order-collate.o\n",
      "gcc -I\"/usr/share/R/include\" -DNDEBUG -I./rlang     -fvisibility=hidden -fpic  -g -O2 -fdebug-prefix-map=/build/r-base-DdVjkr/r-base-4.3.2=. -fstack-protector-strong -Wformat -Werror=format-security -Wdate-time -D_FORTIFY_SOURCE=2  -c order-groups.c -o order-groups.o\n",
      "gcc -I\"/usr/share/R/include\" -DNDEBUG -I./rlang     -fvisibility=hidden -fpic  -g -O2 -fdebug-prefix-map=/build/r-base-DdVjkr/r-base-4.3.2=. -fstack-protector-strong -Wformat -Werror=format-security -Wdate-time -D_FORTIFY_SOURCE=2  -c order-sortedness.c -o order-sortedness.o\n",
      "gcc -I\"/usr/share/R/include\" -DNDEBUG -I./rlang     -fvisibility=hidden -fpic  -g -O2 -fdebug-prefix-map=/build/r-base-DdVjkr/r-base-4.3.2=. -fstack-protector-strong -Wformat -Werror=format-security -Wdate-time -D_FORTIFY_SOURCE=2  -c order-truelength.c -o order-truelength.o\n",
      "gcc -I\"/usr/share/R/include\" -DNDEBUG -I./rlang     -fvisibility=hidden -fpic  -g -O2 -fdebug-prefix-map=/build/r-base-DdVjkr/r-base-4.3.2=. -fstack-protector-strong -Wformat -Werror=format-security -Wdate-time -D_FORTIFY_SOURCE=2  -c order.c -o order.o\n",
      "gcc -I\"/usr/share/R/include\" -DNDEBUG -I./rlang     -fvisibility=hidden -fpic  -g -O2 -fdebug-prefix-map=/build/r-base-DdVjkr/r-base-4.3.2=. -fstack-protector-strong -Wformat -Werror=format-security -Wdate-time -D_FORTIFY_SOURCE=2  -c poly-op.c -o poly-op.o\n",
      "gcc -I\"/usr/share/R/include\" -DNDEBUG -I./rlang     -fvisibility=hidden -fpic  -g -O2 -fdebug-prefix-map=/build/r-base-DdVjkr/r-base-4.3.2=. -fstack-protector-strong -Wformat -Werror=format-security -Wdate-time -D_FORTIFY_SOURCE=2  -c proxy-restore.c -o proxy-restore.o\n",
      "gcc -I\"/usr/share/R/include\" -DNDEBUG -I./rlang     -fvisibility=hidden -fpic  -g -O2 -fdebug-prefix-map=/build/r-base-DdVjkr/r-base-4.3.2=. -fstack-protector-strong -Wformat -Werror=format-security -Wdate-time -D_FORTIFY_SOURCE=2  -c proxy.c -o proxy.o\n",
      "gcc -I\"/usr/share/R/include\" -DNDEBUG -I./rlang     -fvisibility=hidden -fpic  -g -O2 -fdebug-prefix-map=/build/r-base-DdVjkr/r-base-4.3.2=. -fstack-protector-strong -Wformat -Werror=format-security -Wdate-time -D_FORTIFY_SOURCE=2  -c ptype-common.c -o ptype-common.o\n",
      "gcc -I\"/usr/share/R/include\" -DNDEBUG -I./rlang     -fvisibility=hidden -fpic  -g -O2 -fdebug-prefix-map=/build/r-base-DdVjkr/r-base-4.3.2=. -fstack-protector-strong -Wformat -Werror=format-security -Wdate-time -D_FORTIFY_SOURCE=2  -c ptype.c -o ptype.o\n",
      "gcc -I\"/usr/share/R/include\" -DNDEBUG -I./rlang     -fvisibility=hidden -fpic  -g -O2 -fdebug-prefix-map=/build/r-base-DdVjkr/r-base-4.3.2=. -fstack-protector-strong -Wformat -Werror=format-security -Wdate-time -D_FORTIFY_SOURCE=2  -c ptype2-dispatch.c -o ptype2-dispatch.o\n",
      "gcc -I\"/usr/share/R/include\" -DNDEBUG -I./rlang     -fvisibility=hidden -fpic  -g -O2 -fdebug-prefix-map=/build/r-base-DdVjkr/r-base-4.3.2=. -fstack-protector-strong -Wformat -Werror=format-security -Wdate-time -D_FORTIFY_SOURCE=2  -c ptype2.c -o ptype2.o\n",
      "gcc -I\"/usr/share/R/include\" -DNDEBUG -I./rlang     -fvisibility=hidden -fpic  -g -O2 -fdebug-prefix-map=/build/r-base-DdVjkr/r-base-4.3.2=. -fstack-protector-strong -Wformat -Werror=format-security -Wdate-time -D_FORTIFY_SOURCE=2  -c rank.c -o rank.o\n",
      "gcc -I\"/usr/share/R/include\" -DNDEBUG -I./rlang     -fvisibility=hidden -fpic  -g -O2 -fdebug-prefix-map=/build/r-base-DdVjkr/r-base-4.3.2=. -fstack-protector-strong -Wformat -Werror=format-security -Wdate-time -D_FORTIFY_SOURCE=2  -c rep.c -o rep.o\n",
      "gcc -I\"/usr/share/R/include\" -DNDEBUG -I./rlang     -fvisibility=hidden -fpic  -g -O2 -fdebug-prefix-map=/build/r-base-DdVjkr/r-base-4.3.2=. -fstack-protector-strong -Wformat -Werror=format-security -Wdate-time -D_FORTIFY_SOURCE=2  -c rlang-dev.c -o rlang-dev.o\n",
      "gcc -I\"/usr/share/R/include\" -DNDEBUG -I./rlang     -fvisibility=hidden -fpic  -g -O2 -fdebug-prefix-map=/build/r-base-DdVjkr/r-base-4.3.2=. -fstack-protector-strong -Wformat -Werror=format-security -Wdate-time -D_FORTIFY_SOURCE=2  -c rlang.c -o rlang.o\n",
      "gcc -I\"/usr/share/R/include\" -DNDEBUG -I./rlang     -fvisibility=hidden -fpic  -g -O2 -fdebug-prefix-map=/build/r-base-DdVjkr/r-base-4.3.2=. -fstack-protector-strong -Wformat -Werror=format-security -Wdate-time -D_FORTIFY_SOURCE=2  -c runs.c -o runs.o\n",
      "gcc -I\"/usr/share/R/include\" -DNDEBUG -I./rlang     -fvisibility=hidden -fpic  -g -O2 -fdebug-prefix-map=/build/r-base-DdVjkr/r-base-4.3.2=. -fstack-protector-strong -Wformat -Werror=format-security -Wdate-time -D_FORTIFY_SOURCE=2  -c set.c -o set.o\n",
      "gcc -I\"/usr/share/R/include\" -DNDEBUG -I./rlang     -fvisibility=hidden -fpic  -g -O2 -fdebug-prefix-map=/build/r-base-DdVjkr/r-base-4.3.2=. -fstack-protector-strong -Wformat -Werror=format-security -Wdate-time -D_FORTIFY_SOURCE=2  -c shape.c -o shape.o\n",
      "gcc -I\"/usr/share/R/include\" -DNDEBUG -I./rlang     -fvisibility=hidden -fpic  -g -O2 -fdebug-prefix-map=/build/r-base-DdVjkr/r-base-4.3.2=. -fstack-protector-strong -Wformat -Werror=format-security -Wdate-time -D_FORTIFY_SOURCE=2  -c size-common.c -o size-common.o\n",
      "gcc -I\"/usr/share/R/include\" -DNDEBUG -I./rlang     -fvisibility=hidden -fpic  -g -O2 -fdebug-prefix-map=/build/r-base-DdVjkr/r-base-4.3.2=. -fstack-protector-strong -Wformat -Werror=format-security -Wdate-time -D_FORTIFY_SOURCE=2  -c size.c -o size.o\n",
      "gcc -I\"/usr/share/R/include\" -DNDEBUG -I./rlang     -fvisibility=hidden -fpic  -g -O2 -fdebug-prefix-map=/build/r-base-DdVjkr/r-base-4.3.2=. -fstack-protector-strong -Wformat -Werror=format-security -Wdate-time -D_FORTIFY_SOURCE=2  -c slice-array.c -o slice-array.o\n",
      "gcc -I\"/usr/share/R/include\" -DNDEBUG -I./rlang     -fvisibility=hidden -fpic  -g -O2 -fdebug-prefix-map=/build/r-base-DdVjkr/r-base-4.3.2=. -fstack-protector-strong -Wformat -Werror=format-security -Wdate-time -D_FORTIFY_SOURCE=2  -c slice-assign-array.c -o slice-assign-array.o\n",
      "gcc -I\"/usr/share/R/include\" -DNDEBUG -I./rlang     -fvisibility=hidden -fpic  -g -O2 -fdebug-prefix-map=/build/r-base-DdVjkr/r-base-4.3.2=. -fstack-protector-strong -Wformat -Werror=format-security -Wdate-time -D_FORTIFY_SOURCE=2  -c slice-assign.c -o slice-assign.o\n",
      "gcc -I\"/usr/share/R/include\" -DNDEBUG -I./rlang     -fvisibility=hidden -fpic  -g -O2 -fdebug-prefix-map=/build/r-base-DdVjkr/r-base-4.3.2=. -fstack-protector-strong -Wformat -Werror=format-security -Wdate-time -D_FORTIFY_SOURCE=2  -c slice-chop.c -o slice-chop.o\n",
      "gcc -I\"/usr/share/R/include\" -DNDEBUG -I./rlang     -fvisibility=hidden -fpic  -g -O2 -fdebug-prefix-map=/build/r-base-DdVjkr/r-base-4.3.2=. -fstack-protector-strong -Wformat -Werror=format-security -Wdate-time -D_FORTIFY_SOURCE=2  -c slice-interleave.c -o slice-interleave.o\n",
      "gcc -I\"/usr/share/R/include\" -DNDEBUG -I./rlang     -fvisibility=hidden -fpic  -g -O2 -fdebug-prefix-map=/build/r-base-DdVjkr/r-base-4.3.2=. -fstack-protector-strong -Wformat -Werror=format-security -Wdate-time -D_FORTIFY_SOURCE=2  -c slice.c -o slice.o\n",
      "gcc -I\"/usr/share/R/include\" -DNDEBUG -I./rlang     -fvisibility=hidden -fpic  -g -O2 -fdebug-prefix-map=/build/r-base-DdVjkr/r-base-4.3.2=. -fstack-protector-strong -Wformat -Werror=format-security -Wdate-time -D_FORTIFY_SOURCE=2  -c split.c -o split.o\n",
      "gcc -I\"/usr/share/R/include\" -DNDEBUG -I./rlang     -fvisibility=hidden -fpic  -g -O2 -fdebug-prefix-map=/build/r-base-DdVjkr/r-base-4.3.2=. -fstack-protector-strong -Wformat -Werror=format-security -Wdate-time -D_FORTIFY_SOURCE=2  -c subscript-loc.c -o subscript-loc.o\n",
      "gcc -I\"/usr/share/R/include\" -DNDEBUG -I./rlang     -fvisibility=hidden -fpic  -g -O2 -fdebug-prefix-map=/build/r-base-DdVjkr/r-base-4.3.2=. -fstack-protector-strong -Wformat -Werror=format-security -Wdate-time -D_FORTIFY_SOURCE=2  -c subscript.c -o subscript.o\n",
      "gcc -I\"/usr/share/R/include\" -DNDEBUG -I./rlang     -fvisibility=hidden -fpic  -g -O2 -fdebug-prefix-map=/build/r-base-DdVjkr/r-base-4.3.2=. -fstack-protector-strong -Wformat -Werror=format-security -Wdate-time -D_FORTIFY_SOURCE=2  -c translate.c -o translate.o\n",
      "gcc -I\"/usr/share/R/include\" -DNDEBUG -I./rlang     -fvisibility=hidden -fpic  -g -O2 -fdebug-prefix-map=/build/r-base-DdVjkr/r-base-4.3.2=. -fstack-protector-strong -Wformat -Werror=format-security -Wdate-time -D_FORTIFY_SOURCE=2  -c type-data-frame.c -o type-data-frame.o\n",
      "gcc -I\"/usr/share/R/include\" -DNDEBUG -I./rlang     -fvisibility=hidden -fpic  -g -O2 -fdebug-prefix-map=/build/r-base-DdVjkr/r-base-4.3.2=. -fstack-protector-strong -Wformat -Werror=format-security -Wdate-time -D_FORTIFY_SOURCE=2  -c type-date-time.c -o type-date-time.o\n",
      "gcc -I\"/usr/share/R/include\" -DNDEBUG -I./rlang     -fvisibility=hidden -fpic  -g -O2 -fdebug-prefix-map=/build/r-base-DdVjkr/r-base-4.3.2=. -fstack-protector-strong -Wformat -Werror=format-security -Wdate-time -D_FORTIFY_SOURCE=2  -c type-factor.c -o type-factor.o\n",
      "gcc -I\"/usr/share/R/include\" -DNDEBUG -I./rlang     -fvisibility=hidden -fpic  -g -O2 -fdebug-prefix-map=/build/r-base-DdVjkr/r-base-4.3.2=. -fstack-protector-strong -Wformat -Werror=format-security -Wdate-time -D_FORTIFY_SOURCE=2  -c type-info.c -o type-info.o\n",
      "gcc -I\"/usr/share/R/include\" -DNDEBUG -I./rlang     -fvisibility=hidden -fpic  -g -O2 -fdebug-prefix-map=/build/r-base-DdVjkr/r-base-4.3.2=. -fstack-protector-strong -Wformat -Werror=format-security -Wdate-time -D_FORTIFY_SOURCE=2  -c type-integer64.c -o type-integer64.o\n",
      "gcc -I\"/usr/share/R/include\" -DNDEBUG -I./rlang     -fvisibility=hidden -fpic  -g -O2 -fdebug-prefix-map=/build/r-base-DdVjkr/r-base-4.3.2=. -fstack-protector-strong -Wformat -Werror=format-security -Wdate-time -D_FORTIFY_SOURCE=2  -c type-tibble.c -o type-tibble.o\n",
      "gcc -I\"/usr/share/R/include\" -DNDEBUG -I./rlang     -fvisibility=hidden -fpic  -g -O2 -fdebug-prefix-map=/build/r-base-DdVjkr/r-base-4.3.2=. -fstack-protector-strong -Wformat -Werror=format-security -Wdate-time -D_FORTIFY_SOURCE=2  -c typeof2-s3.c -o typeof2-s3.o\n",
      "gcc -I\"/usr/share/R/include\" -DNDEBUG -I./rlang     -fvisibility=hidden -fpic  -g -O2 -fdebug-prefix-map=/build/r-base-DdVjkr/r-base-4.3.2=. -fstack-protector-strong -Wformat -Werror=format-security -Wdate-time -D_FORTIFY_SOURCE=2  -c typeof2.c -o typeof2.o\n",
      "gcc -I\"/usr/share/R/include\" -DNDEBUG -I./rlang     -fvisibility=hidden -fpic  -g -O2 -fdebug-prefix-map=/build/r-base-DdVjkr/r-base-4.3.2=. -fstack-protector-strong -Wformat -Werror=format-security -Wdate-time -D_FORTIFY_SOURCE=2  -c unspecified.c -o unspecified.o\n",
      "gcc -I\"/usr/share/R/include\" -DNDEBUG -I./rlang     -fvisibility=hidden -fpic  -g -O2 -fdebug-prefix-map=/build/r-base-DdVjkr/r-base-4.3.2=. -fstack-protector-strong -Wformat -Werror=format-security -Wdate-time -D_FORTIFY_SOURCE=2  -c utils-dispatch.c -o utils-dispatch.o\n",
      "gcc -I\"/usr/share/R/include\" -DNDEBUG -I./rlang     -fvisibility=hidden -fpic  -g -O2 -fdebug-prefix-map=/build/r-base-DdVjkr/r-base-4.3.2=. -fstack-protector-strong -Wformat -Werror=format-security -Wdate-time -D_FORTIFY_SOURCE=2  -c utils.c -o utils.o\n",
      "gcc -I\"/usr/share/R/include\" -DNDEBUG -I./rlang     -fvisibility=hidden -fpic  -g -O2 -fdebug-prefix-map=/build/r-base-DdVjkr/r-base-4.3.2=. -fstack-protector-strong -Wformat -Werror=format-security -Wdate-time -D_FORTIFY_SOURCE=2  -c vctrs-core.c -o vctrs-core.o\n",
      "gcc -I\"/usr/share/R/include\" -DNDEBUG -I./rlang     -fvisibility=hidden -fpic  -g -O2 -fdebug-prefix-map=/build/r-base-DdVjkr/r-base-4.3.2=. -fstack-protector-strong -Wformat -Werror=format-security -Wdate-time -D_FORTIFY_SOURCE=2  -c version.c -o version.o\n",
      "gcc -shared -L/usr/lib/R/lib -Wl,-Bsymbolic-functions -Wl,-z,relro -o vctrs.so altrep-lazy-character.o altrep-rle.o altrep.o arg-counter.o arg.o assert.o bind.o c-unchop.o c.o callables.o cast-bare.o cast-dispatch.o cast.o compare.o complete.o conditions.o dictionary.o dim.o empty.o equal.o expand.o fields.o fill.o globals.o group.o growable.o hash.o init.o interval.o match-joint.o match.o missing.o names.o order-collate.o order-groups.o order-sortedness.o order-truelength.o order.o poly-op.o proxy-restore.o proxy.o ptype-common.o ptype.o ptype2-dispatch.o ptype2.o rank.o rep.o rlang-dev.o rlang.o runs.o set.o shape.o size-common.o size.o slice-array.o slice-assign-array.o slice-assign.o slice-chop.o slice-interleave.o slice.o split.o subscript-loc.o subscript.o translate.o type-data-frame.o type-date-time.o type-factor.o type-info.o type-integer64.o type-tibble.o typeof2-s3.o typeof2.o unspecified.o utils-dispatch.o utils.o vctrs-core.o version.o -L/usr/lib/R/lib -lR\n",
      "g++ -std=gnu++11 -I\"/usr/share/R/include\" -DNDEBUG       -fpic  -g -O2 -fdebug-prefix-map=/build/r-base-DdVjkr/r-base-4.3.2=. -fstack-protector-strong -Wformat -Werror=format-security -Wdate-time -D_FORTIFY_SOURCE=2  -c clip-lines.cpp -o clip-lines.o\n",
      "g++ -std=gnu++11 -I\"/usr/share/R/include\" -DNDEBUG       -fpic  -g -O2 -fdebug-prefix-map=/build/r-base-DdVjkr/r-base-4.3.2=. -fstack-protector-strong -Wformat -Werror=format-security -Wdate-time -D_FORTIFY_SOURCE=2  -c init.cpp -o init.o\n",
      "g++ -std=gnu++11 -I\"/usr/share/R/include\" -DNDEBUG       -fpic  -g -O2 -fdebug-prefix-map=/build/r-base-DdVjkr/r-base-4.3.2=. -fstack-protector-strong -Wformat -Werror=format-security -Wdate-time -D_FORTIFY_SOURCE=2  -c isoband.cpp -o isoband.o\n",
      "g++ -std=gnu++11 -I\"/usr/share/R/include\" -DNDEBUG       -fpic  -g -O2 -fdebug-prefix-map=/build/r-base-DdVjkr/r-base-4.3.2=. -fstack-protector-strong -Wformat -Werror=format-security -Wdate-time -D_FORTIFY_SOURCE=2  -c polygon.cpp -o polygon.o\n",
      "g++ -std=gnu++11 -I\"/usr/share/R/include\" -DNDEBUG       -fpic  -g -O2 -fdebug-prefix-map=/build/r-base-DdVjkr/r-base-4.3.2=. -fstack-protector-strong -Wformat -Werror=format-security -Wdate-time -D_FORTIFY_SOURCE=2  -c separate-polygons.cpp -o separate-polygons.o\n",
      "g++ -std=gnu++11 -I\"/usr/share/R/include\" -DNDEBUG       -fpic  -g -O2 -fdebug-prefix-map=/build/r-base-DdVjkr/r-base-4.3.2=. -fstack-protector-strong -Wformat -Werror=format-security -Wdate-time -D_FORTIFY_SOURCE=2  -c test-clip-lines.cpp -o test-clip-lines.o\n",
      "g++ -std=gnu++11 -I\"/usr/share/R/include\" -DNDEBUG       -fpic  -g -O2 -fdebug-prefix-map=/build/r-base-DdVjkr/r-base-4.3.2=. -fstack-protector-strong -Wformat -Werror=format-security -Wdate-time -D_FORTIFY_SOURCE=2  -c test-runner.cpp -o test-runner.o\n",
      "g++ -std=gnu++11 -I\"/usr/share/R/include\" -DNDEBUG       -fpic  -g -O2 -fdebug-prefix-map=/build/r-base-DdVjkr/r-base-4.3.2=. -fstack-protector-strong -Wformat -Werror=format-security -Wdate-time -D_FORTIFY_SOURCE=2  -c test-separate-polygons.cpp -o test-separate-polygons.o\n",
      "g++ -std=gnu++11 -shared -L/usr/lib/R/lib -Wl,-Bsymbolic-functions -Wl,-z,relro -o isoband.so clip-lines.o init.o isoband.o polygon.o separate-polygons.o test-clip-lines.o test-runner.o test-separate-polygons.o -L/usr/lib/R/lib -lR\n",
      "gcc -I\"/usr/share/R/include\" -DNDEBUG      -fopenmp -fpic  -g -O2 -fdebug-prefix-map=/build/r-base-DdVjkr/r-base-4.3.2=. -fstack-protector-strong -Wformat -Werror=format-security -Wdate-time -D_FORTIFY_SOURCE=2  -c R_register_native.c -o R_register_native.o\n",
      "gcc -I\"/usr/share/R/include\" -DNDEBUG      -fopenmp -fpic  -g -O2 -fdebug-prefix-map=/build/r-base-DdVjkr/r-base-4.3.2=. -fstack-protector-strong -Wformat -Werror=format-security -Wdate-time -D_FORTIFY_SOURCE=2  -c gower.c -o gower.o\n",
      "gcc -shared -L/usr/lib/R/lib -Wl,-Bsymbolic-functions -Wl,-z,relro -o gower.so R_register_native.o gower.o -fopenmp -L/usr/lib/R/lib -lR\n",
      "Creating a generic function for <e2><80><98>sample<e2><80><99> from package <e2><80><98>base<e2><80><99> in package <e2><80><98>timeDate<e2><80><99>\n",
      "Creating a generic function for <e2><80><98>getDataPart<e2><80><99> from package <e2><80><98>methods<e2><80><99> in package <e2><80><98>timeDate<e2><80><99>\n",
      "Creating a generic function for <e2><80><98>abline<e2><80><99> from package <e2><80><98>graphics<e2><80><99> in package <e2><80><98>timeDate<e2><80><99>\n",
      "gcc -I\"/usr/share/R/include\" -DNDEBUG      -fvisibility=hidden -fpic  -g -O2 -fdebug-prefix-map=/build/r-base-DdVjkr/r-base-4.3.2=. -fstack-protector-strong -Wformat -Werror=format-security -Wdate-time -D_FORTIFY_SOURCE=2  -c assumptions.c -o assumptions.o\n",
      "gcc -I\"/usr/share/R/include\" -DNDEBUG      -fvisibility=hidden -fpic  -g -O2 -fdebug-prefix-map=/build/r-base-DdVjkr/r-base-4.3.2=. -fstack-protector-strong -Wformat -Werror=format-security -Wdate-time -D_FORTIFY_SOURCE=2  -c carry.c -o carry.o\n",
      "gcc -I\"/usr/share/R/include\" -DNDEBUG      -fvisibility=hidden -fpic  -g -O2 -fdebug-prefix-map=/build/r-base-DdVjkr/r-base-4.3.2=. -fstack-protector-strong -Wformat -Werror=format-security -Wdate-time -D_FORTIFY_SOURCE=2  -c has.c -o has.o\n",
      "gcc -I\"/usr/share/R/include\" -DNDEBUG      -fvisibility=hidden -fpic  -g -O2 -fdebug-prefix-map=/build/r-base-DdVjkr/r-base-4.3.2=. -fstack-protector-strong -Wformat -Werror=format-security -Wdate-time -D_FORTIFY_SOURCE=2  -c init.c -o init.o\n",
      "gcc -I\"/usr/share/R/include\" -DNDEBUG      -fvisibility=hidden -fpic  -g -O2 -fdebug-prefix-map=/build/r-base-DdVjkr/r-base-4.3.2=. -fstack-protector-strong -Wformat -Werror=format-security -Wdate-time -D_FORTIFY_SOURCE=2  -c nchar.c -o nchar.o\n",
      "gcc -I\"/usr/share/R/include\" -DNDEBUG      -fvisibility=hidden -fpic  -g -O2 -fdebug-prefix-map=/build/r-base-DdVjkr/r-base-4.3.2=. -fstack-protector-strong -Wformat -Werror=format-security -Wdate-time -D_FORTIFY_SOURCE=2  -c normalize.c -o normalize.o\n",
      "gcc -I\"/usr/share/R/include\" -DNDEBUG      -fvisibility=hidden -fpic  -g -O2 -fdebug-prefix-map=/build/r-base-DdVjkr/r-base-4.3.2=. -fstack-protector-strong -Wformat -Werror=format-security -Wdate-time -D_FORTIFY_SOURCE=2  -c read.c -o read.o\n",
      "gcc -I\"/usr/share/R/include\" -DNDEBUG      -fvisibility=hidden -fpic  -g -O2 -fdebug-prefix-map=/build/r-base-DdVjkr/r-base-4.3.2=. -fstack-protector-strong -Wformat -Werror=format-security -Wdate-time -D_FORTIFY_SOURCE=2  -c rnchar.c -o rnchar.o\n",
      "gcc -I\"/usr/share/R/include\" -DNDEBUG      -fvisibility=hidden -fpic  -g -O2 -fdebug-prefix-map=/build/r-base-DdVjkr/r-base-4.3.2=. -fstack-protector-strong -Wformat -Werror=format-security -Wdate-time -D_FORTIFY_SOURCE=2  -c state.c -o state.o\n",
      "gcc -I\"/usr/share/R/include\" -DNDEBUG      -fvisibility=hidden -fpic  -g -O2 -fdebug-prefix-map=/build/r-base-DdVjkr/r-base-4.3.2=. -fstack-protector-strong -Wformat -Werror=format-security -Wdate-time -D_FORTIFY_SOURCE=2  -c strip.c -o strip.o\n",
      "gcc -I\"/usr/share/R/include\" -DNDEBUG      -fvisibility=hidden -fpic  -g -O2 -fdebug-prefix-map=/build/r-base-DdVjkr/r-base-4.3.2=. -fstack-protector-strong -Wformat -Werror=format-security -Wdate-time -D_FORTIFY_SOURCE=2  -c substr.c -o substr.o\n",
      "gcc -I\"/usr/share/R/include\" -DNDEBUG      -fvisibility=hidden -fpic  -g -O2 -fdebug-prefix-map=/build/r-base-DdVjkr/r-base-4.3.2=. -fstack-protector-strong -Wformat -Werror=format-security -Wdate-time -D_FORTIFY_SOURCE=2  -c tabs.c -o tabs.o\n",
      "gcc -I\"/usr/share/R/include\" -DNDEBUG      -fvisibility=hidden -fpic  -g -O2 -fdebug-prefix-map=/build/r-base-DdVjkr/r-base-4.3.2=. -fstack-protector-strong -Wformat -Werror=format-security -Wdate-time -D_FORTIFY_SOURCE=2  -c tohtml.c -o tohtml.o\n",
      "gcc -I\"/usr/share/R/include\" -DNDEBUG      -fvisibility=hidden -fpic  -g -O2 -fdebug-prefix-map=/build/r-base-DdVjkr/r-base-4.3.2=. -fstack-protector-strong -Wformat -Werror=format-security -Wdate-time -D_FORTIFY_SOURCE=2  -c trimws.c -o trimws.o\n",
      "gcc -I\"/usr/share/R/include\" -DNDEBUG      -fvisibility=hidden -fpic  -g -O2 -fdebug-prefix-map=/build/r-base-DdVjkr/r-base-4.3.2=. -fstack-protector-strong -Wformat -Werror=format-security -Wdate-time -D_FORTIFY_SOURCE=2  -c unhandled.c -o unhandled.o\n",
      "gcc -I\"/usr/share/R/include\" -DNDEBUG      -fvisibility=hidden -fpic  -g -O2 -fdebug-prefix-map=/build/r-base-DdVjkr/r-base-4.3.2=. -fstack-protector-strong -Wformat -Werror=format-security -Wdate-time -D_FORTIFY_SOURCE=2  -c utf8.c -o utf8.o\n",
      "gcc -I\"/usr/share/R/include\" -DNDEBUG      -fvisibility=hidden -fpic  -g -O2 -fdebug-prefix-map=/build/r-base-DdVjkr/r-base-4.3.2=. -fstack-protector-strong -Wformat -Werror=format-security -Wdate-time -D_FORTIFY_SOURCE=2  -c utils.c -o utils.o\n",
      "gcc -I\"/usr/share/R/include\" -DNDEBUG      -fvisibility=hidden -fpic  -g -O2 -fdebug-prefix-map=/build/r-base-DdVjkr/r-base-4.3.2=. -fstack-protector-strong -Wformat -Werror=format-security -Wdate-time -D_FORTIFY_SOURCE=2  -c wrap.c -o wrap.o\n",
      "gcc -I\"/usr/share/R/include\" -DNDEBUG      -fvisibility=hidden -fpic  -g -O2 -fdebug-prefix-map=/build/r-base-DdVjkr/r-base-4.3.2=. -fstack-protector-strong -Wformat -Werror=format-security -Wdate-time -D_FORTIFY_SOURCE=2  -c write.c -o write.o\n",
      "gcc -shared -L/usr/lib/R/lib -Wl,-Bsymbolic-functions -Wl,-z,relro -o fansi.so assumptions.o carry.o has.o init.o nchar.o normalize.o read.o rnchar.o state.o strip.o substr.o tabs.o tohtml.o trimws.o unhandled.o utf8.o utils.o wrap.o write.o -L/usr/lib/R/lib -lR\n",
      "g++ -std=gnu++17 -I\"/usr/share/R/include\" -DNDEBUG  -I'/usr/local/lib/R/site-library/cpp11/include'    -I../inst/include -DINSTALL=dummy -DAUTO_DOWNLOAD=0 -DHAS_REMOTE_API=0 -DUSE_OS_TZDB=0 -DONLY_C_LOCALE=1 -fpic  -g -O2 -fdebug-prefix-map=/build/r-base-DdVjkr/r-base-4.3.2=. -fstack-protector-strong -Wformat -Werror=format-security -Wdate-time -D_FORTIFY_SOURCE=2  -c api.cpp -o api.o\n",
      "g++ -std=gnu++17 -I\"/usr/share/R/include\" -DNDEBUG  -I'/usr/local/lib/R/site-library/cpp11/include'    -I../inst/include -DINSTALL=dummy -DAUTO_DOWNLOAD=0 -DHAS_REMOTE_API=0 -DUSE_OS_TZDB=0 -DONLY_C_LOCALE=1 -fpic  -g -O2 -fdebug-prefix-map=/build/r-base-DdVjkr/r-base-4.3.2=. -fstack-protector-strong -Wformat -Werror=format-security -Wdate-time -D_FORTIFY_SOURCE=2  -c cpp11.cpp -o cpp11.o\n",
      "g++ -std=gnu++17 -I\"/usr/share/R/include\" -DNDEBUG  -I'/usr/local/lib/R/site-library/cpp11/include'    -I../inst/include -DINSTALL=dummy -DAUTO_DOWNLOAD=0 -DHAS_REMOTE_API=0 -DUSE_OS_TZDB=0 -DONLY_C_LOCALE=1 -fpic  -g -O2 -fdebug-prefix-map=/build/r-base-DdVjkr/r-base-4.3.2=. -fstack-protector-strong -Wformat -Werror=format-security -Wdate-time -D_FORTIFY_SOURCE=2  -c names.cpp -o names.o\n",
      "g++ -std=gnu++17 -I\"/usr/share/R/include\" -DNDEBUG  -I'/usr/local/lib/R/site-library/cpp11/include'    -I../inst/include -DINSTALL=dummy -DAUTO_DOWNLOAD=0 -DHAS_REMOTE_API=0 -DUSE_OS_TZDB=0 -DONLY_C_LOCALE=1 -fpic  -g -O2 -fdebug-prefix-map=/build/r-base-DdVjkr/r-base-4.3.2=. -fstack-protector-strong -Wformat -Werror=format-security -Wdate-time -D_FORTIFY_SOURCE=2  -c path.cpp -o path.o\n",
      "g++ -std=gnu++17 -I\"/usr/share/R/include\" -DNDEBUG  -I'/usr/local/lib/R/site-library/cpp11/include'    -I../inst/include -DINSTALL=dummy -DAUTO_DOWNLOAD=0 -DHAS_REMOTE_API=0 -DUSE_OS_TZDB=0 -DONLY_C_LOCALE=1 -fpic  -g -O2 -fdebug-prefix-map=/build/r-base-DdVjkr/r-base-4.3.2=. -fstack-protector-strong -Wformat -Werror=format-security -Wdate-time -D_FORTIFY_SOURCE=2  -c tz.cpp -o tz.o\n",
      "g++ -std=gnu++17 -I\"/usr/share/R/include\" -DNDEBUG  -I'/usr/local/lib/R/site-library/cpp11/include'    -I../inst/include -DINSTALL=dummy -DAUTO_DOWNLOAD=0 -DHAS_REMOTE_API=0 -DUSE_OS_TZDB=0 -DONLY_C_LOCALE=1 -fpic  -g -O2 -fdebug-prefix-map=/build/r-base-DdVjkr/r-base-4.3.2=. -fstack-protector-strong -Wformat -Werror=format-security -Wdate-time -D_FORTIFY_SOURCE=2  -c version.cpp -o version.o\n",
      "g++ -std=gnu++17 -shared -L/usr/lib/R/lib -Wl,-Bsymbolic-functions -Wl,-z,relro -o tzdb.so api.o cpp11.o names.o path.o tz.o version.o -L/usr/lib/R/lib -lR\n",
      "g++ -std=gnu++17 -I\"/usr/share/R/include\" -DNDEBUG -I. -I./cctz/src/ -I'/usr/local/lib/R/site-library/cpp11/include'     -fpic  -g -O2 -fdebug-prefix-map=/build/r-base-DdVjkr/r-base-4.3.2=. -fstack-protector-strong -Wformat -Werror=format-security -Wdate-time -D_FORTIFY_SOURCE=2  -c common.cpp -o common.o\n",
      "g++ -std=gnu++17 -I\"/usr/share/R/include\" -DNDEBUG -I. -I./cctz/src/ -I'/usr/local/lib/R/site-library/cpp11/include'     -fpic  -g -O2 -fdebug-prefix-map=/build/r-base-DdVjkr/r-base-4.3.2=. -fstack-protector-strong -Wformat -Werror=format-security -Wdate-time -D_FORTIFY_SOURCE=2  -c cpp11.cpp -o cpp11.o\n",
      "g++ -std=gnu++17 -I\"/usr/share/R/include\" -DNDEBUG -I. -I./cctz/src/ -I'/usr/local/lib/R/site-library/cpp11/include'     -fpic  -g -O2 -fdebug-prefix-map=/build/r-base-DdVjkr/r-base-4.3.2=. -fstack-protector-strong -Wformat -Werror=format-security -Wdate-time -D_FORTIFY_SOURCE=2  -c get.cpp -o get.o\n",
      "gcc -I\"/usr/share/R/include\" -DNDEBUG -I. -I./cctz/src/ -I'/usr/local/lib/R/site-library/cpp11/include'     -fpic  -g -O2 -fdebug-prefix-map=/build/r-base-DdVjkr/r-base-4.3.2=. -fstack-protector-strong -Wformat -Werror=format-security -Wdate-time -D_FORTIFY_SOURCE=2  -c parse.c -o parse.o\n",
      "g++ -std=gnu++17 -I\"/usr/share/R/include\" -DNDEBUG -I. -I./cctz/src/ -I'/usr/local/lib/R/site-library/cpp11/include'     -fpic  -g -O2 -fdebug-prefix-map=/build/r-base-DdVjkr/r-base-4.3.2=. -fstack-protector-strong -Wformat -Werror=format-security -Wdate-time -D_FORTIFY_SOURCE=2  -c round.cpp -o round.o\n",
      "g++ -std=gnu++17 -I\"/usr/share/R/include\" -DNDEBUG -I. -I./cctz/src/ -I'/usr/local/lib/R/site-library/cpp11/include'     -fpic  -g -O2 -fdebug-prefix-map=/build/r-base-DdVjkr/r-base-4.3.2=. -fstack-protector-strong -Wformat -Werror=format-security -Wdate-time -D_FORTIFY_SOURCE=2  -c tzone.cpp -o tzone.o\n",
      "g++ -std=gnu++17 -I\"/usr/share/R/include\" -DNDEBUG -I. -I./cctz/src/ -I'/usr/local/lib/R/site-library/cpp11/include'     -fpic  -g -O2 -fdebug-prefix-map=/build/r-base-DdVjkr/r-base-4.3.2=. -fstack-protector-strong -Wformat -Werror=format-security -Wdate-time -D_FORTIFY_SOURCE=2  -c update.cpp -o update.o\n",
      "g++ -std=gnu++17 -I\"/usr/share/R/include\" -DNDEBUG -I. -I./cctz/src/ -I'/usr/local/lib/R/site-library/cpp11/include'     -fpic  -g -O2 -fdebug-prefix-map=/build/r-base-DdVjkr/r-base-4.3.2=. -fstack-protector-strong -Wformat -Werror=format-security -Wdate-time -D_FORTIFY_SOURCE=2  -c cctz/src/time_zone_fixed.cc -o cctz/src/time_zone_fixed.o\n",
      "g++ -std=gnu++17 -I\"/usr/share/R/include\" -DNDEBUG -I. -I./cctz/src/ -I'/usr/local/lib/R/site-library/cpp11/include'     -fpic  -g -O2 -fdebug-prefix-map=/build/r-base-DdVjkr/r-base-4.3.2=. -fstack-protector-strong -Wformat -Werror=format-security -Wdate-time -D_FORTIFY_SOURCE=2  -c cctz/src/time_zone_if.cc -o cctz/src/time_zone_if.o\n",
      "g++ -std=gnu++17 -I\"/usr/share/R/include\" -DNDEBUG -I. -I./cctz/src/ -I'/usr/local/lib/R/site-library/cpp11/include'     -fpic  -g -O2 -fdebug-prefix-map=/build/r-base-DdVjkr/r-base-4.3.2=. -fstack-protector-strong -Wformat -Werror=format-security -Wdate-time -D_FORTIFY_SOURCE=2  -c cctz/src/time_zone_impl.cc -o cctz/src/time_zone_impl.o\n",
      "g++ -std=gnu++17 -I\"/usr/share/R/include\" -DNDEBUG -I. -I./cctz/src/ -I'/usr/local/lib/R/site-library/cpp11/include'     -fpic  -g -O2 -fdebug-prefix-map=/build/r-base-DdVjkr/r-base-4.3.2=. -fstack-protector-strong -Wformat -Werror=format-security -Wdate-time -D_FORTIFY_SOURCE=2  -c cctz/src/time_zone_info.cc -o cctz/src/time_zone_info.o\n",
      "g++ -std=gnu++17 -I\"/usr/share/R/include\" -DNDEBUG -I. -I./cctz/src/ -I'/usr/local/lib/R/site-library/cpp11/include'     -fpic  -g -O2 -fdebug-prefix-map=/build/r-base-DdVjkr/r-base-4.3.2=. -fstack-protector-strong -Wformat -Werror=format-security -Wdate-time -D_FORTIFY_SOURCE=2  -c cctz/src/time_zone_libc.cc -o cctz/src/time_zone_libc.o\n",
      "g++ -std=gnu++17 -I\"/usr/share/R/include\" -DNDEBUG -I. -I./cctz/src/ -I'/usr/local/lib/R/site-library/cpp11/include'     -fpic  -g -O2 -fdebug-prefix-map=/build/r-base-DdVjkr/r-base-4.3.2=. -fstack-protector-strong -Wformat -Werror=format-security -Wdate-time -D_FORTIFY_SOURCE=2  -c cctz/src/time_zone_lookup.cc -o cctz/src/time_zone_lookup.o\n",
      "g++ -std=gnu++17 -I\"/usr/share/R/include\" -DNDEBUG -I. -I./cctz/src/ -I'/usr/local/lib/R/site-library/cpp11/include'     -fpic  -g -O2 -fdebug-prefix-map=/build/r-base-DdVjkr/r-base-4.3.2=. -fstack-protector-strong -Wformat -Werror=format-security -Wdate-time -D_FORTIFY_SOURCE=2  -c cctz/src/time_zone_posix.cc -o cctz/src/time_zone_posix.o\n",
      "g++ -std=gnu++17 -I\"/usr/share/R/include\" -DNDEBUG -I. -I./cctz/src/ -I'/usr/local/lib/R/site-library/cpp11/include'     -fpic  -g -O2 -fdebug-prefix-map=/build/r-base-DdVjkr/r-base-4.3.2=. -fstack-protector-strong -Wformat -Werror=format-security -Wdate-time -D_FORTIFY_SOURCE=2  -c cctz/src/zone_info_source.cc -o cctz/src/zone_info_source.o\n",
      "ar rcs libcctz.a ./cctz/src/time_zone_fixed.o ./cctz/src/time_zone_if.o ./cctz/src/time_zone_impl.o ./cctz/src/time_zone_info.o ./cctz/src/time_zone_libc.o ./cctz/src/time_zone_lookup.o ./cctz/src/time_zone_posix.o ./cctz/src/zone_info_source.o\n",
      "g++ -std=gnu++17 -shared -L/usr/lib/R/lib -Wl,-Bsymbolic-functions -Wl,-z,relro -o timechange.so common.o cpp11.o get.o parse.o round.o tzone.o update.o -L. -lcctz -L/usr/lib/R/lib -lR\n",
      "gcc -I\"/usr/share/R/include\" -DNDEBUG  -I'/usr/local/lib/R/site-library/vctrs/include'     -fpic  -g -O2 -fdebug-prefix-map=/build/r-base-DdVjkr/r-base-4.3.2=. -fstack-protector-strong -Wformat -Werror=format-security -Wdate-time -D_FORTIFY_SOURCE=2  -c block.c -o block.o\n",
      "gcc -I\"/usr/share/R/include\" -DNDEBUG  -I'/usr/local/lib/R/site-library/vctrs/include'     -fpic  -g -O2 -fdebug-prefix-map=/build/r-base-DdVjkr/r-base-4.3.2=. -fstack-protector-strong -Wformat -Werror=format-security -Wdate-time -D_FORTIFY_SOURCE=2  -c hop.c -o hop.o\n",
      "gcc -I\"/usr/share/R/include\" -DNDEBUG  -I'/usr/local/lib/R/site-library/vctrs/include'     -fpic  -g -O2 -fdebug-prefix-map=/build/r-base-DdVjkr/r-base-4.3.2=. -fstack-protector-strong -Wformat -Werror=format-security -Wdate-time -D_FORTIFY_SOURCE=2  -c index.c -o index.o\n",
      "gcc -I\"/usr/share/R/include\" -DNDEBUG  -I'/usr/local/lib/R/site-library/vctrs/include'     -fpic  -g -O2 -fdebug-prefix-map=/build/r-base-DdVjkr/r-base-4.3.2=. -fstack-protector-strong -Wformat -Werror=format-security -Wdate-time -D_FORTIFY_SOURCE=2  -c init.c -o init.o\n",
      "gcc -I\"/usr/share/R/include\" -DNDEBUG  -I'/usr/local/lib/R/site-library/vctrs/include'     -fpic  -g -O2 -fdebug-prefix-map=/build/r-base-DdVjkr/r-base-4.3.2=. -fstack-protector-strong -Wformat -Werror=format-security -Wdate-time -D_FORTIFY_SOURCE=2  -c params.c -o params.o\n",
      "gcc -I\"/usr/share/R/include\" -DNDEBUG  -I'/usr/local/lib/R/site-library/vctrs/include'     -fpic  -g -O2 -fdebug-prefix-map=/build/r-base-DdVjkr/r-base-4.3.2=. -fstack-protector-strong -Wformat -Werror=format-security -Wdate-time -D_FORTIFY_SOURCE=2  -c segment-tree.c -o segment-tree.o\n",
      "gcc -I\"/usr/share/R/include\" -DNDEBUG  -I'/usr/local/lib/R/site-library/vctrs/include'     -fpic  -g -O2 -fdebug-prefix-map=/build/r-base-DdVjkr/r-base-4.3.2=. -fstack-protector-strong -Wformat -Werror=format-security -Wdate-time -D_FORTIFY_SOURCE=2  -c slide-period.c -o slide-period.o\n",
      "gcc -I\"/usr/share/R/include\" -DNDEBUG  -I'/usr/local/lib/R/site-library/vctrs/include'     -fpic  -g -O2 -fdebug-prefix-map=/build/r-base-DdVjkr/r-base-4.3.2=. -fstack-protector-strong -Wformat -Werror=format-security -Wdate-time -D_FORTIFY_SOURCE=2  -c slide.c -o slide.o\n",
      "gcc -I\"/usr/share/R/include\" -DNDEBUG  -I'/usr/local/lib/R/site-library/vctrs/include'     -fpic  -g -O2 -fdebug-prefix-map=/build/r-base-DdVjkr/r-base-4.3.2=. -fstack-protector-strong -Wformat -Werror=format-security -Wdate-time -D_FORTIFY_SOURCE=2  -c slider-vctrs-private.c -o slider-vctrs-private.o\n",
      "gcc -I\"/usr/share/R/include\" -DNDEBUG  -I'/usr/local/lib/R/site-library/vctrs/include'     -fpic  -g -O2 -fdebug-prefix-map=/build/r-base-DdVjkr/r-base-4.3.2=. -fstack-protector-strong -Wformat -Werror=format-security -Wdate-time -D_FORTIFY_SOURCE=2  -c slider-vctrs-public.c -o slider-vctrs-public.o\n",
      "g++ -std=gnu++17 -I\"/usr/share/R/include\" -DNDEBUG  -I'/usr/local/lib/R/site-library/vctrs/include'     -fpic  -g -O2 -fdebug-prefix-map=/build/r-base-DdVjkr/r-base-4.3.2=. -fstack-protector-strong -Wformat -Werror=format-security -Wdate-time -D_FORTIFY_SOURCE=2  -c summary-core-align.cpp -o summary-core-align.o\n",
      "gcc -I\"/usr/share/R/include\" -DNDEBUG  -I'/usr/local/lib/R/site-library/vctrs/include'     -fpic  -g -O2 -fdebug-prefix-map=/build/r-base-DdVjkr/r-base-4.3.2=. -fstack-protector-strong -Wformat -Werror=format-security -Wdate-time -D_FORTIFY_SOURCE=2  -c summary-index.c -o summary-index.o\n",
      "gcc -I\"/usr/share/R/include\" -DNDEBUG  -I'/usr/local/lib/R/site-library/vctrs/include'     -fpic  -g -O2 -fdebug-prefix-map=/build/r-base-DdVjkr/r-base-4.3.2=. -fstack-protector-strong -Wformat -Werror=format-security -Wdate-time -D_FORTIFY_SOURCE=2  -c summary-slide.c -o summary-slide.o\n",
      "gcc -I\"/usr/share/R/include\" -DNDEBUG  -I'/usr/local/lib/R/site-library/vctrs/include'     -fpic  -g -O2 -fdebug-prefix-map=/build/r-base-DdVjkr/r-base-4.3.2=. -fstack-protector-strong -Wformat -Werror=format-security -Wdate-time -D_FORTIFY_SOURCE=2  -c utils.c -o utils.o\n",
      "g++ -std=gnu++17 -shared -L/usr/lib/R/lib -Wl,-Bsymbolic-functions -Wl,-z,relro -o slider.so block.o hop.o index.o init.o params.o segment-tree.o slide-period.o slide.o slider-vctrs-private.o slider-vctrs-public.o summary-core-align.o summary-index.o summary-slide.o utils.o -L/usr/lib/R/lib -lR\n",
      "gcc -I\"/usr/share/R/include\" -DNDEBUG  -I'/usr/local/lib/R/site-library/cli/include'    -fvisibility=hidden -fpic  -g -O2 -fdebug-prefix-map=/build/r-base-DdVjkr/r-base-4.3.2=. -fstack-protector-strong -Wformat -Werror=format-security -Wdate-time -D_FORTIFY_SOURCE=2  -c backports.c -o backports.o\n",
      "gcc -I\"/usr/share/R/include\" -DNDEBUG  -I'/usr/local/lib/R/site-library/cli/include'    -fvisibility=hidden -fpic  -g -O2 -fdebug-prefix-map=/build/r-base-DdVjkr/r-base-4.3.2=. -fstack-protector-strong -Wformat -Werror=format-security -Wdate-time -D_FORTIFY_SOURCE=2  -c cleancall.c -o cleancall.o\n",
      "gcc -I\"/usr/share/R/include\" -DNDEBUG  -I'/usr/local/lib/R/site-library/cli/include'    -fvisibility=hidden -fpic  -g -O2 -fdebug-prefix-map=/build/r-base-DdVjkr/r-base-4.3.2=. -fstack-protector-strong -Wformat -Werror=format-security -Wdate-time -D_FORTIFY_SOURCE=2  -c coerce.c -o coerce.o\n",
      "gcc -I\"/usr/share/R/include\" -DNDEBUG  -I'/usr/local/lib/R/site-library/cli/include'    -fvisibility=hidden -fpic  -g -O2 -fdebug-prefix-map=/build/r-base-DdVjkr/r-base-4.3.2=. -fstack-protector-strong -Wformat -Werror=format-security -Wdate-time -D_FORTIFY_SOURCE=2  -c conditions.c -o conditions.o\n",
      "gcc -I\"/usr/share/R/include\" -DNDEBUG  -I'/usr/local/lib/R/site-library/cli/include'    -fvisibility=hidden -fpic  -g -O2 -fdebug-prefix-map=/build/r-base-DdVjkr/r-base-4.3.2=. -fstack-protector-strong -Wformat -Werror=format-security -Wdate-time -D_FORTIFY_SOURCE=2  -c flatten.c -o flatten.o\n",
      "gcc -I\"/usr/share/R/include\" -DNDEBUG  -I'/usr/local/lib/R/site-library/cli/include'    -fvisibility=hidden -fpic  -g -O2 -fdebug-prefix-map=/build/r-base-DdVjkr/r-base-4.3.2=. -fstack-protector-strong -Wformat -Werror=format-security -Wdate-time -D_FORTIFY_SOURCE=2  -c init.c -o init.o\n",
      "gcc -I\"/usr/share/R/include\" -DNDEBUG  -I'/usr/local/lib/R/site-library/cli/include'    -fvisibility=hidden -fpic  -g -O2 -fdebug-prefix-map=/build/r-base-DdVjkr/r-base-4.3.2=. -fstack-protector-strong -Wformat -Werror=format-security -Wdate-time -D_FORTIFY_SOURCE=2  -c map.c -o map.o\n",
      "gcc -I\"/usr/share/R/include\" -DNDEBUG  -I'/usr/local/lib/R/site-library/cli/include'    -fvisibility=hidden -fpic  -g -O2 -fdebug-prefix-map=/build/r-base-DdVjkr/r-base-4.3.2=. -fstack-protector-strong -Wformat -Werror=format-security -Wdate-time -D_FORTIFY_SOURCE=2  -c pluck.c -o pluck.o\n",
      "gcc -I\"/usr/share/R/include\" -DNDEBUG  -I'/usr/local/lib/R/site-library/cli/include'    -fvisibility=hidden -fpic  -g -O2 -fdebug-prefix-map=/build/r-base-DdVjkr/r-base-4.3.2=. -fstack-protector-strong -Wformat -Werror=format-security -Wdate-time -D_FORTIFY_SOURCE=2  -c transpose.c -o transpose.o\n",
      "gcc -I\"/usr/share/R/include\" -DNDEBUG  -I'/usr/local/lib/R/site-library/cli/include'    -fvisibility=hidden -fpic  -g -O2 -fdebug-prefix-map=/build/r-base-DdVjkr/r-base-4.3.2=. -fstack-protector-strong -Wformat -Werror=format-security -Wdate-time -D_FORTIFY_SOURCE=2  -c utils.c -o utils.o\n",
      "gcc -shared -L/usr/lib/R/lib -Wl,-Bsymbolic-functions -Wl,-z,relro -o purrr.so backports.o cleancall.o coerce.o conditions.o flatten.o init.o map.o pluck.o transpose.o utils.o -L/usr/lib/R/lib -lR\n",
      "g++ -std=gnu++17 -I\"/usr/share/R/include\" -DNDEBUG  -I'/usr/local/lib/R/site-library/cpp11/include' -I'/usr/local/lib/R/site-library/tzdb/include'     -fpic  -g -O2 -fdebug-prefix-map=/build/r-base-DdVjkr/r-base-4.3.2=. -fstack-protector-strong -Wformat -Werror=format-security -Wdate-time -D_FORTIFY_SOURCE=2  -c cpp11.cpp -o cpp11.o\n",
      "g++ -std=gnu++17 -I\"/usr/share/R/include\" -DNDEBUG  -I'/usr/local/lib/R/site-library/cpp11/include' -I'/usr/local/lib/R/site-library/tzdb/include'     -fpic  -g -O2 -fdebug-prefix-map=/build/r-base-DdVjkr/r-base-4.3.2=. -fstack-protector-strong -Wformat -Werror=format-security -Wdate-time -D_FORTIFY_SOURCE=2  -c duration.cpp -o duration.o\n",
      "g++ -std=gnu++17 -I\"/usr/share/R/include\" -DNDEBUG  -I'/usr/local/lib/R/site-library/cpp11/include' -I'/usr/local/lib/R/site-library/tzdb/include'     -fpic  -g -O2 -fdebug-prefix-map=/build/r-base-DdVjkr/r-base-4.3.2=. -fstack-protector-strong -Wformat -Werror=format-security -Wdate-time -D_FORTIFY_SOURCE=2  -c enums.cpp -o enums.o\n",
      "g++ -std=gnu++17 -I\"/usr/share/R/include\" -DNDEBUG  -I'/usr/local/lib/R/site-library/cpp11/include' -I'/usr/local/lib/R/site-library/tzdb/include'     -fpic  -g -O2 -fdebug-prefix-map=/build/r-base-DdVjkr/r-base-4.3.2=. -fstack-protector-strong -Wformat -Werror=format-security -Wdate-time -D_FORTIFY_SOURCE=2  -c format.cpp -o format.o\n",
      "g++ -std=gnu++17 -I\"/usr/share/R/include\" -DNDEBUG  -I'/usr/local/lib/R/site-library/cpp11/include' -I'/usr/local/lib/R/site-library/tzdb/include'     -fpic  -g -O2 -fdebug-prefix-map=/build/r-base-DdVjkr/r-base-4.3.2=. -fstack-protector-strong -Wformat -Werror=format-security -Wdate-time -D_FORTIFY_SOURCE=2  -c gregorian-year-day.cpp -o gregorian-year-day.o\n",
      "g++ -std=gnu++17 -I\"/usr/share/R/include\" -DNDEBUG  -I'/usr/local/lib/R/site-library/cpp11/include' -I'/usr/local/lib/R/site-library/tzdb/include'     -fpic  -g -O2 -fdebug-prefix-map=/build/r-base-DdVjkr/r-base-4.3.2=. -fstack-protector-strong -Wformat -Werror=format-security -Wdate-time -D_FORTIFY_SOURCE=2  -c gregorian-year-month-day.cpp -o gregorian-year-month-day.o\n",
      "g++ -std=gnu++17 -I\"/usr/share/R/include\" -DNDEBUG  -I'/usr/local/lib/R/site-library/cpp11/include' -I'/usr/local/lib/R/site-library/tzdb/include'     -fpic  -g -O2 -fdebug-prefix-map=/build/r-base-DdVjkr/r-base-4.3.2=. -fstack-protector-strong -Wformat -Werror=format-security -Wdate-time -D_FORTIFY_SOURCE=2  -c gregorian-year-month-weekday.cpp -o gregorian-year-month-weekday.o\n",
      "g++ -std=gnu++17 -I\"/usr/share/R/include\" -DNDEBUG  -I'/usr/local/lib/R/site-library/cpp11/include' -I'/usr/local/lib/R/site-library/tzdb/include'     -fpic  -g -O2 -fdebug-prefix-map=/build/r-base-DdVjkr/r-base-4.3.2=. -fstack-protector-strong -Wformat -Werror=format-security -Wdate-time -D_FORTIFY_SOURCE=2  -c iso-year-week-day.cpp -o iso-year-week-day.o\n",
      "g++ -std=gnu++17 -I\"/usr/share/R/include\" -DNDEBUG  -I'/usr/local/lib/R/site-library/cpp11/include' -I'/usr/local/lib/R/site-library/tzdb/include'     -fpic  -g -O2 -fdebug-prefix-map=/build/r-base-DdVjkr/r-base-4.3.2=. -fstack-protector-strong -Wformat -Werror=format-security -Wdate-time -D_FORTIFY_SOURCE=2  -c limits.cpp -o limits.o\n",
      "g++ -std=gnu++17 -I\"/usr/share/R/include\" -DNDEBUG  -I'/usr/local/lib/R/site-library/cpp11/include' -I'/usr/local/lib/R/site-library/tzdb/include'     -fpic  -g -O2 -fdebug-prefix-map=/build/r-base-DdVjkr/r-base-4.3.2=. -fstack-protector-strong -Wformat -Werror=format-security -Wdate-time -D_FORTIFY_SOURCE=2  -c naive-time.cpp -o naive-time.o\n",
      "g++ -std=gnu++17 -I\"/usr/share/R/include\" -DNDEBUG  -I'/usr/local/lib/R/site-library/cpp11/include' -I'/usr/local/lib/R/site-library/tzdb/include'     -fpic  -g -O2 -fdebug-prefix-map=/build/r-base-DdVjkr/r-base-4.3.2=. -fstack-protector-strong -Wformat -Werror=format-security -Wdate-time -D_FORTIFY_SOURCE=2  -c quarterly-year-quarter-day.cpp -o quarterly-year-quarter-day.o\n",
      "g++ -std=gnu++17 -I\"/usr/share/R/include\" -DNDEBUG  -I'/usr/local/lib/R/site-library/cpp11/include' -I'/usr/local/lib/R/site-library/tzdb/include'     -fpic  -g -O2 -fdebug-prefix-map=/build/r-base-DdVjkr/r-base-4.3.2=. -fstack-protector-strong -Wformat -Werror=format-security -Wdate-time -D_FORTIFY_SOURCE=2  -c rcrd.cpp -o rcrd.o\n",
      "g++ -std=gnu++17 -I\"/usr/share/R/include\" -DNDEBUG  -I'/usr/local/lib/R/site-library/cpp11/include' -I'/usr/local/lib/R/site-library/tzdb/include'     -fpic  -g -O2 -fdebug-prefix-map=/build/r-base-DdVjkr/r-base-4.3.2=. -fstack-protector-strong -Wformat -Werror=format-security -Wdate-time -D_FORTIFY_SOURCE=2  -c sys-time.cpp -o sys-time.o\n",
      "g++ -std=gnu++17 -I\"/usr/share/R/include\" -DNDEBUG  -I'/usr/local/lib/R/site-library/cpp11/include' -I'/usr/local/lib/R/site-library/tzdb/include'     -fpic  -g -O2 -fdebug-prefix-map=/build/r-base-DdVjkr/r-base-4.3.2=. -fstack-protector-strong -Wformat -Werror=format-security -Wdate-time -D_FORTIFY_SOURCE=2  -c time-point.cpp -o time-point.o\n",
      "g++ -std=gnu++17 -I\"/usr/share/R/include\" -DNDEBUG  -I'/usr/local/lib/R/site-library/cpp11/include' -I'/usr/local/lib/R/site-library/tzdb/include'     -fpic  -g -O2 -fdebug-prefix-map=/build/r-base-DdVjkr/r-base-4.3.2=. -fstack-protector-strong -Wformat -Werror=format-security -Wdate-time -D_FORTIFY_SOURCE=2  -c utils.cpp -o utils.o\n",
      "g++ -std=gnu++17 -I\"/usr/share/R/include\" -DNDEBUG  -I'/usr/local/lib/R/site-library/cpp11/include' -I'/usr/local/lib/R/site-library/tzdb/include'     -fpic  -g -O2 -fdebug-prefix-map=/build/r-base-DdVjkr/r-base-4.3.2=. -fstack-protector-strong -Wformat -Werror=format-security -Wdate-time -D_FORTIFY_SOURCE=2  -c week-year-week-day.cpp -o week-year-week-day.o\n",
      "g++ -std=gnu++17 -I\"/usr/share/R/include\" -DNDEBUG  -I'/usr/local/lib/R/site-library/cpp11/include' -I'/usr/local/lib/R/site-library/tzdb/include'     -fpic  -g -O2 -fdebug-prefix-map=/build/r-base-DdVjkr/r-base-4.3.2=. -fstack-protector-strong -Wformat -Werror=format-security -Wdate-time -D_FORTIFY_SOURCE=2  -c weekday.cpp -o weekday.o\n",
      "g++ -std=gnu++17 -I\"/usr/share/R/include\" -DNDEBUG  -I'/usr/local/lib/R/site-library/cpp11/include' -I'/usr/local/lib/R/site-library/tzdb/include'     -fpic  -g -O2 -fdebug-prefix-map=/build/r-base-DdVjkr/r-base-4.3.2=. -fstack-protector-strong -Wformat -Werror=format-security -Wdate-time -D_FORTIFY_SOURCE=2  -c zone.cpp -o zone.o\n",
      "g++ -std=gnu++17 -I\"/usr/share/R/include\" -DNDEBUG  -I'/usr/local/lib/R/site-library/cpp11/include' -I'/usr/local/lib/R/site-library/tzdb/include'     -fpic  -g -O2 -fdebug-prefix-map=/build/r-base-DdVjkr/r-base-4.3.2=. -fstack-protector-strong -Wformat -Werror=format-security -Wdate-time -D_FORTIFY_SOURCE=2  -c zoned-time.cpp -o zoned-time.o\n",
      "g++ -std=gnu++17 -shared -L/usr/lib/R/lib -Wl,-Bsymbolic-functions -Wl,-z,relro -o clock.so cpp11.o duration.o enums.o format.o gregorian-year-day.o gregorian-year-month-day.o gregorian-year-month-weekday.o iso-year-week-day.o limits.o naive-time.o quarterly-year-quarter-day.o rcrd.o sys-time.o time-point.o utils.o week-year-week-day.o weekday.o zone.o zoned-time.o -L/usr/lib/R/lib -lR\n",
      "gcc -I\"/usr/share/R/include\" -DNDEBUG       -fpic  -g -O2 -fdebug-prefix-map=/build/r-base-DdVjkr/r-base-4.3.2=. -fstack-protector-strong -Wformat -Werror=format-security -Wdate-time -D_FORTIFY_SOURCE=2  -c datetime.c -o datetime.o\n",
      "gcc -I\"/usr/share/R/include\" -DNDEBUG       -fpic  -g -O2 -fdebug-prefix-map=/build/r-base-DdVjkr/r-base-4.3.2=. -fstack-protector-strong -Wformat -Werror=format-security -Wdate-time -D_FORTIFY_SOURCE=2  -c init.c -o init.o\n",
      "gcc -I\"/usr/share/R/include\" -DNDEBUG       -fpic  -g -O2 -fdebug-prefix-map=/build/r-base-DdVjkr/r-base-4.3.2=. -fstack-protector-strong -Wformat -Werror=format-security -Wdate-time -D_FORTIFY_SOURCE=2  -c period.c -o period.o\n",
      "gcc -I\"/usr/share/R/include\" -DNDEBUG       -fpic  -g -O2 -fdebug-prefix-map=/build/r-base-DdVjkr/r-base-4.3.2=. -fstack-protector-strong -Wformat -Werror=format-security -Wdate-time -D_FORTIFY_SOURCE=2  -c tparse.c -o tparse.o\n",
      "gcc -I\"/usr/share/R/include\" -DNDEBUG       -fpic  -g -O2 -fdebug-prefix-map=/build/r-base-DdVjkr/r-base-4.3.2=. -fstack-protector-strong -Wformat -Werror=format-security -Wdate-time -D_FORTIFY_SOURCE=2  -c utils.c -o utils.o\n",
      "gcc -shared -L/usr/lib/R/lib -Wl,-Bsymbolic-functions -Wl,-z,relro -o lubridate.so datetime.o init.o period.o tparse.o utils.o -L/usr/lib/R/lib -lR\n",
      "gcc -I\"/usr/share/R/include\" -DNDEBUG       -fpic  -g -O2 -fdebug-prefix-map=/build/r-base-DdVjkr/r-base-4.3.2=. -fstack-protector-strong -Wformat -Werror=format-security -Wdate-time -D_FORTIFY_SOURCE=2  -c attributes.c -o attributes.o\n",
      "gcc -I\"/usr/share/R/include\" -DNDEBUG       -fpic  -g -O2 -fdebug-prefix-map=/build/r-base-DdVjkr/r-base-4.3.2=. -fstack-protector-strong -Wformat -Werror=format-security -Wdate-time -D_FORTIFY_SOURCE=2  -c coerce.c -o coerce.o\n",
      "gcc -I\"/usr/share/R/include\" -DNDEBUG       -fpic  -g -O2 -fdebug-prefix-map=/build/r-base-DdVjkr/r-base-4.3.2=. -fstack-protector-strong -Wformat -Werror=format-security -Wdate-time -D_FORTIFY_SOURCE=2  -c init.c -o init.o\n",
      "gcc -I\"/usr/share/R/include\" -DNDEBUG       -fpic  -g -O2 -fdebug-prefix-map=/build/r-base-DdVjkr/r-base-4.3.2=. -fstack-protector-strong -Wformat -Werror=format-security -Wdate-time -D_FORTIFY_SOURCE=2  -c matrixToDataFrame.c -o matrixToDataFrame.o\n",
      "gcc -shared -L/usr/lib/R/lib -Wl,-Bsymbolic-functions -Wl,-z,relro -o tibble.so attributes.o coerce.o init.o matrixToDataFrame.o -L/usr/lib/R/lib -lR\n",
      "g++ -std=gnu++17 -I\"/usr/share/R/include\" -DNDEBUG       -fpic  -g -O2 -fdebug-prefix-map=/build/r-base-DdVjkr/r-base-4.3.2=. -fstack-protector-strong -Wformat -Werror=format-security -Wdate-time -D_FORTIFY_SOURCE=2  -c chop.cpp -o chop.o\n",
      "g++ -std=gnu++17 -I\"/usr/share/R/include\" -DNDEBUG       -fpic  -g -O2 -fdebug-prefix-map=/build/r-base-DdVjkr/r-base-4.3.2=. -fstack-protector-strong -Wformat -Werror=format-security -Wdate-time -D_FORTIFY_SOURCE=2  -c filter.cpp -o filter.o\n",
      "g++ -std=gnu++17 -I\"/usr/share/R/include\" -DNDEBUG       -fpic  -g -O2 -fdebug-prefix-map=/build/r-base-DdVjkr/r-base-4.3.2=. -fstack-protector-strong -Wformat -Werror=format-security -Wdate-time -D_FORTIFY_SOURCE=2  -c funs.cpp -o funs.o\n",
      "g++ -std=gnu++17 -I\"/usr/share/R/include\" -DNDEBUG       -fpic  -g -O2 -fdebug-prefix-map=/build/r-base-DdVjkr/r-base-4.3.2=. -fstack-protector-strong -Wformat -Werror=format-security -Wdate-time -D_FORTIFY_SOURCE=2  -c group_by.cpp -o group_by.o\n",
      "g++ -std=gnu++17 -I\"/usr/share/R/include\" -DNDEBUG       -fpic  -g -O2 -fdebug-prefix-map=/build/r-base-DdVjkr/r-base-4.3.2=. -fstack-protector-strong -Wformat -Werror=format-security -Wdate-time -D_FORTIFY_SOURCE=2  -c group_data.cpp -o group_data.o\n",
      "g++ -std=gnu++17 -I\"/usr/share/R/include\" -DNDEBUG       -fpic  -g -O2 -fdebug-prefix-map=/build/r-base-DdVjkr/r-base-4.3.2=. -fstack-protector-strong -Wformat -Werror=format-security -Wdate-time -D_FORTIFY_SOURCE=2  -c imports.cpp -o imports.o\n",
      "g++ -std=gnu++17 -I\"/usr/share/R/include\" -DNDEBUG       -fpic  -g -O2 -fdebug-prefix-map=/build/r-base-DdVjkr/r-base-4.3.2=. -fstack-protector-strong -Wformat -Werror=format-security -Wdate-time -D_FORTIFY_SOURCE=2  -c init.cpp -o init.o\n",
      "g++ -std=gnu++17 -I\"/usr/share/R/include\" -DNDEBUG       -fpic  -g -O2 -fdebug-prefix-map=/build/r-base-DdVjkr/r-base-4.3.2=. -fstack-protector-strong -Wformat -Werror=format-security -Wdate-time -D_FORTIFY_SOURCE=2  -c mask.cpp -o mask.o\n",
      "g++ -std=gnu++17 -I\"/usr/share/R/include\" -DNDEBUG       -fpic  -g -O2 -fdebug-prefix-map=/build/r-base-DdVjkr/r-base-4.3.2=. -fstack-protector-strong -Wformat -Werror=format-security -Wdate-time -D_FORTIFY_SOURCE=2  -c mutate.cpp -o mutate.o\n",
      "g++ -std=gnu++17 -I\"/usr/share/R/include\" -DNDEBUG       -fpic  -g -O2 -fdebug-prefix-map=/build/r-base-DdVjkr/r-base-4.3.2=. -fstack-protector-strong -Wformat -Werror=format-security -Wdate-time -D_FORTIFY_SOURCE=2  -c reconstruct.cpp -o reconstruct.o\n",
      "g++ -std=gnu++17 -I\"/usr/share/R/include\" -DNDEBUG       -fpic  -g -O2 -fdebug-prefix-map=/build/r-base-DdVjkr/r-base-4.3.2=. -fstack-protector-strong -Wformat -Werror=format-security -Wdate-time -D_FORTIFY_SOURCE=2  -c slice.cpp -o slice.o\n",
      "g++ -std=gnu++17 -I\"/usr/share/R/include\" -DNDEBUG       -fpic  -g -O2 -fdebug-prefix-map=/build/r-base-DdVjkr/r-base-4.3.2=. -fstack-protector-strong -Wformat -Werror=format-security -Wdate-time -D_FORTIFY_SOURCE=2  -c summarise.cpp -o summarise.o\n",
      "g++ -std=gnu++17 -shared -L/usr/lib/R/lib -Wl,-Bsymbolic-functions -Wl,-z,relro -o dplyr.so chop.o filter.o funs.o group_by.o group_data.o imports.o init.o mask.o mutate.o reconstruct.o slice.o summarise.o -L/usr/lib/R/lib -lR\n",
      "gcc -I\"/usr/share/R/include\" -DNDEBUG  -I'/usr/local/lib/R/site-library/Rcpp/include'     -fpic  -g -O2 -fdebug-prefix-map=/build/r-base-DdVjkr/r-base-4.3.2=. -fstack-protector-strong -Wformat -Werror=format-security -Wdate-time -D_FORTIFY_SOURCE=2  -c GMLE.c -o GMLE.o\n",
      "gcc -I\"/usr/share/R/include\" -DNDEBUG  -I'/usr/local/lib/R/site-library/Rcpp/include'     -fpic  -g -O2 -fdebug-prefix-map=/build/r-base-DdVjkr/r-base-4.3.2=. -fstack-protector-strong -Wformat -Werror=format-security -Wdate-time -D_FORTIFY_SOURCE=2  -c IntIndex.c -o IntIndex.o\n",
      "gcc -I\"/usr/share/R/include\" -DNDEBUG  -I'/usr/local/lib/R/site-library/Rcpp/include'     -fpic  -g -O2 -fdebug-prefix-map=/build/r-base-DdVjkr/r-base-4.3.2=. -fstack-protector-strong -Wformat -Werror=format-security -Wdate-time -D_FORTIFY_SOURCE=2  -c icens_prodlim.c -o icens_prodlim.o\n",
      "gcc -I\"/usr/share/R/include\" -DNDEBUG  -I'/usr/local/lib/R/site-library/Rcpp/include'     -fpic  -g -O2 -fdebug-prefix-map=/build/r-base-DdVjkr/r-base-4.3.2=. -fstack-protector-strong -Wformat -Werror=format-security -Wdate-time -D_FORTIFY_SOURCE=2  -c icens_prodlim_ml.c -o icens_prodlim_ml.o\n",
      "gcc -I\"/usr/share/R/include\" -DNDEBUG  -I'/usr/local/lib/R/site-library/Rcpp/include'     -fpic  -g -O2 -fdebug-prefix-map=/build/r-base-DdVjkr/r-base-4.3.2=. -fstack-protector-strong -Wformat -Werror=format-security -Wdate-time -D_FORTIFY_SOURCE=2  -c iindex.c -o iindex.o\n",
      "gcc -I\"/usr/share/R/include\" -DNDEBUG  -I'/usr/local/lib/R/site-library/Rcpp/include'     -fpic  -g -O2 -fdebug-prefix-map=/build/r-base-DdVjkr/r-base-4.3.2=. -fstack-protector-strong -Wformat -Werror=format-security -Wdate-time -D_FORTIFY_SOURCE=2  -c init.c -o init.o\n",
      "gcc -I\"/usr/share/R/include\" -DNDEBUG  -I'/usr/local/lib/R/site-library/Rcpp/include'     -fpic  -g -O2 -fdebug-prefix-map=/build/r-base-DdVjkr/r-base-4.3.2=. -fstack-protector-strong -Wformat -Werror=format-security -Wdate-time -D_FORTIFY_SOURCE=2  -c life_table.c -o life_table.o\n",
      "gcc -I\"/usr/share/R/include\" -DNDEBUG  -I'/usr/local/lib/R/site-library/Rcpp/include'     -fpic  -g -O2 -fdebug-prefix-map=/build/r-base-DdVjkr/r-base-4.3.2=. -fstack-protector-strong -Wformat -Werror=format-security -Wdate-time -D_FORTIFY_SOURCE=2  -c loo.c -o loo.o\n",
      "gcc -I\"/usr/share/R/include\" -DNDEBUG  -I'/usr/local/lib/R/site-library/Rcpp/include'     -fpic  -g -O2 -fdebug-prefix-map=/build/r-base-DdVjkr/r-base-4.3.2=. -fstack-protector-strong -Wformat -Werror=format-security -Wdate-time -D_FORTIFY_SOURCE=2  -c neighborhood.c -o neighborhood.o\n",
      "gcc -I\"/usr/share/R/include\" -DNDEBUG  -I'/usr/local/lib/R/site-library/Rcpp/include'     -fpic  -g -O2 -fdebug-prefix-map=/build/r-base-DdVjkr/r-base-4.3.2=. -fstack-protector-strong -Wformat -Werror=format-security -Wdate-time -D_FORTIFY_SOURCE=2  -c predict.c -o predict.o\n",
      "gcc -I\"/usr/share/R/include\" -DNDEBUG  -I'/usr/local/lib/R/site-library/Rcpp/include'     -fpic  -g -O2 -fdebug-prefix-map=/build/r-base-DdVjkr/r-base-4.3.2=. -fstack-protector-strong -Wformat -Werror=format-security -Wdate-time -D_FORTIFY_SOURCE=2  -c predict_individual_survival.c -o predict_individual_survival.o\n",
      "gcc -I\"/usr/share/R/include\" -DNDEBUG  -I'/usr/local/lib/R/site-library/Rcpp/include'     -fpic  -g -O2 -fdebug-prefix-map=/build/r-base-DdVjkr/r-base-4.3.2=. -fstack-protector-strong -Wformat -Werror=format-security -Wdate-time -D_FORTIFY_SOURCE=2  -c prodlim.c -o prodlim.o\n",
      "gcc -I\"/usr/share/R/include\" -DNDEBUG  -I'/usr/local/lib/R/site-library/Rcpp/include'     -fpic  -g -O2 -fdebug-prefix-map=/build/r-base-DdVjkr/r-base-4.3.2=. -fstack-protector-strong -Wformat -Werror=format-security -Wdate-time -D_FORTIFY_SOURCE=2  -c prodlim_clustersurv.c -o prodlim_clustersurv.o\n",
      "gcc -I\"/usr/share/R/include\" -DNDEBUG  -I'/usr/local/lib/R/site-library/Rcpp/include'     -fpic  -g -O2 -fdebug-prefix-map=/build/r-base-DdVjkr/r-base-4.3.2=. -fstack-protector-strong -Wformat -Werror=format-security -Wdate-time -D_FORTIFY_SOURCE=2  -c prodlim_comprisk.c -o prodlim_comprisk.o\n",
      "gcc -I\"/usr/share/R/include\" -DNDEBUG  -I'/usr/local/lib/R/site-library/Rcpp/include'     -fpic  -g -O2 -fdebug-prefix-map=/build/r-base-DdVjkr/r-base-4.3.2=. -fstack-protector-strong -Wformat -Werror=format-security -Wdate-time -D_FORTIFY_SOURCE=2  -c prodlim_multistates.c -o prodlim_multistates.o\n",
      "gcc -I\"/usr/share/R/include\" -DNDEBUG  -I'/usr/local/lib/R/site-library/Rcpp/include'     -fpic  -g -O2 -fdebug-prefix-map=/build/r-base-DdVjkr/r-base-4.3.2=. -fstack-protector-strong -Wformat -Werror=format-security -Wdate-time -D_FORTIFY_SOURCE=2  -c prodlim_surv.c -o prodlim_surv.o\n",
      "gcc -I\"/usr/share/R/include\" -DNDEBUG  -I'/usr/local/lib/R/site-library/Rcpp/include'     -fpic  -g -O2 -fdebug-prefix-map=/build/r-base-DdVjkr/r-base-4.3.2=. -fstack-protector-strong -Wformat -Werror=format-security -Wdate-time -D_FORTIFY_SOURCE=2  -c sindex.c -o sindex.o\n",
      "gcc -I\"/usr/share/R/include\" -DNDEBUG  -I'/usr/local/lib/R/site-library/Rcpp/include'     -fpic  -g -O2 -fdebug-prefix-map=/build/r-base-DdVjkr/r-base-4.3.2=. -fstack-protector-strong -Wformat -Werror=format-security -Wdate-time -D_FORTIFY_SOURCE=2  -c summary_prodlim.c -o summary_prodlim.o\n",
      "gcc -shared -L/usr/lib/R/lib -Wl,-Bsymbolic-functions -Wl,-z,relro -o prodlim.so GMLE.o IntIndex.o icens_prodlim.o icens_prodlim_ml.o iindex.o init.o life_table.o loo.o neighborhood.o predict.o predict_individual_survival.o prodlim.o prodlim_clustersurv.o prodlim_comprisk.o prodlim_multistates.o prodlim_surv.o sindex.o summary_prodlim.o -L/usr/lib/R/lib -lR\n",
      "g++ -std=gnu++17 -I\"/usr/share/R/include\" -DNDEBUG  -I'/usr/local/lib/R/site-library/cpp11/include'     -fpic  -g -O2 -fdebug-prefix-map=/build/r-base-DdVjkr/r-base-4.3.2=. -fstack-protector-strong -Wformat -Werror=format-security -Wdate-time -D_FORTIFY_SOURCE=2  -c cpp11.cpp -o cpp11.o\n",
      "g++ -std=gnu++17 -I\"/usr/share/R/include\" -DNDEBUG  -I'/usr/local/lib/R/site-library/cpp11/include'     -fpic  -g -O2 -fdebug-prefix-map=/build/r-base-DdVjkr/r-base-4.3.2=. -fstack-protector-strong -Wformat -Werror=format-security -Wdate-time -D_FORTIFY_SOURCE=2  -c melt.cpp -o melt.o\n",
      "g++ -std=gnu++17 -I\"/usr/share/R/include\" -DNDEBUG  -I'/usr/local/lib/R/site-library/cpp11/include'     -fpic  -g -O2 -fdebug-prefix-map=/build/r-base-DdVjkr/r-base-4.3.2=. -fstack-protector-strong -Wformat -Werror=format-security -Wdate-time -D_FORTIFY_SOURCE=2  -c simplifyPieces.cpp -o simplifyPieces.o\n",
      "g++ -std=gnu++17 -shared -L/usr/lib/R/lib -Wl,-Bsymbolic-functions -Wl,-z,relro -o tidyr.so cpp11.o melt.o simplifyPieces.o -L/usr/lib/R/lib -lR\n",
      "gcc -I\"/usr/share/R/include\" -DNDEBUG       -fpic  -g -O2 -fdebug-prefix-map=/build/r-base-DdVjkr/r-base-4.3.2=. -fstack-protector-strong -Wformat -Werror=format-security -Wdate-time -D_FORTIFY_SOURCE=2  -c init.c -o init.o\n",
      "gcc -I\"/usr/share/R/include\" -DNDEBUG       -fpic  -g -O2 -fdebug-prefix-map=/build/r-base-DdVjkr/r-base-4.3.2=. -fstack-protector-strong -Wformat -Werror=format-security -Wdate-time -D_FORTIFY_SOURCE=2  -c mcc-multiclass.c -o mcc-multiclass.o\n",
      "gcc -shared -L/usr/lib/R/lib -Wl,-Bsymbolic-functions -Wl,-z,relro -o yardstick.so init.o mcc-multiclass.o -L/usr/lib/R/lib -lR\n",
      "gcc -I\"/usr/share/R/include\" -DNDEBUG       -fpic  -g -O2 -fdebug-prefix-map=/build/r-base-DdVjkr/r-base-4.3.2=. -fstack-protector-strong -Wformat -Werror=format-security -Wdate-time -D_FORTIFY_SOURCE=2  -c SdiffKM.c -o SdiffKM.o\n",
      "gcc -I\"/usr/share/R/include\" -DNDEBUG       -fpic  -g -O2 -fdebug-prefix-map=/build/r-base-DdVjkr/r-base-4.3.2=. -fstack-protector-strong -Wformat -Werror=format-security -Wdate-time -D_FORTIFY_SOURCE=2  -c init.c -o init.o\n",
      "gcc -shared -L/usr/lib/R/lib -Wl,-Bsymbolic-functions -Wl,-z,relro -o ipred.so SdiffKM.o init.o -L/usr/lib/R/lib -lR\n"
     ]
    }
   ],
   "source": [
    "analogsea::install_r_package(mydrop, \"tidymodels\")\n"
   ]
  },
  {
   "cell_type": "code",
   "execution_count": 13,
   "metadata": {
    "vscode": {
     "languageId": "r"
    }
   },
   "outputs": [],
   "source": [
    "my_droplets <- droplets()\n"
   ]
  },
  {
   "cell_type": "code",
   "execution_count": 16,
   "metadata": {
    "vscode": {
     "languageId": "r"
    }
   },
   "outputs": [
    {
     "name": "stdout",
     "output_type": "stream",
     "text": [
      "[1] 402097016\n"
     ]
    }
   ],
   "source": [
    "droplet_id <- my_droplets[[2]]$id\n",
    "\n",
    "print(droplet_id)\n"
   ]
  },
  {
   "cell_type": "code",
   "execution_count": 33,
   "metadata": {
    "vscode": {
     "languageId": "r"
    }
   },
   "outputs": [
    {
     "name": "stdout",
     "output_type": "stream",
     "text": [
      "[100%] /Users/egbonjefri/Documents/AI4PH/AI4PH-R/1. AI4PH_example.Rmd\n",
      "[100%] /Users/egbonjefri/Documents/AI4PH/AI4PH-R/2. AI4PH_assignment.Rmd\n",
      "[100%] /Users/egbonjefri/Documents/AI4PH/AI4PH-R/AI4PH_assignment_JefferyOsagie.ipynb\n",
      "[100%] /Users/egbonjefri/Documents/AI4PH/AI4PH-R/README.md\n",
      "[100%] /Users/egbonjefri/Documents/AI4PH/AI4PH-R/Slides - R tidymodels.pdf\n",
      "[100%] /Users/egbonjefri/Documents/AI4PH/AI4PH-R/harmonized_valid_data.rds\n",
      "[100%] /Users/egbonjefri/Documents/AI4PH/AI4PH-R/plumber.R\n",
      "[100%] /Users/egbonjefri/Documents/AI4PH/AI4PH-R/stroke_lr_workflow.rds\n",
      "[100%] /Users/egbonjefri/Documents/AI4PH/AI4PH-R/test.ipynb\n",
      "[100%] /Users/egbonjefri/Documents/AI4PH/AI4PH-R/train_data.rds\n",
      "[100%] /Users/egbonjefri/Documents/AI4PH/AI4PH-R/train_data_variables.csv\n",
      "[100%] /Users/egbonjefri/Documents/AI4PH/AI4PH-R/valid_data.rds\n",
      "/tmp/FFRITGASRH\n",
      "[100%] /private/var/folders/ng/bfs35ydn42962y8dwfygx2nw0000gn/T/Rtmp9hakgO/file174840e74f64\n",
      "/etc/systemd/system/plumber-mydrop.service\n",
      "<e2><97><8f> plumber-mydrop.service - Plumber API\n",
      "     Loaded: loaded (/etc/systemd/system/plumber-mydrop.service; enabled; vendor preset: enabled)\n",
      "     Active: active (running) since Mon 2024-02-19 11:42:59 UTC; 2s ago\n",
      "   Main PID: 70102 (R)\n",
      "      Tasks: 2 (limit: 1131)\n",
      "     Memory: 181.4M\n",
      "     CGroup: /system.slice/plumber-mydrop.service\n",
      "             <e2><94><94><e2><94><80>70102 /usr/lib/R/bin/exec/R --no-echo --no-restore -e pr~+~<-~+~plumber::pr('/var/plumber/mydrop/plumber.R');~+~pr$setDocs(TRUE);~+~~+~pr$run(port=8000)\n",
      "[100%] /private/var/folders/ng/bfs35ydn42962y8dwfygx2nw0000gn/T/Rtmp9hakgO/file1748120d4f86\n",
      "/etc/nginx/sites-available/plumber-apis/mydrop.conf\n"
     ]
    },
    {
     "name": "stderr",
     "output_type": "stream",
     "text": [
      "Navigate to droplet likely not up yet/mydrop/__docs__/ to access api documentation.\n",
      "\n"
     ]
    }
   ],
   "source": [
    "plumberDeploy::do_deploy_api(droplet_id, \"mydrop\", \".\", 8000, docs = TRUE)\n"
   ]
  }
 ],
 "metadata": {
  "kernelspec": {
   "display_name": "R",
   "language": "R",
   "name": "ir"
  },
  "language_info": {
   "codemirror_mode": "r",
   "file_extension": ".r",
   "mimetype": "text/x-r-source",
   "name": "R",
   "pygments_lexer": "r",
   "version": "4.3.2"
  }
 },
 "nbformat": 4,
 "nbformat_minor": 2
}
